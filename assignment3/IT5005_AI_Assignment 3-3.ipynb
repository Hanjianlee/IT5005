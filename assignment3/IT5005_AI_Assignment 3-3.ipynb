{
 "cells": [
  {
   "cell_type": "markdown",
   "metadata": {},
   "source": [
    "# Assignment 3 - Reinforcement Learning"
   ]
  },
  {
   "cell_type": "markdown",
   "metadata": {},
   "source": [
    "## GridWorlds\n",
    "\n",
    "This assignment involves finding optimal policies for two grid worlds (CliffWalking and WindyGridWorld) using SARSA and Q learning. Details about WindyGridWorld (Example 6.5) and CliffWalking (Example 6.6) can be found in the following link.\n",
    "    \n",
    "    http://incompleteideas.net/book/RLbook2020.pdf\n",
    "\n",
    "\n",
    "You need gym (version 0.18) and numpy (version 1.20.1) for this assignment. The environment for both problems are provided. \n",
    "\n",
    "For Windy Grid World environemnt you also need the file 'WindyGridWorld.py'. \n",
    "\n",
    "### Task 1: Learning [5 Marks]\n",
    "\n",
    "You only need to write the codes for SARSA and Q-learning algorithms. Then do the learning in both 'CliffWalking' and 'Windy Grid World' environments. \n",
    "\n",
    "### Task 2: Analysis [5 Marks]   \n",
    "\n",
    "1. Calculate the average return across the episodes. It gives you a measure of the performance of the algorithm while learning.  \n",
    "\n",
    "2. Calculate the return after convergence. It gives you a measure of the performance after the learning is completed. \n",
    "\n",
    "3. What do you observe from these results?"
   ]
  },
  {
   "cell_type": "markdown",
   "metadata": {},
   "source": [
    "Install the necessary packages"
   ]
  },
  {
   "cell_type": "code",
   "execution_count": null,
   "metadata": {},
   "outputs": [],
   "source": [
    "!pip install gym==0.22\n",
    "!pip install numpy==1.20.1\n",
    "!pip install tqdm \n",
    "!pip install pygame"
   ]
  },
  {
   "cell_type": "markdown",
   "metadata": {},
   "source": [
    "# Task 1: Learning\n",
    "## Task 1a: Learning in CliffWalking Environment"
   ]
  },
  {
   "cell_type": "markdown",
   "metadata": {},
   "source": [
    "### Environment for CliffWalking\n",
    "\n",
    "The board is a 4x12 matrix, with (using NumPy matrix indexing):\n",
    "    [3, 0] as the start at bottom-left\n",
    "    [3, 11] as the goal at bottom-right\n",
    "    [3, 1..10] as the cliff at bottom-center\n",
    "\n",
    "Each time step incurs -1 reward, and stepping into the cliff incurs -100 reward\n",
    "and a reset to the start. If an action would take you off the grid, you remain in the previous state.\n",
    "An episode terminates when the agent reaches the goal.\n"
   ]
  },
  {
   "cell_type": "code",
   "execution_count": 3,
   "metadata": {},
   "outputs": [
    {
     "name": "stderr",
     "output_type": "stream",
     "text": [
      "\n"
     ]
    },
    {
     "name": "stdout",
     "output_type": "stream",
     "text": [
      "o  o  o  o  o  o  o  o  o  o  o  o\n",
      "o  o  o  o  o  o  o  o  o  o  o  o\n",
      "o  o  o  o  o  o  o  o  o  o  o  o\n",
      "x  C  C  C  C  C  C  C  C  C  C  T\n",
      "\n"
     ]
    }
   ],
   "source": [
    "\n",
    "import gym\n",
    "import numpy as np\n",
    "from tqdm import tqdm \n",
    "\n",
    "env = gym.make('CliffWalking-v0') # Create the environment #render_mode=\"human\"  human, ansi, \n",
    "env.reset() # reset environment to a new, random state\n",
    "env.render() # Renders the environment for visualization"
   ]
  },
  {
   "cell_type": "markdown",
   "metadata": {},
   "source": [
    "Here _x_ is the location of the agent, *o* are possible places to go to, *C* is the cliff, and *T* is the target."
   ]
  },
  {
   "cell_type": "code",
   "execution_count": 4,
   "metadata": {},
   "outputs": [
    {
     "name": "stdout",
     "output_type": "stream",
     "text": [
      "Number of actions:  4\n",
      "Number of states:  48\n"
     ]
    }
   ],
   "source": [
    "num_actions = env.action_space.n \n",
    "num_states = env.observation_space.n \n",
    "\n",
    "print(\"Number of actions: \", num_actions)\n",
    "print(\"Number of states: \", num_states)"
   ]
  },
  {
   "cell_type": "code",
   "execution_count": 5,
   "metadata": {},
   "outputs": [
    {
     "name": "stdout",
     "output_type": "stream",
     "text": [
      "o  o  o  o  o  o  o  o  o  o  o  o\n",
      "o  o  o  o  o  o  o  o  o  o  o  o\n",
      "x  o  o  o  o  o  o  o  o  o  o  o\n",
      "o  C  C  C  C  C  C  C  C  C  C  T\n",
      "\n"
     ]
    }
   ],
   "source": [
    "action = 0 # Move up\n",
    "a = env.step(action) # This is the function we use to interact with the environment\n",
    "env.render() # Renders the environment for visualization"
   ]
  },
  {
   "cell_type": "code",
   "execution_count": 6,
   "metadata": {},
   "outputs": [
    {
     "name": "stdout",
     "output_type": "stream",
     "text": [
      "Action:  0\n",
      "Next state:  24\n",
      "Reward:  -1\n",
      "Done:  False\n",
      "o  o  o  o  o  o  o  o  o  o  o  o\n",
      "o  o  o  o  o  o  o  o  o  o  o  o\n",
      "x  o  o  o  o  o  o  o  o  o  o  o\n",
      "o  C  C  C  C  C  C  C  C  C  C  T\n",
      "\n",
      "Action:  1\n",
      "Next state:  25\n",
      "Reward:  -1\n",
      "Done:  False\n",
      "o  o  o  o  o  o  o  o  o  o  o  o\n",
      "o  o  o  o  o  o  o  o  o  o  o  o\n",
      "o  x  o  o  o  o  o  o  o  o  o  o\n",
      "o  C  C  C  C  C  C  C  C  C  C  T\n",
      "\n",
      "Action:  2\n",
      "Next state:  36\n",
      "Reward:  -100\n",
      "Done:  False\n",
      "o  o  o  o  o  o  o  o  o  o  o  o\n",
      "o  o  o  o  o  o  o  o  o  o  o  o\n",
      "o  o  o  o  o  o  o  o  o  o  o  o\n",
      "x  C  C  C  C  C  C  C  C  C  C  T\n",
      "\n",
      "Action:  3\n",
      "Next state:  36\n",
      "Reward:  -1\n",
      "Done:  False\n",
      "o  o  o  o  o  o  o  o  o  o  o  o\n",
      "o  o  o  o  o  o  o  o  o  o  o  o\n",
      "o  o  o  o  o  o  o  o  o  o  o  o\n",
      "x  C  C  C  C  C  C  C  C  C  C  T\n",
      "\n"
     ]
    },
    {
     "data": {
      "text/plain": [
       "36"
      ]
     },
     "execution_count": 6,
     "metadata": {},
     "output_type": "execute_result"
    }
   ],
   "source": [
    "# 0 -> UP, 1 -> RIGHT, 2 -> DOWN, 3 -> LEFT\n",
    "env.reset()\n",
    "import time\n",
    "for action in [0, 1, 2, 3]:\n",
    "    print(\"Action: \", action)\n",
    "    time.sleep(1)\n",
    "    next_state, reward, is_done, info = env.step(action)     # next_state, reward, is_done, info\n",
    "    print(\"Next state: \", next_state)\n",
    "    print(\"Reward: \", reward)\n",
    "    print(\"Done: \",is_done)\n",
    "    env.render()\n",
    "env.reset()"
   ]
  },
  {
   "cell_type": "markdown",
   "metadata": {},
   "source": [
    "As you can see above, each non-terminal action has a reward of -1. 0 -> UP, 1 -> RIGHT, 2 -> DOWN, 3 -> LEFT. The moment the agent falls off the cliff the reward becomes -100 and the agent resets to the start."
   ]
  },
  {
   "cell_type": "code",
   "execution_count": 7,
   "metadata": {},
   "outputs": [],
   "source": [
    "# Initialize values \n",
    "num_episodes = 500\n",
    "lr = 0.85 # Learning Rate\n",
    "epsilon = 0.1"
   ]
  },
  {
   "cell_type": "code",
   "execution_count": 8,
   "metadata": {},
   "outputs": [],
   "source": [
    "# Initialize Q function - a simplified version is used here \n",
    "# in reality the number of states may be unknown and all states may not be reachable \n",
    "\n",
    "# hint: use num_states as the key to a dictionary of lists\n",
    "Q = np.zeros((num_states, num_actions))"
   ]
  },
  {
   "cell_type": "code",
   "execution_count": 9,
   "metadata": {},
   "outputs": [],
   "source": [
    "def behavioral_policy(state, Q, num_actions, epsilon):\n",
    "    # Implement the epsilon-greedy policy\n",
    "    # Don't forget the epsilon-greedy idea\n",
    "    probs =  np.ones(num_actions,dtype = float) * epsilon / num_actions\n",
    "    best_action = np.argmax(Q[state])\n",
    "    probs[best_action] += (1.0 - epsilon)\n",
    "    \n",
    "    action = np.argmax(np.random.multinomial(1, probs, size=1)[0])\n",
    "    return action"
   ]
  },
  {
   "cell_type": "code",
   "execution_count": 10,
   "metadata": {},
   "outputs": [
    {
     "name": "stdout",
     "output_type": "stream",
     "text": [
      "0\n",
      "0\n",
      "0\n",
      "2\n",
      "1\n",
      "0\n",
      "0\n",
      "0\n",
      "3\n",
      "3\n"
     ]
    }
   ],
   "source": [
    "# You can use this to check if your algorithm is correct\n",
    "for i in range(10):\n",
    "    print(behavioral_policy(0, Q, num_actions, 0.8))"
   ]
  },
  {
   "cell_type": "markdown",
   "metadata": {},
   "source": [
    "### SARSA Learning "
   ]
  },
  {
   "cell_type": "code",
   "execution_count": 11,
   "metadata": {},
   "outputs": [],
   "source": [
    "\n",
    "\n",
    "def sarsa(env, Q, num_actions, num_episodes, epsilon, lr):\n",
    "    # Given to students\n",
    "    episode_length = [0] * num_episodes\n",
    "    total_reward_episode = [0] * num_episodes\n",
    "\n",
    "    for episode in tqdm(range(num_episodes)):\n",
    "        state = env.reset()\n",
    "        is_done = False\n",
    "        # Implement SARSA\n",
    "        action = behavioral_policy(state, Q, num_actions, epsilon)\n",
    "        while not is_done:\n",
    "            state_2, reward, done, _ = env.step(action)\n",
    "            action_2 = behavioral_policy(state_2, Q, num_actions, epsilon)\n",
    "            predict = Q[state, action]\n",
    "            target = reward +  Q[state_2, action_2] # gamma = 1 \n",
    "            Q[state, action] = Q[state, action] + lr * (target - predict)\n",
    "\n",
    "            episode_length[episode] += 1\n",
    "            total_reward_episode[episode] += reward\n",
    "            state = state_2\n",
    "            action = action_2\n",
    "            is_done = done\n",
    "    policy = {}\n",
    "    # Write code here as well\n",
    "    # Hint: use np.argmax\n",
    "\n",
    "    return Q, policy, {\"rewards\": total_reward_episode, \"length\": episode_length}"
   ]
  },
  {
   "cell_type": "code",
   "execution_count": 12,
   "metadata": {},
   "outputs": [
    {
     "name": "stderr",
     "output_type": "stream",
     "text": [
      "100%|██████████| 500/500 [00:01<00:00, 309.41it/s]"
     ]
    },
    {
     "name": "stdout",
     "output_type": "stream",
     "text": [
      "\n",
      "GridWorld SARSA Optimal policy: \n",
      " {} {'rewards': [-420, -1456, -43, -70, -63, -75, -85, -177, -86, -41, -420, -32, -32, -35, -119, -154, -35, -29, -26, -158, -23, -24, -27, -27, -29, -33, -25, -135, -33, -19, -22, -128, -20, -30, -29, -123, -26, -21, -31, -25, -124, -19, -228, -23, -23, -28, -21, -21, -27, -159, -25, -144, -22, -25, -25, -24, -35, -243, -21, -26, -164, -26, -27, -19, -32, -21, -25, -20, -19, -27, -29, -23, -31, -21, -19, -25, -167, -297, -36, -26, -41, -23, -30, -19, -28, -121, -19, -19, -18, -36, -18, -39, -23, -21, -19, -17, -19, -19, -21, -25, -17, -37, -156, -29, -33, -154, -20, -162, -27, -17, -22, -17, -17, -28, -118, -33, -17, -19, -17, -20, -20, -41, -25, -25, -26, -17, -22, -19, -23, -18, -19, -22, -20, -25, -44, -139, -23, -21, -22, -23, -21, -26, -19, -21, -23, -23, -25, -19, -43, -26, -45, -341, -245, -204, -53, -40, -46, -58, -32, -33, -21, -29, -67, -24, -42, -29, -27, -23, -23, -67, -123, -79, -61, -311, -32, -25, -17, -29, -47, -135, -24, -60, -43, -84, -30, -184, -20, -26, -23, -23, -57, -19, -34, -30, -20, -22, -19, -21, -25, -19, -20, -19, -139, -19, -22, -45, -24, -81, -27, -103, -110, -19, -21, -33, -18, -24, -17, -19, -17, -18, -18, -21, -122, -18, -24, -17, -17, -30, -24, -17, -20, -25, -62, -18, -19, -19, -22, -114, -26, -17, -19, -17, -23, -28, -17, -19, -39, -17, -21, -18, -26, -19, -19, -19, -17, -17, -22, -21, -19, -28, -41, -21, -21, -20, -23, -23, -23, -29, -26, -29, -48, -26, -25, -17, -18, -18, -33, -18, -18, -29, -19, -27, -21, -23, -17, -21, -19, -17, -21, -17, -19, -17, -18, -18, -42, -473, -82, -23, -84, -79, -466, -23, -22, -28, -17, -41, -24, -17, -18, -18, -55, -48, -24, -48, -89, -25, -19, -29, -233, -23, -148, -17, -41, -34, -67, -65, -34, -19, -19, -21, -68, -134, -295, -58, -69, -21, -47, -48, -66, -264, -62, -43, -21, -137, -126, -196, -159, -28, -520, -23, -22, -36, -36, -62, -26, -59, -65, -33, -23, -21, -44, -23, -37, -35, -52, -19, -26, -37, -383, -26, -365, -223, -19, -21, -24, -24, -19, -123, -19, -30, -85, -44, -31, -31, -23, -29, -67, -322, -34, -27, -26, -177, -63, -119, -23, -24, -21, -19, -442, -19, -175, -31, -26, -18, -18, -34, -35, -19, -17, -21, -21, -29, -22, -31, -25, -82, -36, -120, -26, -20, -45, -21, -51, -55, -28, -22, -66, -165, -235, -90, -39, -174, -23, -48, -179, -41, -22, -26, -53, -42, -84, -77, -25, -18, -17, -17, -83, -80, -312, -246, -48, -35, -31, -30, -136, -51, -34, -19, -19, -19, -119, -19, -21, -19, -28, -21, -19, -19, -19, -23, -19, -22, -22, -22, -31, -19, -26, -19, -19, -19, -44, -64, -54, -103, -129, -21, -19, -19, -163, -25, -21, -152, -20, -20, -43, -34, -20, -28, -73, -152], 'length': [123, 466, 43, 70, 63, 75, 85, 78, 86, 41, 123, 32, 32, 35, 20, 55, 35, 29, 26, 59, 23, 24, 27, 27, 29, 33, 25, 36, 33, 19, 22, 29, 20, 30, 29, 24, 26, 21, 31, 25, 25, 19, 30, 23, 23, 28, 21, 21, 27, 60, 25, 45, 22, 25, 25, 24, 35, 45, 21, 26, 164, 26, 27, 19, 32, 21, 25, 20, 19, 27, 29, 23, 31, 21, 19, 25, 68, 99, 36, 26, 41, 23, 30, 19, 28, 22, 19, 19, 18, 36, 18, 39, 23, 21, 19, 17, 19, 19, 21, 25, 17, 37, 57, 29, 33, 55, 20, 63, 27, 17, 22, 17, 17, 28, 19, 33, 17, 19, 17, 20, 20, 41, 25, 25, 26, 17, 22, 19, 23, 18, 19, 22, 20, 25, 44, 40, 23, 21, 22, 23, 21, 26, 19, 21, 23, 23, 25, 19, 43, 26, 45, 44, 47, 204, 53, 40, 46, 58, 32, 33, 21, 29, 67, 24, 42, 29, 27, 23, 23, 67, 123, 79, 61, 212, 32, 25, 17, 29, 47, 135, 24, 60, 43, 84, 30, 85, 20, 26, 23, 23, 57, 19, 34, 30, 20, 22, 19, 21, 25, 19, 20, 19, 40, 19, 22, 45, 24, 81, 27, 103, 110, 19, 21, 33, 18, 24, 17, 19, 17, 18, 18, 21, 23, 18, 24, 17, 17, 30, 24, 17, 20, 25, 62, 18, 19, 19, 22, 114, 26, 17, 19, 17, 23, 28, 17, 19, 39, 17, 21, 18, 26, 19, 19, 19, 17, 17, 22, 21, 19, 28, 41, 21, 21, 20, 23, 23, 23, 29, 26, 29, 48, 26, 25, 17, 18, 18, 33, 18, 18, 29, 19, 27, 21, 23, 17, 21, 19, 17, 21, 17, 19, 17, 18, 18, 42, 275, 82, 23, 84, 79, 268, 23, 22, 28, 17, 41, 24, 17, 18, 18, 55, 48, 24, 48, 89, 25, 19, 29, 134, 23, 49, 17, 41, 34, 67, 65, 34, 19, 19, 21, 68, 134, 196, 58, 69, 21, 47, 48, 66, 264, 62, 43, 21, 38, 126, 97, 159, 28, 322, 23, 22, 36, 36, 62, 26, 59, 65, 33, 23, 21, 44, 23, 37, 35, 52, 19, 26, 37, 185, 26, 266, 124, 19, 21, 24, 24, 19, 24, 19, 30, 85, 44, 31, 31, 23, 29, 67, 124, 34, 27, 26, 177, 63, 119, 23, 24, 21, 19, 343, 19, 76, 31, 26, 18, 18, 34, 35, 19, 17, 21, 21, 29, 22, 31, 25, 82, 36, 21, 26, 20, 45, 21, 51, 55, 28, 22, 66, 66, 136, 90, 39, 75, 23, 48, 80, 41, 22, 26, 53, 42, 84, 77, 25, 18, 17, 17, 83, 80, 213, 48, 48, 35, 31, 30, 37, 51, 34, 19, 19, 19, 20, 19, 21, 19, 28, 21, 19, 19, 19, 23, 19, 22, 22, 22, 31, 19, 26, 19, 19, 19, 44, 64, 54, 103, 30, 21, 19, 19, 163, 25, 21, 53, 20, 20, 43, 34, 20, 28, 73, 152]}\n"
     ]
    },
    {
     "name": "stderr",
     "output_type": "stream",
     "text": [
      "\n"
     ]
    }
   ],
   "source": [
    "# Run SARSA\n",
    "optimal_sarsa_Q, sarsa_optimal_policy, sarsa_info = sarsa(env, Q, num_actions, num_episodes, epsilon, lr)\n",
    "print(\"\\nGridWorld SARSA Optimal policy: \\n\", sarsa_optimal_policy,sarsa_info)"
   ]
  },
  {
   "cell_type": "markdown",
   "metadata": {},
   "source": [
    "### Q-Learning"
   ]
  },
  {
   "cell_type": "code",
   "execution_count": 13,
   "metadata": {},
   "outputs": [],
   "source": [
    "def q_learning(env, Q, num_actions, num_episodes, epsilon, lr):\n",
    "    # Given to students\n",
    "    episode_length = [0] * num_episodes\n",
    "    total_reward_episode = [0] * num_episodes\n",
    "\n",
    "   \n",
    "    for episode in tqdm(range(num_episodes)):\n",
    "        state = env.reset()\n",
    "        is_done = False\n",
    "        # Implemnt Q-Learning\n",
    "        while not is_done:\n",
    "            action = behavioral_policy(state, Q, num_actions, epsilon)\n",
    "            next_state, reward, done, _ = env.step(action)\n",
    " \n",
    "            total_reward_episode[episode] += reward\n",
    "            episode_length[episode] += 1\n",
    "\n",
    "            # Update Q values\n",
    "            best_next_action = np.argmax(Q[next_state])   \n",
    "            td_target = reward + Q[next_state][best_next_action] # gamma = 1 \n",
    "            td_delta = td_target - Q[state][action]\n",
    "            Q[state][action] += lr * td_delta\n",
    "\n",
    "            is_done = done\n",
    "            \n",
    "    policy = {}\n",
    "    # Write the code here\n",
    "\n",
    "    return Q, policy, {\"rewards\": total_reward_episode, \"length\": episode_length}"
   ]
  },
  {
   "cell_type": "code",
   "execution_count": 14,
   "metadata": {},
   "outputs": [
    {
     "name": "stderr",
     "output_type": "stream",
     "text": [
      "100%|██████████| 500/500 [00:48<00:00, 10.28it/s]"
     ]
    },
    {
     "name": "stdout",
     "output_type": "stream",
     "text": [
      "\n",
      "GridWorld Q-Learning Optimal policy: \n",
      " {} {'rewards': [-218, -4194, -8053, -2505, -9074, -192, -948, -729, -6499, -719, -3731, -19555, -550, -5958, -163, -868, -486, -5057, -6106, -5214, -4967, -3058, -7766, -6910, -3791, -3882, -2386, -9476, -8990, -2286, -5116, -1149, -1270, -9277, -2141, -281, -1742, -8840, -5638, -3263, -1118, -795, -395, -16653, -5231, -2650, -4712, -8228, -8181, -7497, -1092, -2288, -1557, -1717, -645, -1218, -3482, -488, -1328, -447, -1761, -9075, -1005, -908, -6924, -3722, -1709, -6785, -5272, -1992, -18444, -252, -2152, -7221, -2146, -11710, -1507, -2589, -1369, -9334, -2775, -819, -2599, -893, -1161, -1590, -4954, -580, -7025, -9712, -3820, -2143, -3440, -1371, -5123, -5801, -4035, -1678, -876, -2777, -6349, -8585, -1063, -722, -11778, -3771, -1698, -893, -4896, -5280, -542, -1206, -8504, -5778, -2540, -6905, -3906, -771, -7447, -532, -3311, -1568, -2310, -9871, -4801, -13948, -6580, -2609, -14846, -382, -12911, -824, -15505, -3599, -2695, -1832, -8562, -12277, -1094, -3969, -2081, -3497, -2715, -850, -1108, -10828, -1974, -1553, -500, -1115, -816, -1575, -5518, -4729, -2646, -591, -10769, -1809, -3996, -2356, -931, -4143, -19786, -650, -661, -3583, -1922, -854, -3319, -2750, -643, -10489, -4388, -4582, -1163, -1227, -4282, -1389, -13290, -5547, -2314, -4587, -1745, -7350, -4928, -5303, -2105, -2833, -10261, -13929, -32263, -7064, -6883, -2941, -2027, -2319, -667, -1241, -2695, -784, -2610, -1536, -1369, -1104, -7719, -5664, -319, -2131, -751, -551, -4809, -7200, -1408, -605, -1565, -2470, -3339, -6526, -4989, -21088, -247, -3757, -1498, -515, -2300, -5824, -3093, -2325, -553, -2837, -674, -4915, -2238, -7763, -1310, -7128, -1660, -2634, -10128, -2175, -1007, -5178, -1265, -1301, -8818, -1927, -852, -3031, -5823, -5942, -3815, -474, -6382, -1812, -2058, -2930, -315, -535, -6820, -1090, -9815, -1379, -10880, -486, -574, -545, -2928, -2243, -10225, -1231, -5227, -2037, -2235, -1519, -4661, -3466, -5087, -4782, -6572, -404, -8923, -350, -1067, -5344, -5024, -6928, -1375, -363, -10168, -172, -1348, -16377, -1312, -14538, -1634, -957, -6663, -8525, -1485, -1820, -1305, -2750, -8702, -764, -1149, -1793, -761, -2991, -1424, -7761, -13578, -2078, -600, -783, -915, -3315, -456, -15285, -976, -5609, -4679, -556, -1115, -9072, -3015, -11939, -3558, -8362, -1471, -3325, -526, -1240, -13743, -1136, -4533, -4074, -853, -3855, -2671, -946, -1513, -3712, -1706, -3277, -1379, -1155, -756, -14531, -591, -3365, -6087, -3561, -10977, -2369, -1078, -629, -1213, -3943, -4313, -740, -3689, -2823, -4806, -2468, -1384, -296, -10016, -6446, -2631, -10234, -437, -2909, -2151, -456, -5051, -649, -4940, -4631, -2336, -5349, -12027, -4760, -3127, -705, -2382, -1182, -4823, -16332, -2978, -1431, -449, -516, -1298, -3328, -3138, -3474, -9295, -1381, -1360, -6012, -1011, -1811, -4668, -1511, -4705, -3709, -3841, -515, -2661, -3188, -9824, -3657, -4046, -7223, -3352, -3863, -2480, -8330, -3067, -637, -11868, -2898, -1307, -874, -959, -5977, -10804, -1534, -1384, -1119, -1090, -8538, -5653, -5409, -2571, -3627, -1450, -819, -1729, -15583, -537, -12556, -265, -445, -3011, -2669, -3203, -410, -2961, -7771, -9174, -2026, -876, -1427, -3220, -2413, -926, -4213, -1278, -5528, -4045, -661, -1105, -11445, -860, -849, -6732, -6165, -2270, -1777, -637, -4216, -5621, -1600, -553, -1297, -2049, -5657, -1125, -1028, -1407, -943, -2108, -7685, -1166, -1136, -8198, -2683, -1544, -6251, -692, -2376, -734, -4251, -7140, -3221, -2436, -2177, -1083, -3188], 'length': [119, 1224, 2509, 1020, 3629, 93, 552, 531, 1945, 323, 1157, 6190, 451, 2196, 64, 274, 288, 1493, 1849, 1848, 1502, 1177, 2618, 2455, 1415, 1110, 1396, 2843, 2951, 603, 2443, 555, 577, 2743, 557, 83, 1148, 2801, 2074, 887, 425, 399, 197, 4674, 2261, 769, 1148, 2684, 2043, 2547, 300, 1001, 864, 628, 348, 426, 1205, 191, 437, 249, 573, 2541, 411, 611, 2370, 851, 521, 1835, 1807, 1002, 5574, 153, 667, 2073, 859, 3394, 418, 906, 676, 2404, 795, 324, 817, 299, 765, 699, 1786, 283, 2174, 3178, 1246, 658, 1361, 579, 1658, 1841, 1362, 490, 381, 896, 1894, 2051, 370, 425, 3957, 1395, 708, 596, 1728, 1221, 245, 612, 2762, 1719, 758, 1757, 1035, 375, 2299, 334, 1331, 974, 825, 2545, 1336, 4444, 2026, 1025, 4154, 283, 4496, 626, 4318, 1124, 1210, 545, 2127, 3466, 401, 1494, 1388, 1715, 933, 256, 415, 2809, 786, 464, 203, 323, 519, 585, 1360, 1561, 666, 492, 3344, 819, 2115, 1168, 535, 1371, 5629, 452, 364, 1108, 536, 656, 1141, 869, 445, 4054, 1517, 1414, 371, 633, 1312, 1092, 3291, 1587, 829, 1419, 1151, 2004, 1463, 1442, 620, 853, 3628, 4425, 9592, 2312, 2131, 862, 641, 933, 370, 449, 1210, 190, 828, 447, 478, 411, 2472, 2001, 121, 1240, 355, 254, 1641, 2547, 616, 407, 773, 787, 1260, 1873, 1623, 6733, 148, 1480, 607, 218, 1112, 1666, 1014, 642, 256, 857, 575, 1747, 753, 2318, 518, 1980, 670, 852, 3396, 591, 512, 1020, 473, 410, 2878, 640, 357, 952, 1566, 2081, 1142, 177, 2323, 624, 870, 851, 117, 238, 1969, 595, 2984, 686, 3158, 387, 475, 149, 849, 857, 3592, 439, 1564, 750, 651, 628, 1493, 1288, 1325, 1515, 1919, 305, 2686, 251, 572, 1681, 1856, 2869, 583, 165, 3535, 73, 457, 4794, 520, 3945, 743, 462, 1812, 2387, 792, 632, 909, 770, 2267, 368, 753, 902, 266, 1011, 434, 2316, 3876, 494, 303, 387, 420, 1038, 357, 3900, 679, 1748, 1610, 358, 323, 2736, 1035, 3425, 1281, 2620, 1075, 1147, 229, 547, 3843, 542, 1068, 1302, 457, 1380, 988, 253, 1018, 1039, 617, 1198, 488, 462, 657, 4730, 393, 1286, 1929, 1185, 3750, 1379, 385, 233, 619, 973, 1343, 641, 1214, 744, 1044, 785, 592, 98, 2789, 1991, 1146, 3106, 140, 1028, 765, 258, 1982, 253, 1673, 1661, 752, 2379, 3414, 1295, 1246, 408, 798, 489, 1754, 4749, 1394, 540, 152, 417, 803, 1150, 1257, 1197, 2761, 688, 469, 1953, 318, 722, 1302, 521, 1537, 1333, 970, 317, 1473, 1208, 2597, 1380, 1274, 2669, 1075, 1190, 500, 2687, 1087, 340, 4245, 1017, 515, 478, 365, 2017, 2983, 247, 493, 327, 397, 2895, 1495, 1647, 888, 1152, 559, 225, 838, 4594, 240, 4042, 166, 346, 833, 1283, 1421, 212, 981, 2524, 3135, 1036, 480, 338, 943, 829, 332, 1441, 387, 1766, 1273, 364, 412, 3327, 662, 354, 2277, 2007, 587, 589, 241, 1543, 1958, 907, 256, 505, 861, 1697, 333, 335, 516, 448, 821, 2636, 374, 443, 2852, 1099, 455, 1796, 296, 990, 338, 1578, 2289, 1142, 1050, 692, 687, 1406]}\n"
     ]
    },
    {
     "name": "stderr",
     "output_type": "stream",
     "text": [
      "\n"
     ]
    }
   ],
   "source": [
    "# Run Q-Learning \n",
    "\n",
    "optimal_Q, q_optimal_policy, q_info = q_learning(env, Q, num_actions, num_episodes, epsilon, lr)\n",
    "print(\"\\nGridWorld Q-Learning Optimal policy: \\n\", q_optimal_policy,q_info)"
   ]
  },
  {
   "cell_type": "code",
   "execution_count": null,
   "metadata": {},
   "outputs": [],
   "source": [
    "# run this cell if you do not have the matplotlib library\n",
    "# !pip install matplotlib\n",
    "import matplotlib.pyplot as plt"
   ]
  },
  {
   "cell_type": "code",
   "execution_count": null,
   "metadata": {},
   "outputs": [],
   "source": [
    "def plot_rate(episode_length, total_reward_episode, title):\n",
    "    fig, ax = plt.subplots(1, 2, figsize=(12, 6))\n",
    "    ax[0].plot(episode_length)\n",
    "    ax[0].set_title(\"Episode Length over time\")\n",
    "    ax[0].set(xlabel=\"Episode\", ylabel=\"Length\")\n",
    "    ax[1].plot(total_reward_episode)\n",
    "    ax[1].set_title(\"Episode reward over time\")\n",
    "    ax[1].set(xlabel=\"Episode reward over time\", ylabel=\"Reward\")\n",
    "    fig.suptitle(title)\n",
    "\n",
    "    plt.show()"
   ]
  },
  {
   "cell_type": "code",
   "execution_count": null,
   "metadata": {},
   "outputs": [],
   "source": [
    "plot_rate(sarsa_info[\"length\"], sarsa_info[\"rewards\"], \"GridWorld: SARSA\")\n",
    "plot_rate(q_info[\"length\"], q_info[\"rewards\"], \"GridWorld: Q-Learning\")"
   ]
  },
  {
   "cell_type": "markdown",
   "metadata": {},
   "source": [
    "## Task 1b: Learning in Windy Grid world"
   ]
  },
  {
   "cell_type": "markdown",
   "metadata": {},
   "source": [
    "WindyGridWorld is similar to GridWorld, but with a few differences. You only need to move to the target state. But this time there is a cross-wind across the center of the grid that will push you upwards. In columns 3, 4, 5, and 8 there are winds of strength 1 while in column 6 and 7 there are winds of strength 2. For more details refer Example 6.5 in\n",
    "\n",
    " http://incompleteideas.net/book/RLbook2020.pdf\n",
    "\n",
    " You only need to change the environment and reuse the SARSA and Q-learning algorithms. "
   ]
  },
  {
   "cell_type": "code",
   "execution_count": null,
   "metadata": {},
   "outputs": [],
   "source": [
    "#Windy Grid World environment\n",
    "from WindyGridWorld import WindyGridWorld\n",
    "env = WindyGridWorld()\n",
    "env.reset()\n",
    "env.render()"
   ]
  },
  {
   "cell_type": "code",
   "execution_count": null,
   "metadata": {},
   "outputs": [],
   "source": [
    "num_actions = env.action_space.n \n",
    "num_states = env.observation_space.n \n",
    "\n",
    "print(\"Number of actions: \", num_actions)\n",
    "print(\"Number of states: \", num_states)"
   ]
  },
  {
   "cell_type": "markdown",
   "metadata": {},
   "source": [
    "Play around with different learning rates epsilons, and Q initializations to see what is best."
   ]
  },
  {
   "cell_type": "code",
   "execution_count": null,
   "metadata": {},
   "outputs": [],
   "source": [
    "num_episodes = 1000\n",
    "lr = \n",
    "epsilon = "
   ]
  },
  {
   "cell_type": "code",
   "execution_count": null,
   "metadata": {},
   "outputs": [],
   "source": [
    "# Initialize Q function - a simplified version is used here \n",
    "# in reality the number of states may be unknown and all states may not be reachable \n",
    "\n",
    "# hint: use num_states as the key to a dictionary of lists\n",
    "Q = "
   ]
  },
  {
   "cell_type": "code",
   "execution_count": null,
   "metadata": {},
   "outputs": [],
   "source": [
    "optimal_sarsa_Q, sarsa_optimal_policy, sarsa_info = sarsa(env, Q, num_actions, num_episodes, epsilon, lr)\n",
    "print(\"\\n WindyGridWorld SARSA Optimal policy: \\n\", sarsa_optimal_policy)"
   ]
  },
  {
   "cell_type": "code",
   "execution_count": null,
   "metadata": {},
   "outputs": [],
   "source": [
    "optimal_Q, q_optimal_policy, q_info = q_learning(env, Q, num_actions, num_episodes, epsilon, lr)\n",
    "print(\"\\n WindyGridWorld Q-Learning Optimal policy: \\n\", q_optimal_policy)"
   ]
  },
  {
   "cell_type": "code",
   "execution_count": null,
   "metadata": {},
   "outputs": [],
   "source": [
    "plot_rate(sarsa_info[\"length\"], sarsa_info[\"rewards\"], \"GridWorld: SARSA\")\n",
    "plot_rate(q_info[\"length\"], q_info[\"rewards\"], \"GridWorld: Q-Learning\")"
   ]
  },
  {
   "cell_type": "markdown",
   "metadata": {},
   "source": [
    "# Task 2: Analysis (Comparison of Q-learning and SARSA learning algorithms)\n",
    "\n",
    "1. Comment on the number of episodes required to converge to the optimal policy for both environments. \n",
    "       \n",
    "2. Discuss the differences in the reward graphs.  \n",
    "\n",
    "3. Calculate the average return across the episodes for each environment. It gives a measure of the performance of the algorithm while learning (i.e., online performance).  \n",
    "\n",
    "4. Calculate the return after convergence. It gives you a measure of the performance after the learning is completed (i.e., offline performance). \n",
    "\n",
    "5. Briefly summarize your results.\n",
    " \n",
    " It is advisable to rerun the algorithm a few times to get a clearer understanding of the algorithms."
   ]
  }
 ],
 "metadata": {
  "kernelspec": {
   "display_name": "Python 3.10.1 64-bit",
   "language": "python",
   "name": "python3"
  },
  "language_info": {
   "codemirror_mode": {
    "name": "ipython",
    "version": 3
   },
   "file_extension": ".py",
   "mimetype": "text/x-python",
   "name": "python",
   "nbconvert_exporter": "python",
   "pygments_lexer": "ipython3",
   "version": "3.10.1"
  },
  "orig_nbformat": 4,
  "vscode": {
   "interpreter": {
    "hash": "8c15513000e9b1aafc2c9d9aa59a4469dae56d5c667cde04f926e98d41bd6c86"
   }
  }
 },
 "nbformat": 4,
 "nbformat_minor": 2
}
