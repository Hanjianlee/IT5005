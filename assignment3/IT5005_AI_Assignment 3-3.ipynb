{
 "cells": [
  {
   "cell_type": "markdown",
   "metadata": {},
   "source": [
    "# Assignment 3 - Reinforcement Learning"
   ]
  },
  {
   "cell_type": "markdown",
   "metadata": {},
   "source": [
    "## GridWorlds\n",
    "\n",
    "This assignment involves finding optimal policies for two grid worlds (CliffWalking and WindyGridWorld) using SARSA and Q learning. Details about WindyGridWorld (Example 6.5) and CliffWalking (Example 6.6) can be found in the following link.\n",
    "    \n",
    "    http://incompleteideas.net/book/RLbook2020.pdf\n",
    "\n",
    "\n",
    "You need gym (version 0.18) and numpy (version 1.20.1) for this assignment. The environment for both problems are provided. \n",
    "\n",
    "For Windy Grid World environemnt you also need the file 'WindyGridWorld.py'. \n",
    "\n",
    "### Task 1: Learning [5 Marks]\n",
    "\n",
    "You only need to write the codes for SARSA and Q-learning algorithms. Then do the learning in both 'CliffWalking' and 'Windy Grid World' environments. \n",
    "\n",
    "### Task 2: Analysis [5 Marks]   \n",
    "\n",
    "1. Calculate the average return across the episodes. It gives you a measure of the performance of the algorithm while learning.  \n",
    "\n",
    "2. Calculate the return after convergence. It gives you a measure of the performance after the learning is completed. \n",
    "\n",
    "3. What do you observe from these results?"
   ]
  },
  {
   "cell_type": "markdown",
   "metadata": {},
   "source": [
    "Install the necessary packages"
   ]
  },
  {
   "cell_type": "code",
   "execution_count": null,
   "metadata": {},
   "outputs": [],
   "source": [
    "!pip install gym==0.22\n",
    "!pip install numpy==1.20.1\n",
    "!pip install tqdm \n",
    "!pip install pygame"
   ]
  },
  {
   "cell_type": "markdown",
   "metadata": {},
   "source": [
    "# Task 1: Learning\n",
    "## Task 1a: Learning in CliffWalking Environment"
   ]
  },
  {
   "cell_type": "markdown",
   "metadata": {},
   "source": [
    "### Environment for CliffWalking\n",
    "\n",
    "The board is a 4x12 matrix, with (using NumPy matrix indexing):\n",
    "    [3, 0] as the start at bottom-left\n",
    "    [3, 11] as the goal at bottom-right\n",
    "    [3, 1..10] as the cliff at bottom-center\n",
    "\n",
    "Each time step incurs -1 reward, and stepping into the cliff incurs -100 reward\n",
    "and a reset to the start. If an action would take you off the grid, you remain in the previous state.\n",
    "An episode terminates when the agent reaches the goal.\n"
   ]
  },
  {
   "cell_type": "code",
   "execution_count": 3,
   "metadata": {},
   "outputs": [
    {
     "name": "stdout",
     "output_type": "stream",
     "text": [
      "o  o  o  o  o  o  o  o  o  o  o  o\n",
      "o  o  o  o  o  o  o  o  o  o  o  o\n",
      "o  o  o  o  o  o  o  o  o  o  o  o\n",
      "x  C  C  C  C  C  C  C  C  C  C  T\n",
      "\n"
     ]
    }
   ],
   "source": [
    "\n",
    "import gym\n",
    "import numpy as np\n",
    "from tqdm import tqdm \n",
    "\n",
    "env = gym.make('CliffWalking-v0') # Create the environment #render_mode=\"human\"  human, ansi, \n",
    "env.reset() # reset environment to a new, random state\n",
    "env.render() # Renders the environment for visualization"
   ]
  },
  {
   "cell_type": "markdown",
   "metadata": {},
   "source": [
    "Here _x_ is the location of the agent, *o* are possible places to go to, *C* is the cliff, and *T* is the target."
   ]
  },
  {
   "cell_type": "code",
   "execution_count": 4,
   "metadata": {},
   "outputs": [
    {
     "name": "stdout",
     "output_type": "stream",
     "text": [
      "Number of actions:  4\n",
      "Number of states:  48\n"
     ]
    }
   ],
   "source": [
    "num_actions = env.action_space.n \n",
    "num_states = env.observation_space.n \n",
    "\n",
    "print(\"Number of actions: \", num_actions)\n",
    "print(\"Number of states: \", num_states)"
   ]
  },
  {
   "cell_type": "code",
   "execution_count": null,
   "metadata": {},
   "outputs": [],
   "source": [
    "action = 0 # Move up\n",
    "a = env.step(action) # This is the function we use to interact with the environment\n",
    "env.render() # Renders the environment for visualization"
   ]
  },
  {
   "cell_type": "code",
   "execution_count": null,
   "metadata": {},
   "outputs": [],
   "source": [
    "# 0 -> UP, 1 -> RIGHT, 2 -> DOWN, 3 -> LEFT\n",
    "env.reset()\n",
    "import time\n",
    "for action in [0, 1, 2, 3]:\n",
    "    print(\"Action: \", action)\n",
    "    time.sleep(1)\n",
    "    next_state, reward, is_done, info = env.step(action)     # next_state, reward, is_done, info\n",
    "    print(\"Next state: \", next_state)\n",
    "    print(\"Reward: \", reward)\n",
    "    print(\"Done: \",is_done)\n",
    "    env.render()\n",
    "env.reset()"
   ]
  },
  {
   "cell_type": "markdown",
   "metadata": {},
   "source": [
    "As you can see above, each non-terminal action has a reward of -1. 0 -> UP, 1 -> RIGHT, 2 -> DOWN, 3 -> LEFT. The moment the agent falls off the cliff the reward becomes -100 and the agent resets to the start."
   ]
  },
  {
   "cell_type": "code",
   "execution_count": 41,
   "metadata": {},
   "outputs": [],
   "source": [
    "# Initialize values \n",
    "num_episodes = 500\n",
    "lr = 100\n",
    "epsilon = 0.1\n",
    "alpha = 0.85\n",
    "gamma = 0.95\n",
    "discount_factor = 0.9"
   ]
  },
  {
   "cell_type": "code",
   "execution_count": 11,
   "metadata": {},
   "outputs": [
    {
     "name": "stdout",
     "output_type": "stream",
     "text": [
      "0\n"
     ]
    }
   ],
   "source": [
    "# Initialize Q function - a simplified version is used here \n",
    "# in reality the number of states may be unknown and all states may not be reachable \n",
    "\n",
    "# hint: use num_states as the key to a dictionary of lists\n",
    "Q = np.zeros((num_states, num_actions))"
   ]
  },
  {
   "cell_type": "code",
   "execution_count": 32,
   "metadata": {},
   "outputs": [],
   "source": [
    "def behavioral_policy(state, Q, num_actions, epsilon):\n",
    "    # Implement the epsilon-greedy policy\n",
    "    # Don't forget the epsilon-greedy idea\n",
    "    probs =  np.ones(num_actions,dtype = float) * epsilon / num_actions\n",
    "    best_action = np.argmax(Q[state])\n",
    "    probs[best_action] += (1.0 - epsilon)\n",
    "    \n",
    "    action = np.argmax(np.random.multinomial(1, probs, size=1)[0])\n",
    "    return action"
   ]
  },
  {
   "cell_type": "code",
   "execution_count": 33,
   "metadata": {},
   "outputs": [
    {
     "name": "stdout",
     "output_type": "stream",
     "text": [
      "2\n",
      "0\n",
      "2\n",
      "1\n",
      "2\n",
      "0\n",
      "3\n",
      "3\n",
      "3\n",
      "3\n"
     ]
    }
   ],
   "source": [
    "# You can use this to check if your algorithm is correct\n",
    "for i in range(10):\n",
    "    print(behavioral_policy(0, Q, num_actions, 0.8))"
   ]
  },
  {
   "cell_type": "markdown",
   "metadata": {},
   "source": [
    "### SARSA Learning "
   ]
  },
  {
   "cell_type": "code",
   "execution_count": 58,
   "metadata": {},
   "outputs": [],
   "source": [
    "\n",
    "\n",
    "def sarsa(env, Q, num_actions, num_episodes, epsilon, lr):\n",
    "    # Given to students\n",
    "    episode_length = [0] * num_episodes\n",
    "    total_reward_episode = [0] * num_episodes\n",
    "\n",
    "    for episode in tqdm(range(num_episodes)):\n",
    "        state = env.reset()\n",
    "        is_done = False\n",
    "        # Implement SARSA\n",
    "        action = behavioral_policy(state, Q, num_actions, epsilon)\n",
    "        iteration = 0\n",
    "        while not is_done or iteration < lr:\n",
    "            state_2, reward, done, _ = env.step(action)\n",
    "            action_2 = behavioral_policy(state_2, Q, num_actions, epsilon)\n",
    "            predict = Q[state, action]\n",
    "            target = reward + gamma * Q[state_2, action_2]\n",
    "            Q[state, action] = Q[state, action] + alpha * (target - predict)\n",
    "\n",
    "            episode_length[episode] += 1\n",
    "            total_reward_episode[episode] += reward\n",
    "            iteration += 1\n",
    "            state = state_2\n",
    "            action = action_2\n",
    "            is_done = done\n",
    "    policy = {}\n",
    "    # Write code here as well\n",
    "    # Hint: use np.argmax\n",
    "\n",
    "    return Q, policy, {\"rewards\": total_reward_episode, \"length\": episode_length}"
   ]
  },
  {
   "cell_type": "code",
   "execution_count": 59,
   "metadata": {},
   "outputs": [
    {
     "name": "stderr",
     "output_type": "stream",
     "text": [
      "100%|██████████| 500/500 [03:36<00:00,  2.30it/s]"
     ]
    },
    {
     "name": "stdout",
     "output_type": "stream",
     "text": [
      "\n",
      "GridWorld SARSA Optimal policy: \n",
      " {} {'rewards': [-2438, -1061, -2634, -3334, -754, -325, -116, -12287, -2040, -630, -392, -2487, -2265, -1630, -10749, -2120, -680, -721, -598, -1166, -16656, -15661, -157, -1192, -2436, -2750, -969, -1074, -5097, -1466, -23156, -12755, -1953, -26413, -1017, -763, -19424, -2934, -1615, -10139, -43735, -4626, -34532, -809, -17252, -972, -2810, -26605, -301, -1875, -141, -3072, -5560, -1042, -46046, -144, -16945, -2192, -886, -11911, -16188, -2452, -261, -10323, -2755, -769, -2843, -11883, -2330, -3765, -3050, -9598, -6546, -17934, -911, -594, -483, -3509, -9522, -8758, -2281, -1438, -8638, -1577, -381, -2338, -1928, -5090, -1253, -1436, -2834, -285, -285, -104, -576, -1061, -641, -1213, -785, -467, -142, -11424, -6908, -3767, -1286, -6386, -3586, -7313, -45902, -41306, -1257, -4819, -32975, -1270, -20188, -73337, -1003, -28011, -256, -8868, -7478, -32715, -3388, -7089, -17823, -13012, -4026, -16414, -3638, -774, -366, -1038, -19003, -27128, -10422, -13132, -407, -1221, -3057, -5310, -186, -2262, -22686, -2596, -23379, -756, -141, -6577, -17037, -19231, -426, -28162, -10535, -5268, -14750, -163, -4559, -2547, -4222, -28869, -4230, -4242, -22678, -34816, -435, -27348, -12286, -11216, -5818, -1304, -6853, -1520, -2155, -661, -350, -4357, -44470, -1698, -2897, -20163, -14145, -734, -482, -42779, -11282, -2533, -14824, -15346, -19920, -1540, -299, -2443, -33598, -3444, -1170, -1310, -15549, -1813, -18976, -6232, -1433, -844, -766, -4432, -4022, -6966, -13685, -334, -4353, -4524, -27983, -1047, -4526, -2044, -7759, -37691, -10504, -1427, -4314, -18981, -1324, -8422, -375, -415, -850, -14596, -63387, -366, -391, -647, -3047, -13464, -1449, -6002, -17110, -1080, -7131, -1367, -18704, -869, -34475, -544, -30500, -393, -19650, -9776, -2933, -5129, -12260, -11400, -16570, -1913, -681, -8012, -21956, -14570, -7348, -23470, -15896, -6631, -18429, -259, -1627, -1218, -1776, -323, -10990, -6339, -4063, -10373, -1422, -14822, -7946, -8234, -20336, -442, -2521, -705, -37480, -7593, -3350, -2399, -528, -1539, -10039, -17261, -2320, -17287, -18194, -18756, -19924, -653, -11073, -3852, -5496, -3939, -25489, -14515, -3900, -354, -433, -42583, -417, -4139, -46255, -24536, -1201, -20226, -1024, -7101, -2881, -434, -523, -11441, -298, -7693, -1566, -8181, -6892, -10139, -4989, -508, -9642, -1095, -1289, -2657, -1610, -354, -6786, -477, -12229, -853, -550, -3464, -954, -21004, -1369, -2096, -2729, -2422, -5351, -489, -934, -18411, -7610, -2843, -2775, -1520, -245, -2150, -712, -9502, -6832, -6371, -10587, -21313, -5782, -3153, -3069, -4961, -905, -4909, -2109, -15673, -11370, -2238, -595, -384, -100, -100, -347, -867, -659, -8179, -490, -226, -1280, -299, -108, -1324, -7278, -19784, -11191, -6713, -5393, -2369, -300, -1117, -1060, -1954, -26351, -11484, -636, -1614, -258, -479, -10246, -101, -493, -1249, -701, -233, -179, -803, -100, -1652, -551, -680, -113, -11977, -5559, -4492, -100, -289, -6254, -469, -240, -1189, -991, -342, -210, -1532, -124, -702, -197, -251, -225, -3253, -2774, -256, -1276, -737, -3426, -5477, -2059, -1101, -3602, -1165, -1224, -2856, -2841, -27351, -330, -1299, -1925, -6097, -4172, -26183, -1505, -8302, -425, -4755, -22176, -305, -118, -2524, -1671, -2033, -10821, -3452, -9078, -28562, -1518, -1256, -4864, -106, -626, -23817, -4231, -22015, -100, -14848, -218, -398, -4727, -665, -14364, -9466, -2975, -648, -607, -231, -1217, -173, -4075, -35782, -1742, -2245, -17772, -3693, -194, -166, -13897, -2308, -558, -760, -1951, -4356, -3305, -261], 'length': [1943, 1061, 2139, 3334, 556, 325, 116, 11000, 1743, 432, 392, 2190, 1869, 1333, 8967, 1823, 680, 622, 499, 1067, 14478, 13384, 157, 994, 2436, 2552, 672, 975, 4206, 1268, 20582, 10874, 1854, 23542, 621, 664, 16949, 2439, 1219, 9149, 37399, 4329, 28889, 611, 14975, 774, 2315, 22843, 301, 1677, 141, 2775, 4867, 745, 39512, 144, 14569, 1796, 787, 10723, 13317, 1957, 162, 8739, 2359, 670, 2348, 10596, 2033, 2874, 2753, 8707, 5358, 16152, 911, 297, 483, 2717, 8631, 7966, 2083, 1240, 7648, 1082, 381, 2140, 1829, 4694, 1154, 1238, 2339, 285, 285, 104, 477, 962, 542, 1213, 686, 368, 142, 10038, 5423, 3272, 989, 5891, 3388, 6422, 39467, 35267, 1158, 4126, 28124, 1072, 17119, 63437, 805, 24249, 256, 7086, 6191, 29151, 3091, 6099, 14952, 10834, 3531, 14533, 3242, 774, 366, 939, 16726, 24356, 8640, 11251, 407, 1221, 2562, 4320, 186, 2163, 19518, 2497, 19419, 756, 141, 5587, 14265, 16459, 327, 24895, 8753, 4872, 12473, 163, 3668, 2349, 3925, 25701, 3735, 3747, 19807, 29668, 435, 24477, 10009, 9335, 4729, 1205, 5566, 1520, 1858, 661, 350, 3565, 38530, 1698, 2600, 17688, 11967, 734, 482, 37631, 9698, 2335, 13042, 13564, 16158, 1243, 299, 1948, 28945, 3048, 774, 1112, 13866, 1516, 16798, 5143, 1334, 448, 766, 3640, 3527, 6372, 11903, 334, 3957, 3732, 23528, 849, 3833, 1945, 6670, 32939, 9415, 1328, 3720, 16209, 1225, 7927, 375, 415, 850, 12913, 55764, 366, 292, 548, 2453, 11187, 1350, 5210, 14932, 981, 5448, 1268, 16328, 770, 29723, 346, 26441, 393, 17472, 8093, 2834, 4238, 10577, 9420, 14491, 1616, 582, 7517, 19877, 12491, 6655, 19510, 13916, 5542, 16152, 259, 1231, 1020, 1776, 224, 9406, 5547, 3766, 8789, 1323, 13634, 6263, 6749, 17366, 343, 2026, 705, 33421, 7197, 2558, 2102, 330, 1143, 9445, 14192, 1429, 15604, 16511, 16182, 17845, 653, 9489, 3456, 4704, 3642, 21925, 12238, 3405, 255, 433, 37039, 417, 3545, 39820, 20180, 1102, 16563, 925, 6804, 2485, 434, 523, 10352, 199, 6802, 1566, 7191, 6595, 9149, 4692, 409, 7761, 1095, 1289, 2657, 1412, 255, 5499, 378, 11041, 655, 550, 2771, 855, 17935, 1270, 1799, 2729, 2224, 4658, 489, 736, 15540, 5927, 2447, 2775, 1322, 245, 1655, 316, 7522, 5743, 5084, 9300, 19135, 4693, 3054, 2871, 4664, 905, 3721, 1812, 13297, 9687, 1941, 595, 285, 100, 100, 347, 669, 560, 7387, 490, 127, 1181, 299, 108, 1126, 6288, 17012, 10300, 5822, 4898, 2072, 201, 1018, 763, 1756, 22490, 10692, 537, 1416, 258, 380, 9355, 101, 493, 1150, 602, 233, 179, 803, 100, 1355, 452, 581, 113, 10492, 4866, 3700, 100, 190, 5264, 469, 240, 1189, 892, 342, 111, 1433, 124, 603, 197, 251, 225, 3055, 2477, 157, 979, 539, 2436, 5180, 1960, 1101, 3008, 1066, 927, 2262, 2247, 24579, 330, 1200, 1826, 5206, 3677, 23114, 1505, 7312, 425, 4359, 19107, 206, 118, 1930, 1572, 1439, 9039, 2957, 8385, 26186, 1122, 1157, 4468, 106, 626, 20946, 3439, 19342, 100, 12472, 119, 398, 4331, 566, 11790, 8278, 2381, 648, 607, 132, 920, 173, 3382, 31327, 1643, 1948, 15000, 3297, 194, 166, 12412, 2209, 360, 661, 1555, 3762, 2909, 261]}\n"
     ]
    },
    {
     "name": "stderr",
     "output_type": "stream",
     "text": [
      "\n"
     ]
    }
   ],
   "source": [
    "# Run SARSA\n",
    "optimal_sarsa_Q, sarsa_optimal_policy, sarsa_info = sarsa(env, Q, num_actions, num_episodes, epsilon, lr)\n",
    "print(\"\\nGridWorld SARSA Optimal policy: \\n\", sarsa_optimal_policy,sarsa_info)"
   ]
  },
  {
   "cell_type": "markdown",
   "metadata": {},
   "source": [
    "### Q-Learning"
   ]
  },
  {
   "cell_type": "code",
   "execution_count": null,
   "metadata": {},
   "outputs": [],
   "source": [
    "def q_learning(env, Q, num_actions, num_episodes, epsilon, lr):\n",
    "    # Given to students\n",
    "    episode_length = [0] * num_episodes\n",
    "    total_reward_episode = [0] * num_episodes\n",
    "\n",
    "   \n",
    "    for episode in tqdm(range(num_episodes)):\n",
    "        state = env.reset()\n",
    "        is_done = False\n",
    "        # Implemnt Q-Learning\n",
    "        iteration = 0\n",
    "        while not is_done or iteration < lr:\n",
    "            action = behavioral_policy(state, Q, num_actions, epsilon)\n",
    "            next_state, reward, done, _ = env.step(action)\n",
    " \n",
    "            total_reward_episode[episode] += reward\n",
    "            episode_length[episode] += 1\n",
    "\n",
    "            # Update Q values\n",
    "            best_next_action = np.argmax(Q[next_state])  \n",
    "            td_target = reward + discount_factor * Q[next_state][best_next_action]\n",
    "            td_delta = td_target - Q[state][action]\n",
    "            Q[state][action] += alpha * td_delta\n",
    "\n",
    "            is_done = done\n",
    "            iteration += 1\n",
    "            \n",
    "    policy = {}\n",
    "    # Write the code here\n",
    "\n",
    "    return Q, policy, {\"rewards\": total_reward_episode, \"length\": episode_length}"
   ]
  },
  {
   "cell_type": "code",
   "execution_count": 48,
   "metadata": {},
   "outputs": [
    {
     "name": "stderr",
     "output_type": "stream",
     "text": [
      "100%|██████████| 500/500 [00:03<00:00, 140.37it/s]"
     ]
    },
    {
     "name": "stdout",
     "output_type": "stream",
     "text": [
      "\n",
      "GridWorld Q-Learning Optimal policy: \n",
      " {} {'rewards': [-100, -100, -100, -100, -100, -100, -100, -100, -100, -100, -100, -100, -100, -100, -100, -100, -100, -100, -100, -100, -100, -100, -100, -100, -100, -100, -100, -100, -100, -100, -100, -199, -100, -100, -100, -100, -100, -100, -100, -100, -100, -100, -100, -100, -100, -100, -100, -100, -100, -100, -100, -100, -100, -100, -100, -100, -100, -100, -100, -100, -199, -199, -100, -100, -100, -100, -100, -100, -100, -100, -100, -100, -100, -100, -100, -100, -100, -100, -100, -100, -100, -100, -100, -100, -100, -100, -100, -100, -100, -100, -100, -100, -100, -100, -100, -100, -100, -100, -100, -100, -100, -100, -100, -100, -100, -100, -100, -100, -100, -100, -100, -100, -100, -100, -100, -100, -100, -100, -100, -100, -100, -100, -100, -100, -100, -100, -100, -100, -100, -100, -100, -100, -100, -100, -100, -100, -100, -100, -100, -100, -100, -100, -100, -100, -100, -100, -100, -100, -100, -100, -100, -100, -100, -100, -100, -100, -100, -100, -100, -100, -100, -100, -100, -100, -100, -100, -100, -100, -100, -100, -100, -100, -100, -100, -100, -100, -100, -100, -100, -100, -100, -100, -100, -100, -100, -100, -100, -100, -100, -100, -100, -100, -100, -100, -100, -100, -100, -100, -100, -100, -100, -100, -100, -100, -100, -100, -100, -100, -100, -100, -100, -100, -100, -100, -100, -100, -100, -100, -100, -100, -100, -100, -100, -100, -100, -100, -100, -100, -100, -100, -100, -100, -100, -100, -100, -100, -100, -100, -199, -100, -100, -100, -100, -100, -100, -100, -100, -100, -100, -100, -100, -100, -100, -100, -100, -100, -100, -100, -100, -100, -100, -100, -100, -100, -100, -100, -100, -100, -100, -100, -100, -100, -100, -100, -100, -100, -100, -100, -100, -100, -100, -100, -100, -100, -100, -100, -100, -100, -100, -100, -100, -100, -100, -100, -100, -100, -100, -100, -100, -100, -100, -100, -100, -100, -100, -100, -100, -100, -100, -100, -100, -100, -100, -100, -100, -100, -100, -100, -100, -100, -100, -100, -100, -100, -100, -100, -100, -100, -100, -100, -100, -100, -100, -100, -100, -100, -100, -100, -100, -100, -100, -100, -100, -100, -100, -100, -100, -100, -100, -100, -100, -199, -100, -100, -100, -100, -199, -100, -100, -100, -100, -100, -100, -100, -100, -100, -100, -100, -100, -100, -199, -199, -100, -100, -100, -100, -100, -100, -100, -100, -100, -100, -100, -100, -100, -100, -100, -100, -100, -100, -100, -100, -100, -100, -100, -100, -100, -100, -100, -100, -100, -100, -100, -100, -100, -199, -100, -100, -100, -100, -100, -100, -100, -100, -100, -100, -100, -100, -100, -100, -100, -100, -100, -100, -100, -100, -100, -100, -100, -100, -100, -100, -100, -100, -100, -100, -100, -100, -100, -100, -100, -100, -100, -100, -100, -100, -100, -100, -100, -100, -100, -100, -100, -100, -100, -100, -100, -100, -100, -100, -100, -100, -100, -100, -100, -100, -100, -100, -100, -100, -100, -100, -100, -100, -199, -100, -100, -100, -100, -199, -100, -100, -100, -100, -100, -298, -100, -100, -100, -100, -100, -100, -100, -100, -100, -100, -100, -100, -100, -100], 'length': [100, 100, 100, 100, 100, 100, 100, 100, 100, 100, 100, 100, 100, 100, 100, 100, 100, 100, 100, 100, 100, 100, 100, 100, 100, 100, 100, 100, 100, 100, 100, 100, 100, 100, 100, 100, 100, 100, 100, 100, 100, 100, 100, 100, 100, 100, 100, 100, 100, 100, 100, 100, 100, 100, 100, 100, 100, 100, 100, 100, 100, 100, 100, 100, 100, 100, 100, 100, 100, 100, 100, 100, 100, 100, 100, 100, 100, 100, 100, 100, 100, 100, 100, 100, 100, 100, 100, 100, 100, 100, 100, 100, 100, 100, 100, 100, 100, 100, 100, 100, 100, 100, 100, 100, 100, 100, 100, 100, 100, 100, 100, 100, 100, 100, 100, 100, 100, 100, 100, 100, 100, 100, 100, 100, 100, 100, 100, 100, 100, 100, 100, 100, 100, 100, 100, 100, 100, 100, 100, 100, 100, 100, 100, 100, 100, 100, 100, 100, 100, 100, 100, 100, 100, 100, 100, 100, 100, 100, 100, 100, 100, 100, 100, 100, 100, 100, 100, 100, 100, 100, 100, 100, 100, 100, 100, 100, 100, 100, 100, 100, 100, 100, 100, 100, 100, 100, 100, 100, 100, 100, 100, 100, 100, 100, 100, 100, 100, 100, 100, 100, 100, 100, 100, 100, 100, 100, 100, 100, 100, 100, 100, 100, 100, 100, 100, 100, 100, 100, 100, 100, 100, 100, 100, 100, 100, 100, 100, 100, 100, 100, 100, 100, 100, 100, 100, 100, 100, 100, 100, 100, 100, 100, 100, 100, 100, 100, 100, 100, 100, 100, 100, 100, 100, 100, 100, 100, 100, 100, 100, 100, 100, 100, 100, 100, 100, 100, 100, 100, 100, 100, 100, 100, 100, 100, 100, 100, 100, 100, 100, 100, 100, 100, 100, 100, 100, 100, 100, 100, 100, 100, 100, 100, 100, 100, 100, 100, 100, 100, 100, 100, 100, 100, 100, 100, 100, 100, 100, 100, 100, 100, 100, 100, 100, 100, 100, 100, 100, 100, 100, 100, 100, 100, 100, 100, 100, 100, 100, 100, 100, 100, 100, 100, 100, 100, 100, 100, 100, 100, 100, 100, 100, 100, 100, 100, 100, 100, 100, 100, 100, 100, 100, 100, 100, 100, 100, 100, 100, 100, 100, 100, 100, 100, 100, 100, 100, 100, 100, 100, 100, 100, 100, 100, 100, 100, 100, 100, 100, 100, 100, 100, 100, 100, 100, 100, 100, 100, 100, 100, 100, 100, 100, 100, 100, 100, 100, 100, 100, 100, 100, 100, 100, 100, 100, 100, 100, 100, 100, 100, 100, 100, 100, 100, 100, 100, 100, 100, 100, 100, 100, 100, 100, 100, 100, 100, 100, 100, 100, 100, 100, 100, 100, 100, 100, 100, 100, 100, 100, 100, 100, 100, 100, 100, 100, 100, 100, 100, 100, 100, 100, 100, 100, 100, 100, 100, 100, 100, 100, 100, 100, 100, 100, 100, 100, 100, 100, 100, 100, 100, 100, 100, 100, 100, 100, 100, 100, 100, 100, 100, 100, 100, 100, 100, 100, 100, 100, 100, 100, 100, 100, 100, 100, 100, 100, 100, 100, 100, 100, 100, 100, 100]}\n"
     ]
    },
    {
     "name": "stderr",
     "output_type": "stream",
     "text": [
      "\n"
     ]
    }
   ],
   "source": [
    "# Run Q-Learning \n",
    "\n",
    "optimal_Q, q_optimal_policy, q_info = q_learning(env, Q, num_actions, num_episodes, epsilon, lr)\n",
    "print(\"\\nGridWorld Q-Learning Optimal policy: \\n\", q_optimal_policy,q_info)"
   ]
  },
  {
   "cell_type": "code",
   "execution_count": null,
   "metadata": {},
   "outputs": [],
   "source": [
    "# run this cell if you do not have the matplotlib library\n",
    "# !pip install matplotlib\n",
    "import matplotlib.pyplot as plt"
   ]
  },
  {
   "cell_type": "code",
   "execution_count": null,
   "metadata": {},
   "outputs": [],
   "source": [
    "def plot_rate(episode_length, total_reward_episode, title):\n",
    "    fig, ax = plt.subplots(1, 2, figsize=(12, 6))\n",
    "    ax[0].plot(episode_length)\n",
    "    ax[0].set_title(\"Episode Length over time\")\n",
    "    ax[0].set(xlabel=\"Episode\", ylabel=\"Length\")\n",
    "    ax[1].plot(total_reward_episode)\n",
    "    ax[1].set_title(\"Episode reward over time\")\n",
    "    ax[1].set(xlabel=\"Episode reward over time\", ylabel=\"Reward\")\n",
    "    fig.suptitle(title)\n",
    "\n",
    "    plt.show()"
   ]
  },
  {
   "cell_type": "code",
   "execution_count": null,
   "metadata": {},
   "outputs": [],
   "source": [
    "plot_rate(sarsa_info[\"length\"], sarsa_info[\"rewards\"], \"GridWorld: SARSA\")\n",
    "plot_rate(q_info[\"length\"], q_info[\"rewards\"], \"GridWorld: Q-Learning\")"
   ]
  },
  {
   "cell_type": "markdown",
   "metadata": {},
   "source": [
    "## Task 1b: Learning in Windy Grid world"
   ]
  },
  {
   "cell_type": "markdown",
   "metadata": {},
   "source": [
    "WindyGridWorld is similar to GridWorld, but with a few differences. You only need to move to the target state. But this time there is a cross-wind across the center of the grid that will push you upwards. In columns 3, 4, 5, and 8 there are winds of strength 1 while in column 6 and 7 there are winds of strength 2. For more details refer Example 6.5 in\n",
    "\n",
    " http://incompleteideas.net/book/RLbook2020.pdf\n",
    "\n",
    " You only need to change the environment and reuse the SARSA and Q-learning algorithms. "
   ]
  },
  {
   "cell_type": "code",
   "execution_count": null,
   "metadata": {},
   "outputs": [],
   "source": [
    "#Windy Grid World environment\n",
    "from WindyGridWorld import WindyGridWorld\n",
    "env = WindyGridWorld()\n",
    "env.reset()\n",
    "env.render()"
   ]
  },
  {
   "cell_type": "code",
   "execution_count": null,
   "metadata": {},
   "outputs": [],
   "source": [
    "num_actions = env.action_space.n \n",
    "num_states = env.observation_space.n \n",
    "\n",
    "print(\"Number of actions: \", num_actions)\n",
    "print(\"Number of states: \", num_states)"
   ]
  },
  {
   "cell_type": "markdown",
   "metadata": {},
   "source": [
    "Play around with different learning rates epsilons, and Q initializations to see what is best."
   ]
  },
  {
   "cell_type": "code",
   "execution_count": null,
   "metadata": {},
   "outputs": [],
   "source": [
    "num_episodes = 1000\n",
    "lr = \n",
    "epsilon = "
   ]
  },
  {
   "cell_type": "code",
   "execution_count": null,
   "metadata": {},
   "outputs": [],
   "source": [
    "# Initialize Q function - a simplified version is used here \n",
    "# in reality the number of states may be unknown and all states may not be reachable \n",
    "\n",
    "# hint: use num_states as the key to a dictionary of lists\n",
    "Q = "
   ]
  },
  {
   "cell_type": "code",
   "execution_count": null,
   "metadata": {},
   "outputs": [],
   "source": [
    "optimal_sarsa_Q, sarsa_optimal_policy, sarsa_info = sarsa(env, Q, num_actions, num_episodes, epsilon, lr)\n",
    "print(\"\\n WindyGridWorld SARSA Optimal policy: \\n\", sarsa_optimal_policy)"
   ]
  },
  {
   "cell_type": "code",
   "execution_count": null,
   "metadata": {},
   "outputs": [],
   "source": [
    "optimal_Q, q_optimal_policy, q_info = q_learning(env, Q, num_actions, num_episodes, epsilon, lr)\n",
    "print(\"\\n WindyGridWorld Q-Learning Optimal policy: \\n\", q_optimal_policy)"
   ]
  },
  {
   "cell_type": "code",
   "execution_count": null,
   "metadata": {},
   "outputs": [],
   "source": [
    "plot_rate(sarsa_info[\"length\"], sarsa_info[\"rewards\"], \"GridWorld: SARSA\")\n",
    "plot_rate(q_info[\"length\"], q_info[\"rewards\"], \"GridWorld: Q-Learning\")"
   ]
  },
  {
   "cell_type": "markdown",
   "metadata": {},
   "source": [
    "# Task 2: Analysis (Comparison of Q-learning and SARSA learning algorithms)\n",
    "\n",
    "1. Comment on the number of episodes required to converge to the optimal policy for both environments. \n",
    "       \n",
    "2. Discuss the differences in the reward graphs.  \n",
    "\n",
    "3. Calculate the average return across the episodes for each environment. It gives a measure of the performance of the algorithm while learning (i.e., online performance).  \n",
    "\n",
    "4. Calculate the return after convergence. It gives you a measure of the performance after the learning is completed (i.e., offline performance). \n",
    "\n",
    "5. Briefly summarize your results.\n",
    " \n",
    " It is advisable to rerun the algorithm a few times to get a clearer understanding of the algorithms."
   ]
  }
 ],
 "metadata": {
  "kernelspec": {
   "display_name": "Python 3.10.1 64-bit",
   "language": "python",
   "name": "python3"
  },
  "language_info": {
   "codemirror_mode": {
    "name": "ipython",
    "version": 3
   },
   "file_extension": ".py",
   "mimetype": "text/x-python",
   "name": "python",
   "nbconvert_exporter": "python",
   "pygments_lexer": "ipython3",
   "version": "3.10.1"
  },
  "orig_nbformat": 4,
  "vscode": {
   "interpreter": {
    "hash": "8c15513000e9b1aafc2c9d9aa59a4469dae56d5c667cde04f926e98d41bd6c86"
   }
  }
 },
 "nbformat": 4,
 "nbformat_minor": 2
}
