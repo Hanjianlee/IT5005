{
  "cells": [
    {
      "cell_type": "markdown",
      "metadata": {
        "id": "74AB1kGjz4Eo"
      },
      "source": [
        "Group Name: AG 19\n",
        "\n",
        "Student Name (Student ID):\n",
        "\n",
        "1. Lee Han Jian (A0248322J)\n",
        "\n",
        "2. LI SHENGDONG (xxxxxxx)\n",
        "\n",
        "3. ZHENG WENGRUI (xxxxxxx)"
      ]
    },
    {
      "cell_type": "markdown",
      "metadata": {
        "id": "9lKyojAFz4Et"
      },
      "source": [
        "# Question 1\n",
        "\n",
        "Consider the maze shown below. The Maze has 16 rows and 24 columns The objective is to find a shortest path from cell $S$ to cell $G$.\n",
        "\n",
        "\n",
        "![Maze](https://github.com/Hanjianlee/IT5005/blob/main/assignment1/Maze_Assignment_1.jpg?raw=1)\n",
        "\n",
        "\n",
        "The agent can take four actions in each cell: 'RIGHT', 'DOWN', 'UP', 'LEFT'.  \n",
        "\n",
        "Each cell is represented as $(x,y)$, where $x$ indicates row number and $y$ indicates column number. Action 'UP' takes the agent from cell $(x,y)$ to $(x+1,y)$. Action 'DOWN' takes the agent from cell $(x,y)$ to $(x-1,y)$. Action 'RIGHT' takes the agent from cell $(x,y)$ to $(x,y+1)$. Action 'LEFT' takes the agent from cell $(x,y)$ to $(x,y-1)$. The triplet $(s,a,s')$  indicates that taking action $a$ at state $s$ leads to state $s'$. Actions 'LEFT' or 'RIGHT' cost 10 units for all $(s,a,s')$. Actions 'UP' or 'DOWN' cost 1 unit for all  $(s,a,s')$.  The agent cannot move into cells that are shaded. Assume that the agent knows the boundaries of the maze and has full observability. Consequently, at the bottom (row 0) and top (row 15), the agent will not take actions 'DOWN' and 'UP', respectively; at left (column 0) and right (column 23) columns, the agent will not take 'LEFT' and 'RIGHT' actions, respectively. Similalry, the agent will not take actions that lead to shaded region in the maze.\n",
        "\n",
        "## **Q1.a: Class Maze(Problem)** [3 Marks]\n",
        "\n",
        "Write a Maze class to create a model for this problem. You should not use an explicit state space model. The modelling should inherit the abstract class 'Problem' (given below). With the problem formulation, find the shortest path from S to G cell. Propose and implement multiple heuristics (at least two heuristics) for informed search algorithms. "
      ]
    },
    {
      "cell_type": "markdown",
      "metadata": {
        "id": "NDdKnBo9z4Eu"
      },
      "source": [
        "## **Q1.b: Analysis of the Algorithms** [7 Marks]\n",
        "\n",
        "1. Solve the above Maze problem using the following algorithms\n",
        "\n",
        "    a. Breadth-First Search\n",
        "\n",
        "    b. Depth-First Search with Cycle-Check\n",
        "\n",
        "    c. Iterative-Deepening Search with Cycle-Check\n",
        "\n",
        "    d. Uniform-Cost Search\n",
        "\n",
        "    e. A* Search \n",
        "\n",
        "    f. Greedy Best-first Search\n",
        "\n",
        "    g. Any other variants for search algorithms that are not discussed in the class (bonus/optional question) \n",
        "\n",
        "2. Identify the number of nodes generated, number of nodes expanded, maximum frontier size, and path-cost for the above algorithms. \n",
        " \n",
        "3. Compare the performance of informed search algorithms with proposed heuristics. Identify the best performing heuristic and explain.\n",
        " \n",
        "4. Draw a bar plot comparing the statistics of the algorithms and explain the results. \n",
        "\n",
        "Note 1: You must follow the problem formulation discussed in the class. A abstract class for Problem and Node definition is presented below. The search tree generation should follow the template discussed in the class (i.e., Node class, expand methods, etc.). \n",
        "\n",
        "Note 2: If you are borrowing a block of code (for example, helper functions or data structures, etc.) from AIMA4e repository, you have to acknowledge it in the code. \n",
        "\n",
        "Note 3: The code should be written in a single jupyter notebook file."
      ]
    },
    {
      "cell_type": "code",
      "execution_count": 2,
      "metadata": {
        "id": "yrxU4EwLz4Ev"
      },
      "outputs": [],
      "source": [
        "class Problem:\n",
        "    \"\"\"The abstract class for a formal problem. A new domain subclasses this,\n",
        "    overriding `actions` and `results`, and perhaps other methods.\n",
        "    The default heuristic is 0 and the default action cost is 1 for all states.\n",
        "    When you create an instance of a subclass, specify `initial`, and `goal` states \n",
        "    (or give an `is_goal` method) and perhaps other keyword args for the subclass.\"\"\"\n",
        "\n",
        "    def __init__(self, initial=None, goal=None, **kwds): \n",
        "        self.__dict__.update(initial=initial, goal=goal, **kwds) \n",
        "        \n",
        "    def actions(self, state):        raise NotImplementedError\n",
        "    def result(self, state, action): raise NotImplementedError\n",
        "    def is_goal(self, state):        return state == self.goal\n",
        "    def action_cost(self, s, a, s1): return 1\n",
        "    def h(self, node):               return 0\n",
        "    \n",
        "    def __str__(self):\n",
        "        return '{}({!r}, {!r})'.format(\n",
        "            type(self).__name__, self.initial, self.goal)"
      ]
    },
    {
      "cell_type": "code",
      "execution_count": 3,
      "metadata": {
        "id": "LeGHPpk3z4Ex"
      },
      "outputs": [],
      "source": [
        "# Use the following Node class to generate search tree\n",
        "import math\n",
        "class Node:\n",
        "    \"A Node in a search tree.\"\n",
        "    def __init__(self, state, parent=None, action=None, path_cost=0):\n",
        "        self.__dict__.update(state=state, parent=parent, action=action, path_cost=path_cost)\n",
        "\n",
        "    def __repr__(self): return '<{}>'.format(self.state)\n",
        "    def __len__(self): return 0 if self.parent is None else (1 + len(self.parent))\n",
        "    def __lt__(self, other): return self.path_cost < other.path_cost \n",
        "    def get_details(self):\n",
        "        print(self.state,self.parent,self.action,self.path_cost)\n"
      ]
    },
    {
      "cell_type": "code",
      "execution_count": 14,
      "metadata": {
        "id": "ERXgjX7gz4Ey",
        "outputId": "33636ce0-fd6e-4f1a-80f5-13cc3514047c",
        "colab": {
          "base_uri": "https://localhost:8080/"
        }
      },
      "outputs": [
        {
          "output_type": "stream",
          "name": "stdout",
          "text": [
            "Good start! :)\n",
            "[1. BFS]\n",
            "166\n",
            "Good start! :)\n",
            "[2. DFS]\n",
            "180\n"
          ]
        },
        {
          "output_type": "execute_result",
          "data": {
            "text/plain": [
              "<(11, 9)>"
            ]
          },
          "metadata": {},
          "execution_count": 14
        }
      ],
      "source": [
        "from collections import deque\n",
        "class Maze(Problem):\n",
        "    #Your code goes here (16x24 Board)\n",
        "    def __init__(self):\n",
        "        self.initial = (8,10) # Start\n",
        "        self.goal = (11,9) # Goal \n",
        "        self.hueristic = 1\n",
        "        self.up_cost = self.down_cost = 1\n",
        "        self.left_cost = self.right_cost = 10\n",
        "        # Shaded regions\n",
        "        self.shaded_regions = set()\n",
        "        self.add_shadded_region(14,9)\n",
        "\n",
        "        #Column 1 @ column 10\n",
        "        self.add_shadded_region(13,10)\n",
        "        self.add_shadded_region(12,10)\n",
        "        self.add_shadded_region(11,10)\n",
        "        self.add_shadded_region(10,10)\n",
        "\n",
        "        #Column 2 @ column\n",
        "        self.add_shadded_region(10,9)\n",
        "        self.add_shadded_region(9,9)\n",
        "        self.add_shadded_region(8,9)\n",
        "        self.add_shadded_region(7,9)\n",
        "        self.add_shadded_region(6,9)\n",
        " \n",
        "        # SquareBox\n",
        "        self.add_shadded_region(11,12)\n",
        "        self.add_shadded_region(10,12)\n",
        "        self.add_shadded_region(11,13)\n",
        "        self.add_shadded_region(10,13)\n",
        "\n",
        "        self.check = Node(self.initial,None,None,1)\n",
        "        # Print start Node State\n",
        "        if self.check.state not in self.shaded_regions:\n",
        "            print(\"Good start! :)\")\n",
        "        else: \n",
        "            print(\"Bad Start! :(\")\n",
        "    \n",
        "    def add_shadded_region(self,r: int,c: int):\n",
        "        if not isinstance(r,int) or not isinstance(c,int):\n",
        "            raise AttributeError\n",
        "        return self.shaded_regions.add((r,c))\n",
        "    \n",
        "    def actions(self):\n",
        "        return ['UP','DOWN','LEFT','RIGHT']\n",
        "\n",
        "    def result(self, state:tuple, action: str): \n",
        "        if  action == 'UP':\n",
        "            if state[0] == 15:\n",
        "                return None \n",
        "            new_state = (state[0]+1,state[1])\n",
        "            if new_state in self.shaded_regions:\n",
        "                return None\n",
        "        elif action == 'DOWN':\n",
        "            if state[0] == 0 :\n",
        "                return None     \n",
        "            new_state = (state[0]-1,state[1])\n",
        "            if new_state in self.shaded_regions:\n",
        "                return None\n",
        "        elif action == 'LEFT':\n",
        "            if state[1] == 0:\n",
        "                return None \n",
        "            new_state = (state[0],state[1]-1)\n",
        "            if new_state in self.shaded_regions:\n",
        "                return None\n",
        "        elif action == 'RIGHT':\n",
        "            if state[1] == 23:\n",
        "                return None \n",
        "            new_state =(state[0],state[1]+1)\n",
        "            if new_state in self.shaded_regions:\n",
        "                return None\n",
        "        return Node(new_state,action,self.up_cost)\n",
        "\n",
        "    def expand(self,state):\n",
        "        nodes = []\n",
        "        for action in self.actions():\n",
        "            result = self.result(state,action)\n",
        "            if result is not None:\n",
        "                nodes.append(result)\n",
        "        return nodes\n",
        "\n",
        "class BFS(Maze):\n",
        "  def search(self):\n",
        "      print(\"[1. BFS]\")\n",
        "      node = Node(self.initial)\n",
        "      if self.is_goal(node.state):\n",
        "          return node\n",
        "      frontier = deque([node]) # FIFO\n",
        "      reached = {self.initial}\n",
        "      count = 0\n",
        "      while len(frontier):\n",
        "          count += 1\n",
        "          node = frontier.popleft()\n",
        "          # TODO: loop through expanded nodes ~~ \n",
        "          for child_node in  self.expand(node.state):\n",
        "              if self.is_goal(child_node.state): \n",
        "                  print(count)\n",
        "                  return child_node\n",
        "              if child_node.state not in reached:\n",
        "                  reached.add(child_node.state)\n",
        "                  frontier.append(child_node)\n",
        "      return 'Error'\n",
        "        \n",
        "class DFS(Maze):\n",
        "  def search(self):\n",
        "      print(\"[2. DFS]\")\n",
        "      node = Node(self.initial)\n",
        "      if self.is_goal(node.state):\n",
        "          return node\n",
        "      frontier = [node] # LIFO\n",
        "      reached = {self.initial}\n",
        "      count = 0\n",
        "      while len(frontier):\n",
        "          count += 1\n",
        "          node = frontier.pop()\n",
        "          # TODO: loop through expanded nodes ~~ \n",
        "          for child_node in  self.expand(node.state):\n",
        "              if self.is_goal(child_node.state): \n",
        "                  print(count)\n",
        "                  return child_node\n",
        "              if child_node.state not in reached:\n",
        "                  reached.add(child_node.state)\n",
        "                  frontier.append(child_node)\n",
        "      print(count)\n",
        "      return 'Error'\n",
        "\n",
        "bfs = BFS()\n",
        "bfs.search()\n",
        "dfs = DFS()\n",
        "dfs.search()\n"
      ]
    },
    {
      "cell_type": "code",
      "execution_count": null,
      "metadata": {
        "id": "nlhwKxQxz4E0"
      },
      "outputs": [],
      "source": []
    }
  ],
  "metadata": {
    "kernelspec": {
      "display_name": "Python 3 (ipykernel)",
      "language": "python",
      "name": "python3"
    },
    "language_info": {
      "codemirror_mode": {
        "name": "ipython",
        "version": 3
      },
      "file_extension": ".py",
      "mimetype": "text/x-python",
      "name": "python",
      "nbconvert_exporter": "python",
      "pygments_lexer": "ipython3",
      "version": "3.10.1"
    },
    "vscode": {
      "interpreter": {
        "hash": "85c6d5c81e07e5df96d46470b5f31cdc60bf99937c21eb8030f5ac9c2291ee2f"
      }
    },
    "colab": {
      "provenance": []
    }
  },
  "nbformat": 4,
  "nbformat_minor": 0
}