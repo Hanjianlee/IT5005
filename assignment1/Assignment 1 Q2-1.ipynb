{
 "cells": [
  {
   "cell_type": "markdown",
   "metadata": {},
   "source": [
    "Group Name: AG 19\n",
    "\n",
    "Student Name (Student ID):\n",
    "\n",
    "1. Lee Han Jian (A0248322J)\n",
    "\n",
    "2. LI SHENGDONG (A0248417Y)\n",
    "\n",
    "3. ZHENG WENGRUI (A0250948W)"
   ]
  },
  {
   "cell_type": "markdown",
   "metadata": {
    "id": "yZOz6Y_cLGOT"
   },
   "source": [
    "# Question 2\n",
    "\n",
    "## Introduction to question 2\n",
    "\n",
    "In the second question of this assignment, we will explore the use of local search in genome assembly.\n",
    "\n",
    "We will use local search to assemble (construct) a large part of the nucleotide sequence of the monkeypox virus, which has been downloaded from the National Center for Biotechnology Information in the United States. Please note that no additional or specialized knowledge of biology or bioinformatics is required for this assignment. (Actually, the technical specifics of bioinformatics have been adapted and simplified for the purposes of this computer science assignment, so if you are a biologist, please do not apply preexisting knowledge to solve the problem. Furthermore, you should not attempt to search up the genome on genomic databases to \"guess\" the actual sequence, since we are more interested in your coding methodology rather than your attempts at reproducing a known sequence.)\n",
    "\n",
    "This is an introductory computer science assignment and not a bioinformatics assignment; we are simply using bioinformatics as a use case to illustrate the applicability of local search to the natural sciences. Therefore, no knowledge of bioinformatics is assumed or required. In the paragraphs that follow, I will give a short crash course which will cover all the domain knowledge you will need to know in order to tackle this problem.  \n",
    "\n",
    "For technical reasons, when we analyze the nucleotide sequence (genome) of a virus, we usually cannot “read” it in one fell swoop. We have to read the genome in parts, because the genome is usually too long for the machine to read in a single sitting. To simplify things, a “read” is a single view of part of the genome; think of it as a SUBSTRING, a partial view of the whole genome. After we have generated multiple reads of a genome, we then have to “stitch”, or combine, the different reads of the genome together. This process of stitching up reads of a genome into the final sequence is known as genome assembly. However, the different reads of the genome cannot just be concatenated like usual string concatenation. It’s not a situation where you have one read, “Hello”, and another read, “World”, and all you need to do is concatenate both strings together to make “Hello World”. Among other reasons, there are two major reasons why you can’t do so:\n",
    "\n",
    "1. You do not know which read came first. The reads are not ordered. How do you know “Hello” came after “World”? The answer is that you don’t. Imagine how complicated this situation might be if you had more than two reads. (This is indeed our situation, where we have $n$ reads, and $n>>2$.)\n",
    "\n",
    "2. One read may contain a substring contained in another read. Specifically, without loss of generality, part of the ending $x$ characters of a read (i.e., suffix) might also be found in the starting $x$ positions (i.e., prefix) of another read.\n",
    "\n",
    "- A computer scientist usually creates opportunities from problems. While this may be a “problem” in that you just can’t concatenate two strings blindly, the fact that strings contain shared “substrings” is actually a very helpful clue that you can use to “join” strings together. \n",
    "\n",
    "- Note that the choice of the value of $x$ could be a hyperparameter decided by the computer scientist.\n",
    "\n",
    "## Your tasks\n",
    "\n",
    "In this part of the assignment, you will work with (simulated) reads that I have generated from the nucleotide sequence of the monkeypox virus. In reality, bioinformatics is far more complicated, but here we will work with a simplified situation. Your task is to examine the reads that I have provided for you, and from there “infer” the nucleotide sequence that might have produced those reads. \n",
    "\n",
    "The reads are provided in the csv file `data.csv` which simply provides a list of unique strings. Note that you should NOT assume any particular ordering of the strings in this dataframe. In fact, the strings have already been shuffled randomly. \n",
    "\n",
    "NOTE: You are not allowed to use `pandas` or any other libraries apart from the Python STL to load the csv file.\n",
    "\n",
    "### Task A (3 marks): \n",
    "\n",
    "Create a directed graph. The nodes in the graph are the strings in the list of reads. An edge should be drawn FROM read A TO read B if and only if a suffix (of length $x$) of read A is also a prefix (obviously, also of length $x$) of read B. For the purposes of the assignment, limit the value of $x$ to between 5 and 30, both inclusive. That is, to be clear, $5\\leq x\\leq 30$. The weight of an edge between read A and read B should be the NEGATED value of $x$, i.e. $-x$. \n",
    "\n",
    "In your Jupyter notebook, please report the number of edges in your graph. Provide a barplot or histogram which shows the number of edges with different weights or weight categories. In this task, you are free to use plotting libraries such as `matplotlib` or `seaborn` to plot this graph.\n",
    "\n",
    "As an example, if read A is \"TACTAGT\" and read B is \"TAGTCCCCT\", then an edge is drawn FROM read A TO read B (i.e., $A \\rightarrow B$) with weight of $-4$. This is because the 4-suffix \"TAGT\" is also the 4-prefix of read B; in other words, the last 4 characters of read A (a substring of length 4) overlap with the first 4 characters of read B (a substring of length 4).\n",
    "\n",
    "### Task B (7 marks): \n",
    "\n",
    "From Task A, you now have a graph which shows connections between reads based on how they overlap, in theory you could draw a path through the graph and thereby derive the full sequence (genome).\n",
    "\n",
    "Task B asks you to use local search method(s) to determine a path through this directed graph of strings. \n",
    "\n",
    "- You are expected to use simulated annealing and tune the relevant configuration settings and hyperparameters. The minimum requirement is to implement simulated annealing.\n",
    "\n",
    "- Explain tha rationale behind the choice of scheduling strategy and parameters.\n",
    "\n",
    "- However, you may also explore other search methods in addition to simulated annealing. Marks will be awarded for effort.\n",
    "\n",
    "Note the following constraints:\n",
    "\n",
    "1. The path has to go through each and every vertex exactly once. For computer scientists, this constraint is reminiscent of the \"Traveling Salesman's Problem\", except that unlike TSP, we should not need to go back to the starting vertex again. \n",
    "\n",
    "2. For the purposes of neighbor generation / action selection at each node, bear in mind that a path through the graph which minimizes the total number of nucleotides in the assembled sequence is the preferred path. To state that another way, the assembled sequence should be derived from a path that goes through EACH and EVERY vertex exactly once, however we want this assembled sequence to be AS SHORT AS POSSIBLE.\n",
    "\n",
    "3. You are not given the starting (source/origin) or ending (destination) vertex.\n",
    "\n",
    "4. For avoidance of ambiguity, no cycles are allowed. You must not visit a vertex more than once.\n",
    "\n",
    "5. You are not allowed to use any libraries apart from the Python Standard Library.\n",
    "No import statements which import libraries outside of the Python STL should be found within your answer for Task B.\n",
    "\n",
    "Please remember to report the assembled sequence that you obtain. Although it would be great if you can come up with a good sequence, please feel reassured that we are more interested in your APPROACH to the problem, and so you can potentially get a reasonable score on this task even if your solution is \"wrong\". It is the process, rather than the result, which matters more."
   ]
  },
  {
   "cell_type": "code",
   "execution_count": 2,
   "metadata": {
    "id": "oBnbZpd2bt1N"
   },
   "outputs": [],
   "source": [
    "# Problem Class\n",
    "class Problem:\n",
    "    \"\"\"The abstract class for a formal problem. A new domain subclasses this,\n",
    "    overriding `actions` and `results`, and perhaps other methods.\n",
    "    The default heuristic is 0 and the default action cost is 1 for all states.\n",
    "    When you create an instance of a subclass, specify `initial`, and `goal` states \n",
    "    (or give an `is_goal` method) and perhaps other keyword args for the subclass.\"\"\"\n",
    "\n",
    "    def __init__(self, initial=None, goal=None, **kwds): \n",
    "        self.__dict__.update(initial=initial, goal=goal, **kwds) \n",
    "        \n",
    "    def actions(self, state):        raise NotImplementedError\n",
    "    def result(self, state, action): raise NotImplementedError\n",
    "    def is_goal(self, state):        return state == self.goal\n",
    "    def action_cost(self, s, a, s1): return 1\n",
    "    def h(self, node):               return 0\n",
    "    \n",
    "    def __str__(self):\n",
    "        return '{}({!r}, {!r})'.format(\n",
    "            type(self).__name__, self.initial, self.goal)"
   ]
  },
  {
   "cell_type": "code",
   "execution_count": 3,
   "metadata": {},
   "outputs": [],
   "source": [
    "# Use the following Node class to generate search tree\n",
    "import math\n",
    "class Node:\n",
    "    \"A Node in a search tree.\"\n",
    "    def __init__(self, state, parent=None, action=None, path_cost=0):\n",
    "        self.__dict__.update(state=state, parent=parent, action=action, path_cost=path_cost)\n",
    "\n",
    "    def __repr__(self): return '<{}>'.format(self.state)\n",
    "    def __len__(self): return 0 if self.parent is None else (1 + len(self.parent))\n",
    "    def __lt__(self, other): return self.path_cost < other.path_cost "
   ]
  },
  {
   "cell_type": "markdown",
   "metadata": {},
   "source": [
    "## Task A:\n",
    "\n",
    "### Constructing the directed graph\n",
    "\n",
    "Here we create the directed graph where the nodes in the graph are the strings in the list of reads. We first calculate the exact longest overlap from one string to another and then deal with the ones that fall outside the [5,30] in the next section.\n",
    "\n",
    "For the representation of the directed graph, we use adjacent matrix for simplicity."
   ]
  },
  {
   "cell_type": "code",
   "execution_count": 4,
   "metadata": {},
   "outputs": [
    {
     "name": "stdout",
     "output_type": "stream",
     "text": [
      "Start constructing directed graph from data.csv file\n",
      "Directed graph constructed!\n"
     ]
    }
   ],
   "source": [
    "import csv\n",
    "\n",
    "class DirectedGraph:\n",
    "    def __init__(self):\n",
    "        # strings array stores all the strings read from the csv file\n",
    "        strings = []\n",
    "        with open(\"data.csv\") as csvfile:\n",
    "            csvreader = csv.reader(csvfile)\n",
    "            next(csvreader)  # ignore the first line\n",
    "            for row in csvreader:\n",
    "                strings.append(row[2])\n",
    "        \n",
    "        # number of reads\n",
    "        number_of_reads = len(strings)\n",
    "        \n",
    "        # create adjacent matrix\n",
    "        # since all edges always have negative weight, graph[A][B] has weight 0 means there is NO edge from A to B\n",
    "        # initialize all matrix element to 0, which means there is no edge in the graph initially\n",
    "        # self.adjMatrix[i][j] means the edge FROM string[i] TO string[j]\n",
    "        self.adjMatrix = [[0] * number_of_reads for _ in range(number_of_reads)]\n",
    "        \n",
    "        # next_arrays is a list of lists which stores next arrays for all strings\n",
    "        next_arrays = []\n",
    "        for string in strings:\n",
    "            next_arrays.append(DirectedGraph.next_array(string))\n",
    "                    \n",
    "        # i is the index of the FROM string (the former one, s1)\n",
    "        for i in range(number_of_reads):\n",
    "            # j is the index of the TO string (the latter one, s2)\n",
    "            for j in range(number_of_reads):\n",
    "                # there should not be edge from A to A\n",
    "                if i != j:\n",
    "                    # the distance from i to j is negate overlap\n",
    "                    self.adjMatrix[i][j] = - DirectedGraph.overlap(strings[i], strings[j], next_arrays[j])\n",
    "                    \n",
    "    '''\n",
    "    Calculate overlap of string A (s1) to B (s2)\n",
    "    Algorithm KMP\n",
    "    '''\n",
    "    # calculate next array of s2, which is pattern in this case\n",
    "    @staticmethod\n",
    "    def next_array(s2):\n",
    "        nextA = [0] * len(s2)\n",
    "        j = 0\n",
    "        k = -1\n",
    "        nextA[j] = k\n",
    "        while j < len(s2) - 1:\n",
    "            if (k == -1) or (s2[j] == s2[k]):\n",
    "                j += 1\n",
    "                k += 1\n",
    "                if s2[j] == s2[k]:\n",
    "                    nextA[j] = nextA[k]\n",
    "                else:\n",
    "                    nextA[j] = k\n",
    "            else:\n",
    "                k = nextA[k]\n",
    "        return nextA\n",
    "\n",
    "    @staticmethod\n",
    "    def overlap(s1, s2, next_s2):\n",
    "        '''\n",
    "        Returns longest overlap from s1 to s2\n",
    "        i.e. the longest suffix of s1, which is also prefix of s2\n",
    "        pass the next array of s2 in, since we need to compute overlap of each pair and we need to use next_s2 for several times\n",
    "        '''\n",
    "\n",
    "        l1 = len(s1)\n",
    "        l2 = len(s2)\n",
    "        # if l1 < l2, then we start from 0 in text\n",
    "        if l1 < l2:\n",
    "            i = 0\n",
    "        # if l1 >= l2, then we start from (l1 - l2) in text\n",
    "        else:\n",
    "            i = l1 - l2\n",
    "\n",
    "        j = 0\n",
    "        while i < l1:\n",
    "            if (j == -1) or (s1[i] == s2[j]):\n",
    "                i += 1\n",
    "                j += 1\n",
    "            else:\n",
    "                j = next_s2[j]\n",
    "        # when i steps into the void after s1's last element\n",
    "        # j is the length of the prefix matched\n",
    "        return j\n",
    "\n",
    "# Constructing the Directed graph, it may take several seconds, please wait patiently before it completes\n",
    "print(\"Start constructing directed graph from data.csv file\")    \n",
    "dg = DirectedGraph()\n",
    "print(\"Directed graph constructed!\")"
   ]
  },
  {
   "cell_type": "markdown",
   "metadata": {},
   "source": [
    "### Limiting the overlap within [5,30]\n",
    "\n",
    "#### Enforcing the upper bound\n",
    "\n",
    "As described in the question, we should limit the overlap from 5 to 30 (both inclusive). Firstly, we want to deal with edges with overlap larger than 30. Actually, we will see from the below code: there is only one edge has a weight less than -30, which is from Read 457 to Read 27. This edge corresponds to an overlap of 62."
   ]
  },
  {
   "cell_type": "code",
   "execution_count": 5,
   "metadata": {},
   "outputs": [
    {
     "name": "stdout",
     "output_type": "stream",
     "text": [
      "Distance from Read 457 to Read 27 is -62\n"
     ]
    }
   ],
   "source": [
    "for i,row in enumerate(dg.adjMatrix):\n",
    "    for j,distance in enumerate(row):\n",
    "        if distance < -30:\n",
    "            print(f\"Distance from Read {i} to Read {j} is {distance}\")"
   ]
  },
  {
   "cell_type": "markdown",
   "metadata": {},
   "source": [
    "However, if we limit Read 457 to Read 27's overlap to a upper bound 30, they will happen to have an overlap of 30, i.e. the last 30 chars of Read 457 is exactly the same as the first 30 chars of Read 27. It also means that the weight of the edge from Read 457 to Read 27 is exactly -30.\n",
    "\n",
    "The below code sllightly change the algorithm used to compute overlap from one string to another which starts comparing only from the last 30 elements of the first string, i.e. imposing the upper bound of the result to 30 (inclusive). And the result turns out to be that overlap from Read 457 to Read 27 is 30 when we impose the upper bound 30."
   ]
  },
  {
   "cell_type": "code",
   "execution_count": 6,
   "metadata": {},
   "outputs": [
    {
     "name": "stdout",
     "output_type": "stream",
     "text": [
      "When imposing the upper bound of 30, overlap from Read 457 to Read 27 is 30\n"
     ]
    }
   ],
   "source": [
    "'''\n",
    "Calculate overlap of string A (s1) to B (s2) with an upper bound of 30\n",
    "Algorithm KMP\n",
    "'''\n",
    "# calculate next array of s2, which is pattern in this case\n",
    "def next_array(s2):\n",
    "    nextA = [0] * len(s2)\n",
    "    j = 0\n",
    "    k = -1\n",
    "    nextA[j] = k\n",
    "    while j < len(s2) - 1:\n",
    "        if (k == -1) or (s2[j] == s2[k]):\n",
    "            j += 1\n",
    "            k += 1\n",
    "            if s2[j] == s2[k]:\n",
    "                nextA[j] = nextA[k]\n",
    "            else:\n",
    "                nextA[j] = k\n",
    "        else:\n",
    "            k = nextA[k]\n",
    "    return nextA\n",
    "\n",
    "\n",
    "def overlap(s1, s2, next_s2):\n",
    "    '''\n",
    "    Returns longest overlap from s1 to s2, the upper bound is 30\n",
    "    i.e. the longest suffix of s1, which is also prefix of s2\n",
    "    pass the next array of s2 in, since we need to compute overlap of each pair and we need to use next_s2 for several times\n",
    "    '''\n",
    "\n",
    "    l1 = len(s1)\n",
    "    l2 = len(s2)\n",
    "    i = l1 - 30  # impose the upper bound to 30\n",
    "\n",
    "    j = 0\n",
    "    while i < l1:\n",
    "        if (j == -1) or (s1[i] == s2[j]):\n",
    "            i += 1\n",
    "            j += 1\n",
    "        else:\n",
    "            j = next_s2[j]\n",
    "    # when i steps into the void after s1's last element\n",
    "    # j is the length of the prefix matched\n",
    "    return j\n",
    "\n",
    "\n",
    "with open(\"data.csv\") as csvfile:\n",
    "    csvreader = csv.reader(csvfile)\n",
    "    next(csvreader)  # ignore the first line\n",
    "    for row in csvreader:\n",
    "        if int(row[0]) == 457:\n",
    "            s1 = row[2]\n",
    "        elif int(row[0]) == 27:\n",
    "            s2 = row[2]\n",
    "\n",
    "print(f\"When imposing the upper bound of 30, overlap from Read 457 to Read 27 is {overlap(s1,s2,next_array(s2))}\")\n",
    "            "
   ]
  },
  {
   "cell_type": "markdown",
   "metadata": {},
   "source": [
    "#### Enforcing the lower bound\n",
    "\n",
    "If Read A to Read B has an overlap less than 5, then when we impose the lower bound of 5, Read A to Read B will have no overlap. We could simply say that there is no edge from Read A to Read B.\n",
    "\n",
    "We could simply set these edges's weight back to 0, which means there is no edge."
   ]
  },
  {
   "cell_type": "code",
   "execution_count": 7,
   "metadata": {},
   "outputs": [
    {
     "name": "stdout",
     "output_type": "stream",
     "text": [
      "Total number of edges in graph is 126876\n",
      "Among these edges, there are 125369 edges has weight > -5, i.e. overlap is less than 5. If we exclude these edges, there are 1507 edges in total\n"
     ]
    }
   ],
   "source": [
    "# edge count\n",
    "count = 0\n",
    "# count of edges with weight > -5, i.e. overlap is less than -5 \n",
    "count_to_exclude = 0\n",
    "for i,row in enumerate(dg.adjMatrix):\n",
    "    for j,distance in enumerate(row):\n",
    "        if distance != 0:\n",
    "            count += 1\n",
    "            if distance > -5:\n",
    "                count_to_exclude += 1\n",
    "            \n",
    "print(f\"Total number of edges in graph is {count}\")\n",
    "print(f\"Among these edges, there are {count_to_exclude} edges has weight > -5, i.e. overlap is less than 5. If we exclude these edges, there are {count - count_to_exclude} edges in total\")\n"
   ]
  },
  {
   "cell_type": "markdown",
   "metadata": {},
   "source": [
    "#### Implement the limit of [5,30] in our directed graph\n",
    "\n",
    "From the above two session, we can conclude that to impose the limit of [5,30] in overlap. We should\n",
    "\n",
    "- set the weight from Read 457 to Read 27 to 30\n",
    "- delete all edges with weight > -5\n",
    "\n",
    "In the following code cell, we do the limit task."
   ]
  },
  {
   "cell_type": "code",
   "execution_count": 8,
   "metadata": {},
   "outputs": [],
   "source": [
    "# impose the upper bound\n",
    "dg.adjMatrix[457][27] = -30\n",
    "\n",
    "# impose the lower bound\n",
    "for i,row in enumerate(dg.adjMatrix):\n",
    "    for j,weight in enumerate(row):\n",
    "        if weight > -5 and weight < 0:\n",
    "            dg.adjMatrix[i][j] = 0"
   ]
  },
  {
   "cell_type": "markdown",
   "metadata": {},
   "source": [
    "### Counting edges and visualization of their weight distribution\n",
    "\n",
    "In this session, we count the number of valid edges (whose weight fall inside [-30,-5], i.e. corresponding overlap fall inside [5,30]) and visualize the distribution in bar plot using `matplotlib`.\n",
    "\n",
    "From the above code cell, we could know we have **126876** edges in the original directed graph (weight lies between -1 to -62).\n",
    "\n",
    "From the below code cell, we could know we have **1507** edges (whose weight is between -5 to -30) in our graph.\n",
    "\n",
    "PS: Please make sure you have run the upper code cell imposing the limit before run the below code cell. Otherwise you will get a totally different results."
   ]
  },
  {
   "cell_type": "code",
   "execution_count": 9,
   "metadata": {},
   "outputs": [
    {
     "name": "stdout",
     "output_type": "stream",
     "text": [
      "Number of valid edges is 1507\n"
     ]
    },
    {
     "data": {
      "text/plain": [
       "<BarContainer object of 26 artists>"
      ]
     },
     "execution_count": 9,
     "metadata": {},
     "output_type": "execute_result"
    },
    {
     "data": {
      "image/png": "[encoded data removed]",
      "text/plain": [
       "<Figure size 640x480 with 1 Axes>"
      ]
     },
     "metadata": {},
     "output_type": "display_data"
    }
   ],
   "source": [
    "# Visualize the weight distribution\n",
    "import matplotlib.pyplot as plt\n",
    "\n",
    "# HashMap saving number of edges with different weight\n",
    "hm = {}\n",
    "# edge count\n",
    "count = 0\n",
    "for i,row in enumerate(dg.adjMatrix):\n",
    "    for j,distance in enumerate(row):\n",
    "        if distance != 0:\n",
    "            count += 1\n",
    "            hm[distance] = hm.get(distance, 0) + 1\n",
    "\n",
    "print(f\"Number of valid edges is {count}\")\n",
    "# x and height of bar plot\n",
    "x = []\n",
    "height = []\n",
    "for dist, number in hm.items():\n",
    "    x.append(dist)\n",
    "    height.append(number)\n",
    "plt.bar(x, height)"
   ]
  },
  {
   "cell_type": "markdown",
   "metadata": {},
   "source": [
    "## Task B:\n",
    "\n",
    "First of all, the goal is to minimize the length of the final string which is the combination of all strings provided. This can be reduced to maximize the total overlap of every two consecutive strings. When we define the distance from Read A to Read B as the -overlap from A to B, our goal turns into minimize the total -overlap of every two consecutive strings.\n",
    "\n",
    "Because of this theoretical foundation, we could treat two unconnected strings (whose edge has weight 0) as the two endpoint connected with 0 overlap. Adding these 0 weight edge will not affect the total -overlap we found, nor will affect the length of the final string combined.\n",
    "\n",
    "So in the following part, we treat 0 weight edge as they are connected with 0 -overlap and the graph becomes a fully connected graph in this sense.\n",
    "\n",
    "### TSP class\n",
    "\n",
    "In the TSP class, we model state as a list of index. The index stands for a Read, for example, index 105 stands for Read 105.\n",
    "Moreover, the order in the list stands for the order we travel across all cities (in the genome assembly case, the order we assemble strings). For example, [...107,409,...] means we first use Read 107 and it is followed by 409. \n",
    "\n",
    "In the TSP class, we implement two things:\n",
    "\n",
    "1. the method to generate neighbors\n",
    "2. the method to calculate value of a state (a complete configuration)\n",
    "\n",
    "#### Generating neighbors\n",
    "\n",
    "For the neighbors generating, we use 2-opt method to generate neighbors. The `two_opt` method in the class accepts the current state, the index (in state list) of the end point for the first edge to cut, the index (in state list) of the start point for the second edge to cut. To be more specific, `two_opt(self, state, i, j)` means cutting edge from `state[i-1]` to `state[i]` and edge from `state[j]` to `state[j+1]`. This method will generate a new state and return it.\n",
    "\n",
    "In the `expand` method, we accepts a state and returns a random neighbor by randomizing the i and j, i.e. the two edge to cut.\n",
    "\n",
    "#### Calculating value of a state\n",
    "\n",
    "Just iterate over the state list and pick out every pair of indexes adjacent to each other in the state list, query the distance from `state[i]` to `state[i+1]` in the directed graph and return the sum.\n"
   ]
  },
  {
   "cell_type": "code",
   "execution_count": 10,
   "metadata": {},
   "outputs": [],
   "source": [
    "# Code to generate neighbours, value of states, etc.\n",
    "class TSP(Problem):\n",
    "    #Implement TSP class here\n",
    "    def __init__(self, graph, initial=None):\n",
    "        super().__init__(initial=initial)\n",
    "        self.graph = graph\n",
    "        self.vertice_number = len(graph)\n",
    "    \n",
    "    # calculate the total distance of a configuration, i.e. the total -overlap of a configuration\n",
    "    # Here the state should be a complete configuration, which means has 599 elements inside it\n",
    "    def value(self, state):\n",
    "        res = 0\n",
    "        for i in range(self.vertice_number - 1):\n",
    "            res += self.graph[state[i]][state[i+1]]\n",
    "        return res    \n",
    "    \n",
    "    # Using 2-opt to find neighbors\n",
    "    # cut edge from state[i-1] to state[i] and edge from state[j] to state[j+1]\n",
    "    def two_opt(self, state, i, j):\n",
    "        new_state = [0] * self.vertice_number\n",
    "        # 0 ~ (i-1)\n",
    "        for k in range(i):\n",
    "            new_state[k] = state[k]\n",
    "            \n",
    "        # i\n",
    "        new_state[i] = state[j]\n",
    "        \n",
    "        # (i+1) ~ (j-1)\n",
    "        for k in range(i+1, j):\n",
    "            new_state[k] = state[i + j - k]\n",
    "        \n",
    "        # j\n",
    "        new_state[j] = state[i]\n",
    "        \n",
    "        # (j+1) ~ (vertice_number-1)\n",
    "        for k in range(j+1, self.vertice_number):\n",
    "            new_state[k] = state[k]\n",
    "            \n",
    "        return new_state\n",
    "        \n",
    "    \n",
    "    # Expansion here is randomly choosing i and j, and using 2-opt to generate results from \n",
    "    # cutting edge from state[i-1] to state[i] and edge from state[j] to state[j+1]\n",
    "    # simply return the new state returned by 2-opt\n",
    "    def expand(self, state):\n",
    "        # Since 2-opt will cut edge from state[i-1] to state[i] and edge from state[j] to state[j+1]\n",
    "        # i is at least 1, at most (self.vertice_number - 3), both inclusive\n",
    "        # j is at least (i + 1), at most (self.vertice_number - 2), both inclusive\n",
    "        # to make (state[i-1], state[i]) and (state[j], state[j+1]) non-adjacent, we only need to make sure i != j\n",
    "        r1 = randint(1, self.vertice_number - 2)\n",
    "        r2 = randint(1, self.vertice_number - 2)\n",
    "        # reroll when r1 == r2\n",
    "        while r1 == r2:\n",
    "            r1 = randint(1, self.vertice_number - 2)\n",
    "            r2 = randint(1, self.vertice_number - 2)\n",
    "        if r1 < r2:\n",
    "            i, j = r1, r2\n",
    "        else:\n",
    "            i, j = r2, r1\n",
    "        new_state = self.two_opt(state, i, j)\n",
    "        return new_state   \n",
    "    \n",
    "# initialize TSP problem with directed graph we genreated\n",
    "tsp_problem = TSP(dg.adjMatrix)"
   ]
  },
  {
   "cell_type": "markdown",
   "metadata": {},
   "source": [
    "### Greedy search algorithm\n",
    "\n",
    "We first run a Greedy search algorithm to get a good enough benchmark. For this Greedy search algorithm, the state is an index list in which each index stands for the corresponding string and the order of the indexes stands for the concatenance order. For example, [1,2,3] means the first string we use is Read 1 and followed by Read 2 and finnally followed by Read 3.\n",
    "\n",
    "The initial state is `[]` which means there is no string visited. The goal state we want is a list containing all strings index without duplication which means we have visited all strings in a specific order.\n",
    "\n",
    "We call it greedy search algorithm because every time where we need to select a child to move on, we always try to add to the state list a string whose prefix has largest overlap with the state list's last string's suffix.\n",
    "\n",
    "The goal state of Greedy search algorithm could also used as a initial state for Simulated Annealing algorithm.\n",
    "\n",
    "#### Tricky choice of the start point\n",
    "\n",
    "Since the choice of an index (standing for a Read with that index) to add to the state list is based on the last string we already have in the state list, when we have no string index in the state list, we have to randomly choose one. So when designing the Greedy class, we need to pass a start index to initialize the Greedy search algorithm.\n",
    "\n",
    "Here comes the tricky part, which start point performs better in this greedy search algorithm?\n",
    "\n",
    "Actually we have done the test. We iterate over all possible start point (which is 0-598 in this problem), and find out the start point 596 will give us the lowest value -12011. But actually the results of different start points are quite close to each other, majority of them lies bewteen -11880 and -12000.\n",
    "\n",
    "Since it's a little time-consuming to run through all the start points, we don't give the complete code below. Instead we just give our implementation of Greedy search class and the code to run this search with start point 596. It's rather easy to extend the code to run through all start points."
   ]
  },
  {
   "cell_type": "code",
   "execution_count": 11,
   "metadata": {
    "scrolled": false
   },
   "outputs": [
    {
     "name": "stdout",
     "output_type": "stream",
     "text": [
      "[596, 68, 403, 471, 490, 188, 507, 142, 378, 449, 530, 176, 169, 457, 27, 523, 358, 129, 380, 65, 183, 39, 108, 30, 369, 1, 228, 298, 586, 277, 195, 517, 589, 410, 413, 71, 383, 566, 0, 224, 427, 258, 180, 89, 85, 432, 563, 96, 481, 557, 388, 593, 158, 212, 318, 54, 502, 50, 36, 306, 32, 582, 274, 499, 93, 461, 382, 564, 171, 588, 510, 107, 147, 53, 63, 196, 219, 243, 18, 352, 191, 440, 584, 311, 264, 508, 29, 400, 540, 276, 495, 208, 41, 105, 443, 497, 287, 261, 312, 307, 295, 479, 203, 423, 534, 283, 452, 235, 179, 263, 374, 49, 459, 384, 237, 57, 214, 293, 506, 174, 346, 181, 305, 477, 242, 238, 597, 82, 51, 135, 328, 334, 484, 199, 354, 524, 511, 401, 412, 362, 577, 249, 299, 335, 69, 442, 120, 441, 232, 444, 535, 175, 225, 246, 288, 145, 411, 565, 516, 301, 159, 519, 462, 6, 433, 269, 525, 448, 561, 292, 198, 542, 155, 60, 79, 303, 415, 319, 184, 317, 247, 559, 474, 94, 116, 460, 488, 469, 398, 217, 61, 111, 491, 8, 590, 389, 536, 376, 509, 437, 533, 438, 70, 381, 591, 332, 397, 115, 205, 486, 95, 456, 323, 284, 148, 21, 19, 250, 134, 296, 285, 468, 226, 31, 377, 435, 364, 562, 182, 9, 43, 109, 151, 343, 505, 321, 392, 156, 165, 125, 480, 59, 320, 138, 80, 22, 428, 133, 127, 236, 189, 308, 186, 99, 463, 62, 28, 177, 110, 262, 160, 408, 123, 420, 74, 15, 267, 280, 75, 371, 273, 26, 218, 370, 379, 430, 122, 489, 149, 255, 291, 387, 518, 404, 139, 102, 304, 453, 351, 573, 528, 578, 326, 35, 393, 434, 153, 136, 399, 567, 168, 114, 154, 240, 252, 314, 260, 363, 220, 520, 150, 569, 493, 583, 88, 581, 447, 130, 254, 103, 268, 451, 405, 470, 279, 419, 144, 345, 482, 146, 407, 81, 361, 465, 87, 44, 529, 98, 417, 72, 140, 194, 152, 580, 357, 300, 344, 492, 494, 48, 245, 221, 522, 316, 289, 286, 118, 336, 549, 366, 431, 173, 500, 52, 338, 213, 458, 17, 375, 234, 496, 38, 498, 215, 553, 282, 239, 515, 418, 426, 84, 568, 396, 356, 473, 372, 503, 464, 527, 290, 587, 560, 16, 117, 23, 4, 436, 424, 167, 76, 187, 126, 327, 359, 128, 539, 538, 164, 466, 64, 546, 570, 211, 544, 467, 210, 251, 425, 193, 521, 455, 297, 598, 331, 454, 543, 353, 20, 141, 545, 270, 574, 278, 475, 446, 478, 265, 450, 395, 394, 309, 56, 367, 548, 422, 271, 385, 77, 272, 100, 157, 541, 162, 558, 204, 429, 46, 12, 552, 329, 416, 137, 161, 230, 390, 2, 223, 33, 485, 73, 244, 202, 342, 66, 409, 483, 201, 281, 391, 445, 222, 294, 373, 348, 360, 37, 339, 322, 349, 13, 248, 14, 233, 227, 90, 504, 131, 406, 10, 24, 40, 512, 330, 216, 92, 190, 341, 556, 340, 200, 124, 11, 67, 555, 132, 501, 106, 324, 25, 166, 257, 531, 143, 97, 259, 113, 78, 472, 206, 101, 414, 163, 209, 514, 315, 421, 58, 42, 368, 192, 333, 83, 551, 537, 365, 112, 310, 576, 579, 266, 547, 594, 595, 45, 47, 91, 313, 302, 350, 241, 5, 185, 178, 275, 172, 526, 487, 229, 554, 3, 355, 337, 571, 550, 402, 119, 575, 325, 7, 231, 104, 347, 121, 170, 34, 207, 253, 197, 572, 439, 532, 592, 585, 86, 513, 256, 476, 55, 386]\n",
      "The total -overlap found by greedy search algorithm is -12011\n"
     ]
    }
   ],
   "source": [
    "class Greedy:\n",
    "    def __init__(self, problem, start):\n",
    "        self.problem = problem\n",
    "        self.initial = []\n",
    "        self.start = start\n",
    "        \n",
    "    def is_goal(self, state):\n",
    "        # if the len of state equals to the total strings number, then we know we have finished searching\n",
    "        # since we will do re-visit check in proceed function so there is guaranteed to be no duplication\n",
    "        # in the state list.\n",
    "        return len(state) == self.problem.vertice_number\n",
    "    \n",
    "    def proceed(self, state):\n",
    "        # if there is at least one string index in the state\n",
    "        # we choose the best successor of last_string, i.e. making overlap from last string to new string largest\n",
    "        if state:\n",
    "            last_string = state[-1]\n",
    "            \n",
    "            # min_weight is the lowest weight we have found\n",
    "            min_weight = 1\n",
    "            # min_index stores the string index with lowest weight\n",
    "            min_index = -1\n",
    "            \n",
    "            # j is the index of next string we want to use\n",
    "            for j in range(self.problem.vertice_number):\n",
    "                # if we haven't used string j before\n",
    "                if j not in state:\n",
    "                    if self.problem.graph[last_string][j] < min_weight:\n",
    "                        min_weight = self.problem.graph[last_string][j]\n",
    "                        min_index = j\n",
    "                        \n",
    "            state.append(min_index)\n",
    "            return state\n",
    "\n",
    "        else:\n",
    "            # if it is the initial state, we just simply choose Read start\n",
    "            return [self.start]\n",
    "    \n",
    "    # generate a goal state\n",
    "    def gen(self):\n",
    "        state = self.initial\n",
    "        while not self.is_goal(state):\n",
    "            state = self.proceed(state)\n",
    "        return state\n",
    "            \n",
    "    \n",
    "# set the start point as Read 596  \n",
    "greedy = Greedy(problem=tsp_problem, start=596)\n",
    "res = greedy.gen()\n",
    "print(res)\n",
    "print(f\"The total -overlap found by greedy search algorithm is {tsp_problem.value(res)}\")\n",
    "\n",
    "initial_state_for_SA = res"
   ]
  },
  {
   "cell_type": "markdown",
   "metadata": {},
   "source": [
    "### Implementation of Simulated Annealing\n",
    "\n",
    "In the implementation of Simulated annealing, just as implemented in TSP class, we use 2-opt to generate neighbors.\n",
    "\n",
    "For initial state, we use our best goal state from Greedy search algorithm as the initial state for Simulated Annealing algorithm.\n",
    "\n",
    "For scheduling, we use constant times initial value as our initial temperature. We use exponential decay strategy. So that there are two hyperparameters in our SA which is constant for initial temperature and the cooling rate."
   ]
  },
  {
   "cell_type": "code",
   "execution_count": 12,
   "metadata": {
    "id": "B2-y3Nt9ccxj",
    "scrolled": true
   },
   "outputs": [
    {
     "name": "stdout",
     "output_type": "stream",
     "text": [
      "[596, 68, 403, 471, 490, 188, 507, 142, 378, 449, 530, 176, 169, 457, 27, 523, 358, 129, 380, 65, 183, 39, 108, 30, 369, 1, 228, 298, 586, 277, 195, 517, 589, 410, 413, 71, 435, 377, 31, 226, 468, 285, 296, 134, 250, 293, 506, 174, 346, 181, 305, 477, 242, 238, 597, 82, 51, 330, 216, 92, 190, 341, 556, 340, 200, 124, 11, 67, 555, 132, 501, 106, 324, 25, 166, 257, 531, 143, 97, 364, 563, 432, 85, 89, 180, 258, 427, 224, 0, 566, 383, 96, 481, 557, 388, 4, 436, 424, 167, 76, 187, 126, 327, 359, 128, 539, 538, 164, 466, 64, 546, 570, 211, 544, 467, 210, 251, 425, 193, 521, 455, 297, 598, 331, 454, 543, 353, 20, 141, 545, 270, 574, 278, 475, 78, 480, 59, 320, 138, 80, 22, 61, 111, 491, 8, 590, 389, 536, 376, 509, 437, 533, 438, 70, 381, 591, 332, 397, 115, 205, 486, 95, 456, 323, 284, 148, 21, 336, 549, 366, 431, 173, 208, 41, 105, 443, 497, 287, 261, 312, 307, 295, 479, 203, 423, 534, 283, 452, 235, 179, 263, 374, 49, 459, 384, 237, 57, 214, 19, 118, 286, 542, 72, 140, 194, 152, 580, 357, 300, 344, 492, 494, 48, 245, 221, 522, 316, 289, 155, 60, 79, 303, 415, 319, 184, 317, 247, 559, 474, 94, 116, 460, 488, 469, 398, 217, 428, 133, 83, 333, 192, 368, 42, 58, 421, 315, 514, 209, 163, 414, 101, 206, 472, 125, 165, 156, 461, 382, 564, 171, 588, 510, 107, 147, 53, 430, 122, 489, 149, 255, 291, 387, 518, 404, 139, 102, 304, 453, 351, 573, 528, 578, 326, 35, 249, 299, 335, 69, 442, 120, 441, 232, 444, 535, 175, 225, 246, 196, 508, 264, 311, 584, 440, 191, 352, 18, 243, 219, 29, 400, 540, 276, 495, 500, 52, 338, 213, 458, 17, 375, 234, 496, 38, 498, 215, 553, 282, 239, 37, 360, 348, 373, 294, 222, 254, 103, 268, 451, 275, 172, 526, 487, 229, 554, 3, 355, 337, 571, 550, 402, 119, 575, 325, 7, 231, 104, 347, 121, 170, 34, 207, 253, 197, 572, 439, 532, 592, 328, 135, 512, 40, 24, 84, 426, 418, 515, 339, 322, 349, 13, 248, 14, 233, 227, 90, 504, 131, 406, 10, 568, 396, 356, 473, 372, 503, 464, 527, 290, 587, 560, 16, 117, 23, 310, 576, 579, 266, 547, 594, 595, 45, 47, 91, 313, 302, 350, 241, 5, 185, 446, 478, 265, 450, 395, 394, 309, 56, 367, 548, 422, 271, 385, 77, 272, 100, 157, 541, 162, 236, 127, 551, 537, 365, 112, 593, 158, 212, 318, 54, 502, 50, 36, 306, 482, 146, 407, 81, 361, 465, 87, 44, 529, 98, 417, 198, 178, 405, 470, 279, 419, 144, 411, 565, 516, 301, 159, 519, 462, 6, 433, 269, 525, 448, 561, 292, 113, 259, 562, 182, 9, 43, 109, 151, 343, 505, 321, 392, 93, 499, 274, 582, 28, 62, 463, 99, 186, 308, 189, 558, 204, 429, 46, 12, 552, 329, 416, 137, 161, 230, 390, 2, 223, 33, 485, 73, 244, 202, 342, 66, 409, 483, 201, 281, 391, 445, 130, 447, 476, 256, 513, 86, 585, 334, 484, 199, 354, 524, 511, 401, 412, 362, 577, 393, 434, 153, 136, 399, 567, 168, 114, 154, 240, 252, 314, 260, 363, 220, 520, 150, 569, 493, 583, 88, 145, 288, 63, 379, 370, 218, 26, 273, 371, 75, 280, 267, 15, 74, 420, 123, 408, 160, 262, 177, 110, 32, 345, 581, 55, 386]\n",
      "The result found by Simulated annealing is -8923\n"
     ]
    }
   ],
   "source": [
    "from random import randint, uniform, shuffle\n",
    "from math import exp\n",
    "\n",
    "# tolerance used in float point number comparison \n",
    "TOLERANCE = 0.0000001\n",
    "\n",
    "# Simuated Annealing \n",
    "class SA:\n",
    "    def __init__(self, problem):        \n",
    "        # randomly generate initial\n",
    "        #self.initial = [i for i in range(self.vertice_number)]\n",
    "        #shuffle(self.initial)\n",
    "        self.problem = problem\n",
    "        self.problem.initial = initial_state_for_SA\n",
    "        \n",
    "        # cooling rate\n",
    "        self.cooling_rate = 0.1\n",
    "        # constant chosen as negative number since the value is negative number\n",
    "        self.constant = -1\n",
    "        self.initial_temperature = self.constant * self.problem.value(self.problem.initial)\n",
    "    \n",
    "    def set_hyperparameter(self, constant, cooling_rate):\n",
    "        self.constant = constant\n",
    "        self.cooling_rate = cooling_rate\n",
    "    \n",
    "    # schduling procedure\n",
    "    def schedule(self, t):\n",
    "        return self.initial_temperature * exp(- self.cooling_rate * t)\n",
    "    \n",
    "    def search(self):\n",
    "        current_state = self.problem.initial\n",
    "        # t is time\n",
    "        t = 1\n",
    "        while True:\n",
    "            # T is temperature \n",
    "            T = self.schedule(t)\n",
    "            if abs(T - 0) < TOLERANCE:\n",
    "                return current_state\n",
    "            \n",
    "            # randomly choose one neighbor randomly from neighbors\n",
    "            next_state = self.problem.expand(current_state)\n",
    "            \n",
    "            # Delta E\n",
    "            deltaE = self.problem.value(current_state) - self.problem.value(next_state)\n",
    "            \n",
    "            if deltaE > 0:\n",
    "                current_state = next_state\n",
    "            else:   \n",
    "                p = exp(deltaE / T)\n",
    "                r = uniform(0,1)\n",
    "                if r <= p:\n",
    "                    current_state = next_state\n",
    "            t += 1\n",
    "        \n",
    "sa = SA(problem=tsp_problem)\n",
    "res = sa.search()\n",
    "print(res)\n",
    "print(f\"The result found by Simulated annealing is {tsp_problem.value(res)}\")"
   ]
  },
  {
   "cell_type": "markdown",
   "metadata": {},
   "source": [
    "#### Trying different cooling rate and constant for initial temperature\n",
    "\n",
    "In the following session, we try different combination of cooling rate and constant for initial temperature to see which combination of hyperparameters will give us the best result.\n",
    "\n",
    "One of the best results we found using the previous algorithms is the value -9427 with cooling rate = 0.1 and constant = -1 (since the simulated annealing algorithm will randomly choose successor, we are unable to reproduce the result here). \n",
    "\n",
    "A general trend we can conclude from the below code executing results is that it seems the higher cooling rate will lead us to better results and the initial temperature constant's influence is much smaller when compared with cooling rate. In other words, the less we search, the better result we get. However, this may be because we may have already been in a local maxima since the initial state is the best goal state generated by our Greedy algorithm. With more steps to go, the SA may wander from the local maxima and go further up in a high ground with little chance to be captured by another local/global maxima.\n",
    "\n",
    "However, there is a inflection point in cooling rate $\\lambda = 0.0001$. When compared with cooling rate $\\lambda = 0.001$, the result returned by cooling rate $\\lambda = 0.0001$ is obviously better than the result returned by cooling rate $\\lambda = 0.001$. It may indicate that when there are abundant search times, i.e. when the temperature goes down slowly enough, the simulated annealing will gradually perform better with the lower cooling rate, i.e. with more search times.\n",
    "\n",
    "But as you may notice, no combinations of constants and cooling rate we test out-perform the greedy search algorithm. But with lower cooling rate (especially the cooling rate $\\lambda = 0.0001$), it takes much more time to compute the result when compared to the greedy search."
   ]
  },
  {
   "cell_type": "code",
   "execution_count": 13,
   "metadata": {},
   "outputs": [
    {
     "name": "stdout",
     "output_type": "stream",
     "text": [
      "The result found with constant -1 and cooling rate 0.1 is -8760\n",
      "The result found with constant -1 and cooling rate 0.01 is -2151\n",
      "The result found with constant -1 and cooling rate 0.001 is -464\n",
      "The result found with constant -1 and cooling rate 0.0001 is -894\n",
      "The result found with constant -2 and cooling rate 0.1 is -8835\n",
      "The result found with constant -2 and cooling rate 0.01 is -2860\n",
      "The result found with constant -2 and cooling rate 0.001 is -454\n",
      "The result found with constant -2 and cooling rate 0.0001 is -852\n",
      "The result found with constant -5 and cooling rate 0.1 is -8201\n",
      "The result found with constant -5 and cooling rate 0.01 is -2541\n",
      "The result found with constant -5 and cooling rate 0.001 is -391\n",
      "The result found with constant -5 and cooling rate 0.0001 is -1004\n",
      "The result found with constant -10 and cooling rate 0.1 is -8479\n",
      "The result found with constant -10 and cooling rate 0.01 is -2308\n",
      "The result found with constant -10 and cooling rate 0.001 is -452\n",
      "The result found with constant -10 and cooling rate 0.0001 is -938\n",
      "The result found with constant -100 and cooling rate 0.1 is -8541\n",
      "The result found with constant -100 and cooling rate 0.01 is -2479\n",
      "The result found with constant -100 and cooling rate 0.001 is -336\n",
      "The result found with constant -100 and cooling rate 0.0001 is -1070\n"
     ]
    }
   ],
   "source": [
    "# in the result hashmap `res_hm`, the key is the tuple of constant and cooling rate we set, and the value is the tuple\n",
    "# of result state we found and the value of the result state.\n",
    "res_hm = {}\n",
    "\n",
    "for const in [-1, -2, -5, -10, -100]:\n",
    "    for cr in [0.1, 0.01, 0.001, 0.0001]:\n",
    "        sa.set_hyperparameter(constant=const, cooling_rate=cr)\n",
    "        res = sa.search()\n",
    "        res_hm[(const, cr)] = (res, tsp_problem.value(res)) \n",
    "        print(f\"The result found with constant {const} and cooling rate {cr} is {tsp_problem.value(res)}\")"
   ]
  },
  {
   "cell_type": "markdown",
   "metadata": {},
   "source": [
    "As the best result we found is with high cooling rate and low constant, several samples of the result read index list we found are listed as follows:"
   ]
  },
  {
   "cell_type": "code",
   "execution_count": 18,
   "metadata": {},
   "outputs": [
    {
     "name": "stdout",
     "output_type": "stream",
     "text": [
      "Sample 1:\n",
      "([596, 68, 403, 471, 490, 188, 507, 142, 378, 306, 32, 582, 274, 499, 93, 461, 382, 564, 171, 588, 510, 107, 147, 53, 63, 196, 219, 243, 18, 352, 191, 440, 584, 311, 264, 508, 29, 400, 540, 276, 495, 208, 479, 295, 307, 15, 267, 280, 75, 371, 273, 26, 218, 370, 379, 430, 122, 489, 149, 255, 215, 553, 282, 239, 515, 418, 426, 84, 568, 396, 356, 473, 372, 503, 464, 527, 290, 587, 560, 16, 117, 23, 4, 436, 424, 167, 76, 187, 126, 327, 359, 128, 539, 538, 164, 466, 64, 546, 570, 211, 544, 467, 210, 1, 228, 298, 586, 277, 60, 155, 542, 11, 124, 200, 519, 462, 6, 433, 269, 525, 448, 561, 292, 198, 67, 555, 132, 501, 106, 324, 25, 166, 257, 531, 143, 97, 259, 113, 78, 293, 506, 174, 346, 181, 305, 477, 242, 238, 597, 82, 51, 135, 328, 334, 484, 199, 354, 524, 511, 401, 412, 41, 203, 423, 534, 283, 452, 235, 179, 263, 374, 49, 459, 384, 237, 57, 214, 472, 206, 101, 414, 163, 339, 322, 441, 120, 442, 69, 335, 299, 249, 577, 362, 105, 443, 497, 287, 261, 312, 318, 54, 502, 50, 36, 449, 90, 504, 131, 340, 556, 341, 190, 92, 576, 579, 266, 547, 594, 595, 45, 47, 91, 313, 302, 350, 241, 5, 185, 178, 275, 172, 526, 487, 229, 554, 3, 355, 337, 571, 9, 43, 109, 151, 343, 505, 321, 392, 156, 165, 125, 119, 402, 550, 182, 248, 13, 349, 232, 444, 535, 175, 225, 246, 288, 145, 411, 565, 516, 301, 159, 278, 475, 446, 478, 265, 450, 395, 394, 309, 56, 254, 130, 447, 581, 88, 583, 493, 569, 150, 520, 220, 363, 260, 398, 217, 61, 111, 491, 8, 590, 389, 536, 376, 329, 416, 137, 161, 230, 390, 2, 223, 33, 485, 73, 244, 202, 342, 66, 409, 483, 201, 281, 391, 445, 222, 294, 373, 348, 360, 37, 209, 514, 315, 325, 575, 480, 59, 320, 138, 80, 22, 428, 133, 127, 236, 189, 308, 186, 99, 463, 62, 28, 177, 194, 152, 580, 357, 300, 221, 19, 21, 148, 284, 323, 456, 95, 486, 205, 115, 589, 410, 413, 71, 383, 566, 0, 224, 427, 258, 180, 89, 85, 432, 563, 96, 481, 557, 388, 593, 158, 212, 74, 420, 72, 140, 110, 262, 160, 408, 123, 417, 98, 529, 44, 87, 465, 361, 81, 407, 146, 482, 345, 144, 419, 279, 470, 405, 451, 268, 103, 367, 548, 422, 271, 385, 77, 272, 100, 157, 541, 162, 558, 204, 429, 46, 12, 552, 509, 437, 533, 438, 70, 522, 316, 289, 286, 118, 336, 79, 421, 58, 42, 368, 192, 375, 17, 458, 213, 338, 52, 500, 173, 431, 195, 517, 397, 332, 591, 381, 250, 134, 296, 285, 468, 226, 31, 377, 435, 364, 562, 14, 233, 227, 530, 176, 169, 457, 27, 523, 358, 129, 380, 65, 183, 39, 108, 30, 369, 251, 425, 193, 521, 455, 297, 598, 331, 454, 543, 353, 20, 141, 545, 344, 492, 494, 48, 245, 270, 574, 406, 10, 24, 40, 512, 330, 216, 310, 112, 365, 537, 551, 83, 333, 234, 496, 38, 498, 291, 387, 518, 404, 139, 102, 304, 453, 351, 573, 434, 393, 35, 326, 578, 528, 153, 136, 399, 567, 168, 114, 154, 240, 252, 314, 469, 488, 460, 116, 94, 474, 559, 247, 317, 184, 319, 415, 303, 549, 366, 7, 231, 104, 347, 121, 170, 34, 207, 253, 197, 572, 439, 532, 592, 585, 86, 513, 256, 476, 55, 386], -8760)\n",
      "\n",
      "Sample 2:\n",
      "([596, 68, 403, 471, 490, 188, 507, 142, 378, 449, 530, 176, 169, 457, 27, 523, 358, 129, 380, 65, 47, 456, 514, 315, 421, 58, 42, 368, 192, 333, 83, 353, 20, 141, 545, 270, 574, 278, 475, 446, 252, 314, 260, 363, 220, 520, 150, 569, 493, 583, 88, 581, 447, 130, 254, 103, 268, 451, 405, 470, 279, 419, 144, 345, 482, 146, 407, 81, 361, 465, 87, 44, 529, 306, 32, 582, 274, 499, 93, 461, 382, 564, 171, 588, 510, 107, 147, 53, 63, 196, 219, 243, 18, 352, 191, 432, 563, 96, 481, 557, 388, 593, 158, 212, 318, 54, 502, 50, 36, 98, 417, 72, 140, 194, 152, 580, 357, 300, 344, 492, 494, 48, 245, 439, 572, 197, 253, 207, 34, 170, 121, 347, 104, 231, 7, 325, 575, 119, 402, 550, 571, 337, 355, 256, 476, 55, 584, 440, 85, 89, 118, 336, 549, 366, 431, 173, 500, 52, 338, 213, 375, 17, 458, 234, 496, 38, 498, 215, 553, 282, 551, 537, 232, 441, 120, 442, 69, 335, 86, 513, 3, 554, 229, 484, 199, 354, 524, 511, 422, 548, 367, 56, 309, 394, 395, 450, 265, 547, 594, 595, 45, 183, 39, 108, 30, 369, 1, 228, 298, 586, 277, 195, 517, 589, 410, 413, 71, 383, 566, 0, 224, 427, 258, 180, 286, 289, 316, 522, 221, 532, 592, 585, 299, 249, 577, 362, 412, 401, 271, 385, 77, 272, 100, 157, 541, 162, 558, 204, 429, 46, 12, 552, 329, 416, 137, 161, 230, 390, 2, 223, 33, 485, 73, 244, 202, 342, 66, 409, 483, 201, 281, 391, 445, 222, 294, 373, 348, 360, 37, 339, 322, 349, 13, 248, 14, 233, 227, 90, 504, 293, 506, 174, 346, 181, 305, 477, 242, 238, 597, 82, 51, 135, 328, 334, 487, 275, 172, 526, 178, 257, 166, 25, 324, 106, 501, 132, 555, 67, 11, 138, 80, 22, 428, 133, 127, 236, 189, 308, 186, 99, 463, 62, 28, 177, 110, 262, 160, 408, 123, 420, 74, 15, 267, 280, 75, 371, 273, 26, 218, 370, 379, 430, 122, 489, 149, 255, 291, 387, 518, 404, 139, 102, 304, 453, 351, 573, 528, 578, 326, 35, 393, 535, 175, 225, 246, 288, 145, 411, 565, 516, 301, 159, 519, 462, 6, 433, 269, 525, 448, 561, 292, 198, 64, 466, 434, 444, 365, 112, 303, 79, 60, 155, 542, 546, 76, 187, 126, 327, 359, 128, 539, 538, 164, 153, 136, 399, 567, 168, 114, 154, 240, 478, 266, 579, 576, 310, 415, 319, 184, 317, 247, 559, 474, 94, 116, 460, 488, 295, 479, 203, 423, 534, 283, 452, 235, 179, 263, 374, 49, 459, 384, 237, 57, 214, 131, 406, 10, 24, 40, 512, 330, 216, 92, 190, 341, 556, 340, 200, 454, 543, 239, 515, 418, 426, 84, 568, 396, 356, 473, 372, 503, 464, 527, 290, 587, 560, 16, 8, 590, 389, 536, 376, 509, 437, 241, 209, 163, 414, 101, 206, 472, 78, 113, 259, 97, 143, 531, 185, 5, 533, 438, 70, 381, 591, 332, 397, 115, 205, 486, 95, 91, 313, 302, 350, 323, 284, 148, 21, 19, 250, 134, 296, 285, 468, 226, 287, 261, 312, 307, 469, 398, 217, 61, 111, 491, 117, 23, 4, 436, 424, 167, 570, 211, 544, 467, 210, 251, 425, 193, 521, 455, 297, 598, 331, 124, 320, 59, 480, 125, 165, 156, 392, 321, 505, 343, 151, 109, 43, 9, 182, 562, 364, 435, 377, 31, 497, 311, 264, 508, 29, 400, 540, 276, 495, 208, 41, 105, 443, 386], -8835)\n",
      "\n",
      "Sample 3:\n",
      "([596, 68, 403, 471, 490, 188, 245, 48, 494, 492, 344, 300, 357, 5, 185, 178, 275, 172, 526, 487, 229, 554, 3, 355, 271, 385, 77, 272, 100, 157, 541, 162, 558, 204, 429, 399, 223, 2, 390, 230, 161, 137, 416, 329, 552, 12, 46, 567, 168, 114, 154, 301, 437, 533, 225, 175, 535, 444, 232, 441, 580, 241, 350, 388, 557, 89, 85, 432, 563, 96, 481, 180, 258, 427, 224, 0, 566, 383, 71, 413, 410, 589, 574, 270, 545, 586, 277, 195, 517, 278, 475, 446, 478, 265, 450, 395, 394, 309, 56, 367, 548, 422, 337, 571, 550, 402, 119, 575, 325, 7, 231, 104, 347, 121, 170, 34, 207, 253, 197, 572, 142, 507, 221, 522, 316, 289, 286, 118, 336, 549, 366, 431, 173, 500, 52, 338, 213, 458, 17, 375, 27, 523, 358, 129, 380, 65, 183, 39, 108, 30, 369, 1, 228, 298, 141, 20, 504, 6, 433, 269, 525, 448, 561, 292, 198, 542, 155, 60, 79, 303, 415, 319, 184, 317, 247, 559, 474, 94, 116, 460, 488, 469, 398, 217, 61, 111, 491, 8, 590, 389, 536, 376, 509, 159, 519, 267, 15, 74, 420, 123, 408, 160, 262, 110, 177, 28, 62, 463, 364, 562, 182, 9, 43, 109, 151, 343, 505, 321, 392, 156, 165, 125, 480, 59, 320, 138, 80, 22, 428, 133, 127, 236, 189, 308, 186, 99, 435, 377, 31, 226, 468, 285, 296, 266, 579, 576, 37, 339, 322, 349, 13, 248, 14, 233, 227, 90, 462, 280, 75, 371, 273, 26, 218, 370, 379, 430, 122, 489, 378, 449, 530, 176, 169, 457, 234, 496, 38, 498, 238, 242, 477, 305, 181, 346, 174, 506, 293, 214, 57, 597, 82, 51, 135, 328, 334, 484, 199, 354, 524, 511, 401, 412, 190, 341, 556, 340, 200, 124, 11, 67, 555, 132, 501, 106, 324, 25, 166, 257, 531, 143, 97, 259, 113, 78, 472, 206, 101, 414, 163, 209, 514, 315, 421, 58, 42, 368, 192, 333, 83, 551, 537, 365, 112, 310, 360, 348, 373, 294, 222, 445, 391, 281, 201, 256, 513, 86, 585, 592, 532, 439, 149, 255, 291, 387, 518, 404, 139, 102, 304, 453, 351, 573, 528, 578, 326, 35, 393, 434, 153, 136, 33, 485, 73, 244, 202, 342, 66, 470, 279, 419, 144, 345, 482, 146, 407, 81, 361, 171, 588, 510, 107, 147, 53, 63, 196, 219, 243, 18, 352, 191, 440, 584, 311, 264, 508, 29, 400, 540, 276, 495, 208, 41, 105, 443, 497, 287, 261, 312, 307, 295, 479, 203, 423, 534, 283, 452, 235, 179, 263, 374, 49, 459, 384, 237, 418, 515, 239, 282, 553, 215, 426, 84, 568, 396, 356, 473, 372, 503, 464, 527, 290, 587, 560, 16, 117, 23, 4, 436, 424, 167, 76, 187, 126, 327, 359, 128, 539, 538, 297, 455, 521, 220, 363, 260, 314, 252, 240, 502, 54, 318, 212, 158, 593, 302, 313, 91, 47, 45, 595, 594, 547, 134, 250, 19, 21, 148, 284, 323, 456, 95, 486, 205, 115, 397, 332, 591, 381, 70, 438, 246, 40, 512, 330, 216, 92, 362, 577, 249, 299, 335, 69, 442, 120, 288, 145, 411, 565, 516, 50, 36, 306, 32, 582, 274, 499, 93, 461, 382, 564, 465, 87, 44, 529, 98, 417, 72, 140, 194, 152, 24, 10, 406, 131, 353, 543, 454, 331, 598, 164, 466, 64, 546, 570, 211, 544, 467, 210, 251, 425, 193, 520, 150, 569, 493, 583, 88, 581, 447, 130, 254, 103, 268, 451, 405, 409, 483, 476, 55, 386], -8201)\n",
      "\n",
      "Sample 4:\n",
      "([596, 68, 403, 471, 490, 188, 507, 142, 378, 449, 530, 176, 169, 457, 27, 523, 358, 129, 380, 65, 346, 181, 305, 477, 242, 365, 112, 310, 576, 39, 183, 174, 506, 293, 214, 57, 237, 384, 437, 533, 285, 296, 134, 250, 19, 435, 364, 562, 182, 9, 43, 109, 151, 343, 505, 321, 392, 156, 165, 125, 480, 59, 320, 138, 80, 22, 428, 133, 127, 236, 189, 308, 186, 99, 463, 62, 28, 177, 110, 262, 160, 408, 123, 420, 547, 594, 595, 207, 208, 41, 105, 495, 276, 540, 400, 29, 508, 263, 374, 95, 456, 323, 284, 148, 21, 377, 31, 226, 468, 438, 70, 381, 591, 332, 397, 115, 205, 486, 49, 7, 231, 104, 347, 121, 170, 34, 443, 497, 287, 261, 312, 307, 295, 479, 203, 423, 534, 283, 452, 235, 179, 264, 311, 584, 440, 191, 53, 63, 196, 219, 243, 18, 352, 147, 107, 510, 588, 171, 564, 382, 552, 329, 416, 137, 161, 230, 390, 2, 223, 33, 485, 73, 244, 202, 342, 66, 409, 483, 201, 281, 391, 445, 222, 294, 373, 348, 225, 175, 355, 299, 335, 69, 442, 120, 441, 232, 444, 535, 337, 571, 550, 402, 119, 575, 210, 251, 425, 193, 521, 455, 297, 598, 331, 454, 543, 353, 20, 141, 545, 270, 574, 278, 475, 446, 478, 265, 450, 395, 394, 309, 56, 367, 548, 422, 274, 499, 93, 245, 204, 558, 385, 77, 272, 100, 157, 541, 162, 271, 582, 32, 306, 36, 50, 502, 54, 318, 212, 158, 593, 388, 557, 481, 96, 563, 280, 75, 371, 273, 26, 218, 370, 379, 430, 387, 291, 255, 149, 489, 122, 518, 404, 139, 102, 304, 453, 351, 573, 528, 578, 326, 35, 393, 434, 84, 568, 396, 356, 473, 372, 503, 464, 527, 290, 587, 560, 16, 117, 23, 4, 436, 424, 167, 76, 187, 126, 327, 359, 128, 539, 538, 164, 466, 114, 168, 567, 399, 136, 153, 426, 418, 515, 239, 282, 553, 215, 498, 38, 496, 234, 375, 17, 458, 213, 338, 246, 288, 145, 411, 565, 516, 301, 159, 519, 462, 6, 433, 269, 525, 448, 561, 292, 198, 542, 155, 60, 79, 303, 415, 319, 184, 317, 247, 559, 474, 94, 211, 544, 467, 325, 459, 509, 376, 536, 389, 590, 8, 491, 111, 61, 217, 398, 469, 488, 460, 116, 570, 546, 64, 154, 240, 252, 314, 260, 266, 579, 108, 30, 369, 1, 228, 298, 586, 277, 195, 517, 589, 410, 413, 71, 383, 566, 0, 224, 427, 258, 180, 89, 85, 432, 267, 15, 74, 363, 220, 520, 150, 569, 493, 583, 88, 581, 447, 130, 254, 103, 268, 451, 405, 470, 279, 419, 144, 345, 482, 146, 407, 81, 361, 465, 87, 44, 529, 98, 417, 72, 140, 194, 152, 580, 357, 300, 344, 492, 494, 48, 429, 46, 12, 461, 221, 522, 316, 289, 286, 118, 336, 549, 366, 431, 173, 500, 52, 360, 37, 339, 322, 349, 13, 248, 14, 233, 227, 556, 340, 200, 124, 11, 67, 555, 132, 501, 362, 577, 512, 40, 24, 10, 406, 131, 504, 90, 341, 190, 92, 216, 368, 192, 333, 83, 551, 537, 238, 597, 82, 51, 135, 328, 334, 484, 199, 354, 524, 511, 401, 412, 106, 324, 25, 166, 257, 531, 143, 97, 259, 113, 78, 472, 206, 101, 414, 163, 209, 514, 315, 421, 58, 42, 330, 249, 3, 554, 229, 487, 526, 172, 275, 178, 185, 5, 241, 350, 302, 313, 91, 47, 45, 253, 197, 572, 439, 532, 592, 585, 86, 513, 256, 476, 55, 386], -8479)\n",
      "\n",
      "Sample 5:\n",
      "([596, 68, 403, 471, 490, 188, 507, 142, 378, 449, 530, 176, 169, 457, 173, 431, 366, 549, 336, 118, 286, 289, 316, 187, 76, 167, 556, 340, 200, 124, 11, 67, 555, 132, 501, 106, 202, 342, 66, 409, 483, 201, 281, 391, 279, 419, 144, 345, 416, 329, 552, 48, 245, 221, 522, 126, 327, 359, 128, 539, 538, 164, 466, 64, 546, 570, 211, 544, 467, 210, 251, 425, 193, 521, 455, 297, 598, 331, 454, 543, 353, 20, 141, 545, 270, 137, 161, 230, 390, 2, 223, 33, 485, 73, 244, 324, 25, 166, 257, 531, 143, 97, 259, 113, 78, 472, 206, 101, 414, 163, 209, 514, 315, 421, 58, 42, 368, 192, 333, 83, 551, 537, 365, 112, 310, 291, 387, 518, 404, 139, 102, 304, 453, 351, 573, 528, 578, 326, 35, 393, 434, 153, 136, 399, 567, 168, 114, 154, 240, 252, 314, 260, 363, 220, 520, 150, 569, 493, 583, 88, 581, 548, 367, 56, 309, 394, 395, 450, 265, 478, 446, 475, 278, 574, 482, 146, 407, 81, 361, 465, 87, 44, 529, 98, 417, 72, 140, 194, 152, 580, 357, 300, 344, 526, 172, 275, 178, 185, 5, 241, 350, 302, 313, 91, 47, 45, 595, 594, 547, 266, 579, 158, 212, 318, 54, 502, 50, 36, 306, 32, 582, 274, 499, 93, 461, 382, 564, 171, 588, 510, 107, 147, 53, 63, 410, 413, 71, 383, 566, 0, 84, 426, 348, 373, 294, 222, 445, 470, 280, 267, 15, 74, 420, 123, 408, 160, 262, 242, 377, 435, 364, 562, 182, 9, 43, 360, 37, 339, 322, 349, 13, 248, 14, 233, 227, 498, 215, 553, 282, 239, 515, 418, 109, 151, 343, 505, 214, 57, 237, 384, 459, 49, 374, 263, 341, 190, 92, 216, 330, 512, 40, 24, 10, 95, 456, 323, 284, 148, 21, 19, 250, 134, 296, 285, 468, 226, 31, 238, 597, 82, 51, 135, 328, 334, 484, 199, 354, 524, 511, 401, 412, 362, 577, 249, 299, 335, 69, 442, 120, 208, 41, 303, 488, 469, 398, 217, 61, 111, 491, 8, 590, 389, 536, 376, 509, 437, 533, 438, 70, 474, 559, 458, 17, 375, 234, 496, 38, 90, 504, 131, 406, 486, 205, 115, 397, 332, 591, 381, 94, 116, 460, 415, 319, 184, 317, 247, 213, 338, 52, 500, 27, 523, 358, 129, 380, 65, 183, 39, 108, 30, 369, 1, 228, 298, 586, 277, 195, 517, 589, 196, 219, 243, 18, 352, 191, 440, 584, 311, 264, 508, 29, 400, 540, 276, 495, 441, 232, 444, 535, 175, 225, 246, 288, 145, 411, 565, 516, 301, 159, 519, 462, 6, 433, 321, 293, 506, 174, 346, 181, 305, 477, 110, 177, 28, 62, 463, 99, 186, 89, 180, 258, 427, 320, 138, 22, 80, 428, 133, 127, 236, 189, 308, 85, 432, 561, 292, 198, 542, 155, 60, 79, 105, 443, 497, 287, 261, 312, 307, 295, 479, 203, 423, 534, 283, 392, 269, 525, 448, 563, 96, 481, 557, 388, 593, 576, 255, 149, 489, 122, 430, 379, 370, 218, 26, 273, 371, 75, 480, 59, 224, 568, 396, 356, 473, 372, 503, 464, 527, 290, 587, 560, 16, 117, 23, 4, 436, 424, 179, 235, 452, 156, 165, 125, 254, 103, 268, 451, 405, 130, 447, 422, 271, 385, 77, 272, 100, 157, 541, 162, 558, 204, 429, 46, 12, 494, 492, 487, 229, 554, 3, 355, 337, 571, 550, 402, 119, 575, 325, 7, 231, 104, 347, 121, 170, 34, 207, 253, 197, 572, 439, 532, 592, 585, 86, 513, 256, 476, 55, 386], -8541)\n",
      "\n"
     ]
    }
   ],
   "source": [
    "print(\"Sample 1:\")\n",
    "print(res_hm[(-1, 0.1)])\n",
    "print()\n",
    "\n",
    "print(\"Sample 2:\")\n",
    "print(res_hm[(-2, 0.1)])\n",
    "print()\n",
    "\n",
    "print(\"Sample 3:\")\n",
    "print(res_hm[(-5, 0.1)])\n",
    "print()\n",
    "\n",
    "print(\"Sample 4:\")\n",
    "print(res_hm[(-10, 0.1)])\n",
    "print()\n",
    "\n",
    "print(\"Sample 5:\")\n",
    "print(res_hm[(-100, 0.1)])\n",
    "print()"
   ]
  },
  {
   "cell_type": "code",
   "execution_count": null,
   "metadata": {},
   "outputs": [],
   "source": []
  }
 ],
 "metadata": {
  "colab": {
   "collapsed_sections": [],
   "provenance": []
  },
  "kernelspec": {
   "display_name": "Python 3 (ipykernel)",
   "language": "python",
   "name": "python3"
  },
  "language_info": {
   "codemirror_mode": {
    "name": "ipython",
    "version": 3
   },
   "file_extension": ".py",
   "mimetype": "text/x-python",
   "name": "python",
   "nbconvert_exporter": "python",
   "pygments_lexer": "ipython3",
   "version": "3.7.8"
  },
  "vscode": {
   "interpreter": {
    "hash": "8c15513000e9b1aafc2c9d9aa59a4469dae56d5c667cde04f926e98d41bd6c86"
   }
  }
 },
 "nbformat": 4,
 "nbformat_minor": 1
}
