{
 "cells": [
  {
   "cell_type": "markdown",
   "metadata": {},
   "source": [
    "Group Name: AG 19\n",
    "\n",
    "Student Name (Student ID):\n",
    "\n",
    "1. Lee Han Jian (A0248322J)\n",
    "\n",
    "2. LI SHENGDONG (A0248417Y)\n",
    "\n",
    "3. ZHENG WENGRUI (A0250948W)"
   ]
  },
  {
   "cell_type": "markdown",
   "metadata": {
    "id": "yZOz6Y_cLGOT"
   },
   "source": [
    "# Question 2\n",
    "\n",
    "## Introduction to question 2\n",
    "\n",
    "In the second question of this assignment, we will explore the use of local search in genome assembly.\n",
    "\n",
    "We will use local search to assemble (construct) a large part of the nucleotide sequence of the monkeypox virus, which has been downloaded from the National Center for Biotechnology Information in the United States. Please note that no additional or specialized knowledge of biology or bioinformatics is required for this assignment. (Actually, the technical specifics of bioinformatics have been adapted and simplified for the purposes of this computer science assignment, so if you are a biologist, please do not apply preexisting knowledge to solve the problem. Furthermore, you should not attempt to search up the genome on genomic databases to \"guess\" the actual sequence, since we are more interested in your coding methodology rather than your attempts at reproducing a known sequence.)\n",
    "\n",
    "This is an introductory computer science assignment and not a bioinformatics assignment; we are simply using bioinformatics as a use case to illustrate the applicability of local search to the natural sciences. Therefore, no knowledge of bioinformatics is assumed or required. In the paragraphs that follow, I will give a short crash course which will cover all the domain knowledge you will need to know in order to tackle this problem.  \n",
    "\n",
    "For technical reasons, when we analyze the nucleotide sequence (genome) of a virus, we usually cannot “read” it in one fell swoop. We have to read the genome in parts, because the genome is usually too long for the machine to read in a single sitting. To simplify things, a “read” is a single view of part of the genome; think of it as a SUBSTRING, a partial view of the whole genome. After we have generated multiple reads of a genome, we then have to “stitch”, or combine, the different reads of the genome together. This process of stitching up reads of a genome into the final sequence is known as genome assembly. However, the different reads of the genome cannot just be concatenated like usual string concatenation. It’s not a situation where you have one read, “Hello”, and another read, “World”, and all you need to do is concatenate both strings together to make “Hello World”. Among other reasons, there are two major reasons why you can’t do so:\n",
    "\n",
    "1. You do not know which read came first. The reads are not ordered. How do you know “Hello” came after “World”? The answer is that you don’t. Imagine how complicated this situation might be if you had more than two reads. (This is indeed our situation, where we have $n$ reads, and $n>>2$.)\n",
    "\n",
    "2. One read may contain a substring contained in another read. Specifically, without loss of generality, part of the ending $x$ characters of a read (i.e., suffix) might also be found in the starting $x$ positions (i.e., prefix) of another read.\n",
    "\n",
    "- A computer scientist usually creates opportunities from problems. While this may be a “problem” in that you just can’t concatenate two strings blindly, the fact that strings contain shared “substrings” is actually a very helpful clue that you can use to “join” strings together. \n",
    "\n",
    "- Note that the choice of the value of $x$ could be a hyperparameter decided by the computer scientist.\n",
    "\n",
    "## Your tasks\n",
    "\n",
    "In this part of the assignment, you will work with (simulated) reads that I have generated from the nucleotide sequence of the monkeypox virus. In reality, bioinformatics is far more complicated, but here we will work with a simplified situation. Your task is to examine the reads that I have provided for you, and from there “infer” the nucleotide sequence that might have produced those reads. \n",
    "\n",
    "The reads are provided in the csv file `data.csv` which simply provides a list of unique strings. Note that you should NOT assume any particular ordering of the strings in this dataframe. In fact, the strings have already been shuffled randomly. \n",
    "\n",
    "NOTE: You are not allowed to use `pandas` or any other libraries apart from the Python STL to load the csv file.\n",
    "\n",
    "### Task A (3 marks): \n",
    "\n",
    "Create a directed graph. The nodes in the graph are the strings in the list of reads. An edge should be drawn FROM read A TO read B if and only if a suffix (of length $x$) of read A is also a prefix (obviously, also of length $x$) of read B. For the purposes of the assignment, limit the value of $x$ to between 5 and 30, both inclusive. That is, to be clear, $5\\leq x\\leq 30$. The weight of an edge between read A and read B should be the NEGATED value of $x$, i.e. $-x$. \n",
    "\n",
    "In your Jupyter notebook, please report the number of edges in your graph. Provide a barplot or histogram which shows the number of edges with different weights or weight categories. In this task, you are free to use plotting libraries such as `matplotlib` or `seaborn` to plot this graph.\n",
    "\n",
    "As an example, if read A is \"TACTAGT\" and read B is \"TAGTCCCCT\", then an edge is drawn FROM read A TO read B (i.e., $A \\rightarrow B$) with weight of $-4$. This is because the 4-suffix \"TAGT\" is also the 4-prefix of read B; in other words, the last 4 characters of read A (a substring of length 4) overlap with the first 4 characters of read B (a substring of length 4).\n",
    "\n",
    "### Task B (7 marks): \n",
    "\n",
    "From Task A, you now have a graph which shows connections between reads based on how they overlap, in theory you could draw a path through the graph and thereby derive the full sequence (genome).\n",
    "\n",
    "Task B asks you to use local search method(s) to determine a path through this directed graph of strings. \n",
    "\n",
    "- You are expected to use simulated annealing and tune the relevant configuration settings and hyperparameters. The minimum requirement is to implement simulated annealing.\n",
    "\n",
    "- Explain tha rationale behind the choice of scheduling strategy and parameters.\n",
    "\n",
    "- However, you may also explore other search methods in addition to simulated annealing. Marks will be awarded for effort.\n",
    "\n",
    "Note the following constraints:\n",
    "\n",
    "1. The path has to go through each and every vertex exactly once. For computer scientists, this constraint is reminiscent of the \"Traveling Salesman's Problem\", except that unlike TSP, we should not need to go back to the starting vertex again. \n",
    "\n",
    "2. For the purposes of neighbor generation / action selection at each node, bear in mind that a path through the graph which minimizes the total number of nucleotides in the assembled sequence is the preferred path. To state that another way, the assembled sequence should be derived from a path that goes through EACH and EVERY vertex exactly once, however we want this assembled sequence to be AS SHORT AS POSSIBLE.\n",
    "\n",
    "3. You are not given the starting (source/origin) or ending (destination) vertex.\n",
    "\n",
    "4. For avoidance of ambiguity, no cycles are allowed. You must not visit a vertex more than once.\n",
    "\n",
    "5. You are not allowed to use any libraries apart from the Python Standard Library.\n",
    "No import statements which import libraries outside of the Python STL should be found within your answer for Task B.\n",
    "\n",
    "Please remember to report the assembled sequence that you obtain. Although it would be great if you can come up with a good sequence, please feel reassured that we are more interested in your APPROACH to the problem, and so you can potentially get a reasonable score on this task even if your solution is \"wrong\". It is the process, rather than the result, which matters more."
   ]
  },
  {
   "cell_type": "code",
   "execution_count": 2,
   "metadata": {
    "id": "oBnbZpd2bt1N"
   },
   "outputs": [],
   "source": [
    "# Problem Class\n",
    "class Problem:\n",
    "    \"\"\"The abstract class for a formal problem. A new domain subclasses this,\n",
    "    overriding `actions` and `results`, and perhaps other methods.\n",
    "    The default heuristic is 0 and the default action cost is 1 for all states.\n",
    "    When you create an instance of a subclass, specify `initial`, and `goal` states \n",
    "    (or give an `is_goal` method) and perhaps other keyword args for the subclass.\"\"\"\n",
    "\n",
    "    def __init__(self, initial=None, goal=None, **kwds): \n",
    "        self.__dict__.update(initial=initial, goal=goal, **kwds) \n",
    "        \n",
    "    def actions(self, state):        raise NotImplementedError\n",
    "    def result(self, state, action): raise NotImplementedError\n",
    "    def is_goal(self, state):        return state == self.goal\n",
    "    def action_cost(self, s, a, s1): return 1\n",
    "    def h(self, node):               return 0\n",
    "    \n",
    "    def __str__(self):\n",
    "        return '{}({!r}, {!r})'.format(\n",
    "            type(self).__name__, self.initial, self.goal)"
   ]
  },
  {
   "cell_type": "code",
   "execution_count": 3,
   "metadata": {},
   "outputs": [],
   "source": [
    "# Use the following Node class to generate search tree\n",
    "import math\n",
    "class Node:\n",
    "    \"A Node in a search tree.\"\n",
    "    def __init__(self, state, parent=None, action=None, path_cost=0):\n",
    "        self.__dict__.update(state=state, parent=parent, action=action, path_cost=path_cost)\n",
    "\n",
    "    def __repr__(self): return '<{}>'.format(self.state)\n",
    "    def __len__(self): return 0 if self.parent is None else (1 + len(self.parent))\n",
    "    def __lt__(self, other): return self.path_cost < other.path_cost "
   ]
  },
  {
   "cell_type": "markdown",
   "metadata": {},
   "source": [
    "## Task A:\n",
    "\n",
    "### Constructing the directed graph\n",
    "\n",
    "Here we create the directed graph where the nodes in the graph are the strings in the list of reads. We first calculate the exact longest overlap from one string to another and then deal with the ones that fall outside the [5,30] in the next section.\n",
    "\n",
    "For the representation of the directed graph, we use adjacent matrix for simplicity."
   ]
  },
  {
   "cell_type": "code",
   "execution_count": 4,
   "metadata": {},
   "outputs": [
    {
     "name": "stdout",
     "output_type": "stream",
     "text": [
      "Start constructing directed graph from data.csv file\n",
      "Directed graph constructed!\n"
     ]
    }
   ],
   "source": [
    "import csv\n",
    "\n",
    "class DirectedGraph:\n",
    "    def __init__(self):\n",
    "        # strings array stores all the strings read from the csv file\n",
    "        strings = []\n",
    "        with open(\"data.csv\") as csvfile:\n",
    "            csvreader = csv.reader(csvfile)\n",
    "            next(csvreader)  # ignore the first line\n",
    "            for row in csvreader:\n",
    "                strings.append(row[2])\n",
    "        \n",
    "        # number of reads\n",
    "        number_of_reads = len(strings)\n",
    "        \n",
    "        # create adjacent matrix\n",
    "        # since all edges always have negative weight, graph[A][B] has weight 0 means there is NO edge from A to B\n",
    "        # initialize all matrix element to 0, which means there is no edge in the graph initially\n",
    "        # self.adjMatrix[i][j] means the edge FROM string[i] TO string[j]\n",
    "        self.adjMatrix = [[0] * number_of_reads for _ in range(number_of_reads)]\n",
    "        \n",
    "        # next_arrays is a list of lists which stores next arrays for all strings\n",
    "        next_arrays = []\n",
    "        for string in strings:\n",
    "            next_arrays.append(DirectedGraph.next_array(string))\n",
    "                    \n",
    "        # i is the index of the FROM string (the former one, s1)\n",
    "        for i in range(number_of_reads):\n",
    "            # j is the index of the TO string (the latter one, s2)\n",
    "            for j in range(number_of_reads):\n",
    "                # there should not be edge from A to A\n",
    "                if i != j:\n",
    "                    # the distance from i to j is negate overlap\n",
    "                    self.adjMatrix[i][j] = - DirectedGraph.overlap(strings[i], strings[j], next_arrays[j])\n",
    "                    \n",
    "    '''\n",
    "    Calculate overlap of string A (s1) to B (s2)\n",
    "    Algorithm KMP\n",
    "    '''\n",
    "    # calculate next array of s2, which is pattern in this case\n",
    "    @staticmethod\n",
    "    def next_array(s2):\n",
    "        nextA = [0] * len(s2)\n",
    "        j = 0\n",
    "        k = -1\n",
    "        nextA[j] = k\n",
    "        while j < len(s2) - 1:\n",
    "            if (k == -1) or (s2[j] == s2[k]):\n",
    "                j += 1\n",
    "                k += 1\n",
    "                if s2[j] == s2[k]:\n",
    "                    nextA[j] = nextA[k]\n",
    "                else:\n",
    "                    nextA[j] = k\n",
    "            else:\n",
    "                k = nextA[k]\n",
    "        return nextA\n",
    "\n",
    "    @staticmethod\n",
    "    def overlap(s1, s2, next_s2):\n",
    "        '''\n",
    "        Returns longest overlap from s1 to s2\n",
    "        i.e. the longest suffix of s1, which is also prefix of s2\n",
    "        pass the next array of s2 in, since we need to compute overlap of each pair and we need to use next_s2 for several times\n",
    "        '''\n",
    "\n",
    "        l1 = len(s1)\n",
    "        l2 = len(s2)\n",
    "        # if l1 < l2, then we start from 0 in text\n",
    "        if l1 < l2:\n",
    "            i = 0\n",
    "        # if l1 >= l2, then we start from (l1 - l2) in text\n",
    "        else:\n",
    "            i = l1 - l2\n",
    "\n",
    "        j = 0\n",
    "        while i < l1:\n",
    "            if (j == -1) or (s1[i] == s2[j]):\n",
    "                i += 1\n",
    "                j += 1\n",
    "            else:\n",
    "                j = next_s2[j]\n",
    "        # when i steps into the void after s1's last element\n",
    "        # j is the length of the prefix matched\n",
    "        return j\n",
    "\n",
    "# Constructing the Directed graph, it may take several seconds, please wait patiently before it completes\n",
    "print(\"Start constructing directed graph from data.csv file\")    \n",
    "dg = DirectedGraph()\n",
    "print(\"Directed graph constructed!\")"
   ]
  },
  {
   "cell_type": "markdown",
   "metadata": {},
   "source": [
    "### Limiting the overlap within [5,30]\n",
    "\n",
    "#### Enforcing the upper bound\n",
    "\n",
    "As described in the question, we should limit the overlap from 5 to 30 (both inclusive). Firstly, we want to deal with edges with overlap larger than 30. Actually, we will see from the below code: there is only one edge has a weight less than -30, which is from Read 457 to Read 27. This edge corresponds to an overlap of 62."
   ]
  },
  {
   "cell_type": "code",
   "execution_count": 5,
   "metadata": {},
   "outputs": [
    {
     "name": "stdout",
     "output_type": "stream",
     "text": [
      "Distance from Read 457 to Read 27 is -62\n"
     ]
    }
   ],
   "source": [
    "for i,row in enumerate(dg.adjMatrix):\n",
    "    for j,distance in enumerate(row):\n",
    "        if distance < -30:\n",
    "            print(f\"Distance from Read {i} to Read {j} is {distance}\")"
   ]
  },
  {
   "cell_type": "markdown",
   "metadata": {},
   "source": [
    "However, if we limit Read 457 to Read 27's overlap to a upper bound 30, they will happen to have an overlap of 30, i.e. the last 30 chars of Read 457 is exactly the same as the first 30 chars of Read 27. It also means that the weight of the edge from Read 457 to Read 27 is exactly -30.\n",
    "\n",
    "The code below slightly changes the algorithm used to compute overlap from one string to another. It starts by comparing only from the last 30 elements of the first string, i.e. imposing the upper bound of the result to 30 (inclusive). And the result turns out to be that overlap from Read 457 to Read 27 is 30 when we impose the upper bound 30."
   ]
  },
  {
   "cell_type": "code",
   "execution_count": 6,
   "metadata": {},
   "outputs": [
    {
     "name": "stdout",
     "output_type": "stream",
     "text": [
      "When imposing the upper bound of 30, overlap from Read 457 to Read 27 is 30\n"
     ]
    }
   ],
   "source": [
    "'''\n",
    "Calculate overlap of string A (s1) to B (s2) with an upper bound of 30\n",
    "Algorithm KMP\n",
    "'''\n",
    "# calculate next array of s2, which is pattern in this case\n",
    "def next_array(s2):\n",
    "    nextA = [0] * len(s2)\n",
    "    j = 0\n",
    "    k = -1\n",
    "    nextA[j] = k\n",
    "    while j < len(s2) - 1:\n",
    "        if (k == -1) or (s2[j] == s2[k]):\n",
    "            j += 1\n",
    "            k += 1\n",
    "            if s2[j] == s2[k]:\n",
    "                nextA[j] = nextA[k]\n",
    "            else:\n",
    "                nextA[j] = k\n",
    "        else:\n",
    "            k = nextA[k]\n",
    "    return nextA\n",
    "\n",
    "\n",
    "def overlap(s1, s2, next_s2):\n",
    "    '''\n",
    "    Returns longest overlap from s1 to s2, the upper bound is 30\n",
    "    i.e. the longest suffix of s1, which is also prefix of s2\n",
    "    pass the next array of s2 in, since we need to compute overlap of each pair and we need to use next_s2 for several times\n",
    "    '''\n",
    "\n",
    "    l1 = len(s1)\n",
    "    l2 = len(s2)\n",
    "    i = l1 - 30  # impose the upper bound to 30\n",
    "\n",
    "    j = 0\n",
    "    while i < l1:\n",
    "        if (j == -1) or (s1[i] == s2[j]):\n",
    "            i += 1\n",
    "            j += 1\n",
    "        else:\n",
    "            j = next_s2[j]\n",
    "    # when i steps into the void after s1's last element\n",
    "    # j is the length of the prefix matched\n",
    "    return j\n",
    "\n",
    "\n",
    "with open(\"data.csv\") as csvfile:\n",
    "    csvreader = csv.reader(csvfile)\n",
    "    next(csvreader)  # ignore the first line\n",
    "    for row in csvreader:\n",
    "        if int(row[0]) == 457:\n",
    "            s1 = row[2]\n",
    "        elif int(row[0]) == 27:\n",
    "            s2 = row[2]\n",
    "\n",
    "print(f\"When imposing the upper bound of 30, overlap from Read 457 to Read 27 is {overlap(s1,s2,next_array(s2))}\")\n",
    "            "
   ]
  },
  {
   "cell_type": "markdown",
   "metadata": {},
   "source": [
    "#### Enforcing the lower bound\n",
    "\n",
    "If Read A to Read B has an overlap less than 5, then when we impose the lower bound of 5, Read A to Read B will have no overlap. We could simply say that there is no edge from Read A to Read B.\n",
    "\n",
    "We could simply set these edges's weight back to 0, which means there is no edge."
   ]
  },
  {
   "cell_type": "code",
   "execution_count": 7,
   "metadata": {},
   "outputs": [
    {
     "name": "stdout",
     "output_type": "stream",
     "text": [
      "Total number of edges in graph is 126876\n",
      "Among these edges, there are 125369 edges has weight > -5, i.e. overlap is less than 5. If we exclude these edges, there are 1507 edges in total\n"
     ]
    }
   ],
   "source": [
    "# edge count\n",
    "count = 0\n",
    "# count of edges with weight > -5, i.e. overlap is less than -5 \n",
    "count_to_exclude = 0\n",
    "for i,row in enumerate(dg.adjMatrix):\n",
    "    for j,distance in enumerate(row):\n",
    "        if distance != 0:\n",
    "            count += 1\n",
    "            if distance > -5:\n",
    "                count_to_exclude += 1\n",
    "            \n",
    "print(f\"Total number of edges in graph is {count}\")\n",
    "print(f\"Among these edges, there are {count_to_exclude} edges has weight > -5, i.e. overlap is less than 5. If we exclude these edges, there are {count - count_to_exclude} edges in total\")\n"
   ]
  },
  {
   "cell_type": "markdown",
   "metadata": {},
   "source": [
    "#### Implement the limit of [5,30] in our directed graph\n",
    "\n",
    "From the above two session, we can conclude that to impose the limit of [5,30] in overlap. We should\n",
    "\n",
    "- set the weight from Read 457 to Read 27 to 30\n",
    "- delete all edges with weight > -5\n",
    "\n",
    "In the following code cell, we do the limit task."
   ]
  },
  {
   "cell_type": "code",
   "execution_count": 8,
   "metadata": {},
   "outputs": [],
   "source": [
    "# impose the upper bound\n",
    "dg.adjMatrix[457][27] = -30\n",
    "\n",
    "# impose the lower bound\n",
    "for i,row in enumerate(dg.adjMatrix):\n",
    "    for j,weight in enumerate(row):\n",
    "        if weight > -5 and weight < 0:\n",
    "            dg.adjMatrix[i][j] = 0"
   ]
  },
  {
   "cell_type": "markdown",
   "metadata": {},
   "source": [
    "### Counting edges and visualization of their weight distribution\n",
    "\n",
    "In this session, we count the number of valid edges (whose weight fall inside [-30,-5], i.e. corresponding overlap fall inside [5,30]) and visualize the distribution in bar plot using `matplotlib`.\n",
    "\n",
    "From the above code cell, we know that we have **126876** edges in the original directed graph (weight lies between -1 to -62).\n",
    "\n",
    "From the below code cell, we know that we have **1507** edges (whose weight is between -5 to -30) in our graph.\n",
    "\n",
    "PS: Please make sure that you have ran the upper code cell imposing the limit before run the below code cell. Otherwise you will get a totally different results."
   ]
  },
  {
   "cell_type": "code",
   "execution_count": 9,
   "metadata": {},
   "outputs": [
    {
     "name": "stdout",
     "output_type": "stream",
     "text": [
      "Number of valid edges is 1507\n"
     ]
    },
    {
     "data": {
      "text/plain": [
       "<BarContainer object of 26 artists>"
      ]
     },
     "execution_count": 9,
     "metadata": {},
     "output_type": "execute_result"
    },
    {
     "data": {
      "image/png": "[encoded data removed]",
      "text/plain": [
       "<Figure size 640x480 with 1 Axes>"
      ]
     },
     "metadata": {},
     "output_type": "display_data"
    }
   ],
   "source": [
    "# Visualize the weight distribution\n",
    "import matplotlib.pyplot as plt\n",
    "\n",
    "# HashMap saving number of edges with different weight\n",
    "hm = {}\n",
    "# edge count\n",
    "count = 0\n",
    "for i,row in enumerate(dg.adjMatrix):\n",
    "    for j,distance in enumerate(row):\n",
    "        if distance != 0:\n",
    "            count += 1\n",
    "            hm[distance] = hm.get(distance, 0) + 1\n",
    "\n",
    "print(f\"Number of valid edges is {count}\")\n",
    "# x and height of bar plot\n",
    "x = []\n",
    "height = []\n",
    "for dist, number in hm.items():\n",
    "    x.append(dist)\n",
    "    height.append(number)\n",
    "plt.bar(x, height)"
   ]
  },
  {
   "cell_type": "markdown",
   "metadata": {},
   "source": [
    "## Task B:\n",
    "\n",
    "First of all, the goal is to minimize the length of the final string which is the combination of all strings provided. This can be reduced to maximize the total overlap of every two consecutive strings. When we define the distance from Read A to Read B as the -overlap from A to B, our goal turns into minimize the total -overlap of every two consecutive strings.\n",
    "\n",
    "Because of this theoretical foundation, we could treat two unconnected strings (whose edge has weight 0) as the two endpoint connected with 0 overlap. Adding these 0 weight edge will not affect the total -overlap we found, nor will affect the length of the final string combined.\n",
    "\n",
    "So in the following part, we treat 0 weight edge as they are connected with 0 -overlap and the graph becomes a fully connected graph in this sense.\n",
    "\n",
    "### TSP class\n",
    "\n",
    "In the TSP class, we model state as a list of index. The index stands for a Read, for example, index 105 stands for Read 105.\n",
    "Moreover, the order in the list stands for the order we travel across all cities (in the genome assembly case, the order we assemble strings). For example, [...107,409,...] means we first use Read 107 and it is followed by 409. \n",
    "\n",
    "In the TSP class, we implement two things:\n",
    "\n",
    "1. the method to generate neighbors\n",
    "2. the method to calculate value of a state (a complete configuration)\n",
    "\n",
    "#### Generating neighbors\n",
    "\n",
    "##### 2-opt\n",
    "\n",
    "For the neighbors generating, we use 2-opt method to generate neighbors. The `two_opt` method in the class accepts the current state, the index (in state list) of the end point for the first edge to cut, the index (in state list) of the start point for the second edge to cut. To be more specific, `two_opt(self, state, i, j)` means cutting edge from `state[i-1]` to `state[i]` and edge from `state[j]` to `state[j+1]`. This method will generate a new state and return it.\n",
    "\n",
    "In the `expand` method, we accepts a state and returns a random neighbor by randomizing the i and j, i.e. the two edge to cut.\n",
    "\n",
    "##### \"exchange two\" method\n",
    "\n",
    "We also try another neighbor generation method, which we name \"exchange two\" method. In this method, we also randomly choose two number i,j and exchange the positions of `state[i]` and `state[j]` in the Read list. The meaning of this operation is that we exchange the position of Read `state[i]` and Read `state[j]` in the final combined string.\n",
    "\n",
    "This method does less change to the total overlap since only four overlap will be influenced. This property indicates that the neighbors of one state will have similar value to the value of the state, which produces a more smooth \"landscape\".\n",
    "\n",
    "#### Calculating value of a state\n",
    "\n",
    "Just iterate over the state list and pick out every pair of indexes adjacent to each other in the state list, query the distance from `state[i]` to `state[i+1]` in the directed graph and return the sum.\n"
   ]
  },
  {
   "cell_type": "code",
   "execution_count": 14,
   "metadata": {},
   "outputs": [],
   "source": [
    "# Code to generate neighbours, value of states, etc.\n",
    "class TSP(Problem):\n",
    "    #Implement TSP class here\n",
    "    def __init__(self, graph, expand_method, initial=None):\n",
    "        super().__init__(initial=initial)\n",
    "        self.graph = graph\n",
    "        self.vertice_number = len(graph)\n",
    "        if expand_method == '2-opt':\n",
    "            self.expand_method = self.two_opt\n",
    "        else:\n",
    "            self.expand_method = self.exchange_two\n",
    "    \n",
    "    # calculate the total distance of a configuration, i.e. the total -overlap of a configuration\n",
    "    # Here the state should be a complete configuration, which means has 599 elements inside it\n",
    "    def value(self, state):\n",
    "        res = 0\n",
    "        for i in range(self.vertice_number - 1):\n",
    "            res += self.graph[state[i]][state[i+1]]\n",
    "        return res    \n",
    "    \n",
    "    # Using 2-opt to find neighbors\n",
    "    # cut edge from state[i-1] to state[i] and edge from state[j] to state[j+1]\n",
    "    def two_opt(self, state, i, j):\n",
    "        new_state = [0] * self.vertice_number\n",
    "        # 0 ~ (i-1)\n",
    "        for k in range(i):\n",
    "            new_state[k] = state[k]\n",
    "            \n",
    "        # i\n",
    "        new_state[i] = state[j]\n",
    "        \n",
    "        # (i+1) ~ (j-1)\n",
    "        for k in range(i+1, j):\n",
    "            new_state[k] = state[i + j - k]\n",
    "        \n",
    "        # j\n",
    "        new_state[j] = state[i]\n",
    "        \n",
    "        # (j+1) ~ (vertice_number-1)\n",
    "        for k in range(j+1, self.vertice_number):\n",
    "            new_state[k] = state[k]\n",
    "            \n",
    "        return new_state\n",
    "    \n",
    "    # Another way to generate neighbors, which is randomly choose two read in the state list and exchange their position\n",
    "    # in the state list\n",
    "    def exchange_two(self, state, i, j):\n",
    "        new_state = state[:]\n",
    "        new_state[i] = state[j]\n",
    "        new_state[j] = state[i]\n",
    "        return new_state\n",
    "    \n",
    "    # Expansion here is randomly choosing i and j, and using 2-opt to generate results from \n",
    "    # cutting edge from state[i-1] to state[i] and edge from state[j] to state[j+1]\n",
    "    # simply return the new state returned by 2-opt\n",
    "    def expand(self, state):\n",
    "        # Since 2-opt will cut edge from state[i-1] to state[i] and edge from state[j] to state[j+1]\n",
    "        # i is at least 1, at most (self.vertice_number - 3), both inclusive\n",
    "        # j is at least (i + 1), at most (self.vertice_number - 2), both inclusive\n",
    "        # to make (state[i-1], state[i]) and (state[j], state[j+1]) non-adjacent, we only need to make sure i != j\n",
    "        r1 = randint(1, self.vertice_number - 2)\n",
    "        r2 = randint(1, self.vertice_number - 2)\n",
    "        # reroll when r1 == r2\n",
    "        while r1 == r2:\n",
    "            r1 = randint(1, self.vertice_number - 2)\n",
    "            r2 = randint(1, self.vertice_number - 2)\n",
    "        if r1 < r2:\n",
    "            i, j = r1, r2\n",
    "        else:\n",
    "            i, j = r2, r1\n",
    "        new_state = self.expand_method(state, i, j)\n",
    "        return new_state   \n",
    "    \n",
    "# initialize TSP problem with directed graph we genreated\n",
    "tsp_problem = TSP(dg.adjMatrix, expand_method=\"2-opt\")\n",
    "# another expand method: exchange two\n",
    "tsp_problem_exchange_two = TSP(dg.adjMatrix, expand_method=\"exchange_two\")"
   ]
  },
  {
   "cell_type": "markdown",
   "metadata": {},
   "source": [
    "### Greedy search algorithm\n",
    "\n",
    "We first run a Greedy search algorithm to get a sufficiently acceptable benchmark. For this Greedy search algorithm, the state is an index list in which each index stands for the corresponding string and the order of the indexes stands for the concatenance order. For example, [1,2,3] means the first string we use is Read 1 and followed by Read 2 and finnally followed by Read 3.\n",
    "\n",
    "The initial state is `[]` which means there is no string visited. The goal state we want is a list containing all strings index without duplication which means we have visited all strings in a specific order.\n",
    "\n",
    "We call it greedy search algorithm because every time we select a child to move on, we try to add to the state list a string whose prefix has largest overlap with the state list's last string's suffix.\n",
    "\n",
    "The goal state of Greedy search algorithm could also be used as an initial state for Simulated Annealing algorithm.\n",
    "\n",
    "#### Tricky choice of the start point\n",
    "\n",
    "Since the choice of an index (standing for a Read with that index) to add to the state list is based on the last string we already have in the state list, when we have no string index in the state list, we have to randomly choose one. So when designing the Greedy class, we need to pass a start index to initialize the Greedy search algorithm.\n",
    "\n",
    "Here comes the tricky part, which start point performs better in this greedy search algorithm?\n",
    "\n",
    "Actually we have done the test. We iterate over all possible start point (which is 0-598 in this problem), and find out the start point 596 will give us the lowest value -12011. But actually the results of different start points are quite close to each other, majority of them lies bewteen -11880 and -12000.\n",
    "\n",
    "Since it's a little time-consuming to run through all the start points, we don't give the complete code below. Instead we just give our implementation of Greedy search class and the code to run this search with start point 596. It's rather easy to extend the code to run through all start points."
   ]
  },
  {
   "cell_type": "code",
   "execution_count": 15,
   "metadata": {
    "scrolled": false
   },
   "outputs": [
    {
     "name": "stdout",
     "output_type": "stream",
     "text": [
      "[596, 68, 403, 471, 490, 188, 507, 142, 378, 449, 530, 176, 169, 457, 27, 523, 358, 129, 380, 65, 183, 39, 108, 30, 369, 1, 228, 298, 586, 277, 195, 517, 589, 410, 413, 71, 383, 566, 0, 224, 427, 258, 180, 89, 85, 432, 563, 96, 481, 557, 388, 593, 158, 212, 318, 54, 502, 50, 36, 306, 32, 582, 274, 499, 93, 461, 382, 564, 171, 588, 510, 107, 147, 53, 63, 196, 219, 243, 18, 352, 191, 440, 584, 311, 264, 508, 29, 400, 540, 276, 495, 208, 41, 105, 443, 497, 287, 261, 312, 307, 295, 479, 203, 423, 534, 283, 452, 235, 179, 263, 374, 49, 459, 384, 237, 57, 214, 293, 506, 174, 346, 181, 305, 477, 242, 238, 597, 82, 51, 135, 328, 334, 484, 199, 354, 524, 511, 401, 412, 362, 577, 249, 299, 335, 69, 442, 120, 441, 232, 444, 535, 175, 225, 246, 288, 145, 411, 565, 516, 301, 159, 519, 462, 6, 433, 269, 525, 448, 561, 292, 198, 542, 155, 60, 79, 303, 415, 319, 184, 317, 247, 559, 474, 94, 116, 460, 488, 469, 398, 217, 61, 111, 491, 8, 590, 389, 536, 376, 509, 437, 533, 438, 70, 381, 591, 332, 397, 115, 205, 486, 95, 456, 323, 284, 148, 21, 19, 250, 134, 296, 285, 468, 226, 31, 377, 435, 364, 562, 182, 9, 43, 109, 151, 343, 505, 321, 392, 156, 165, 125, 480, 59, 320, 138, 80, 22, 428, 133, 127, 236, 189, 308, 186, 99, 463, 62, 28, 177, 110, 262, 160, 408, 123, 420, 74, 15, 267, 280, 75, 371, 273, 26, 218, 370, 379, 430, 122, 489, 149, 255, 291, 387, 518, 404, 139, 102, 304, 453, 351, 573, 528, 578, 326, 35, 393, 434, 153, 136, 399, 567, 168, 114, 154, 240, 252, 314, 260, 363, 220, 520, 150, 569, 493, 583, 88, 581, 447, 130, 254, 103, 268, 451, 405, 470, 279, 419, 144, 345, 482, 146, 407, 81, 361, 465, 87, 44, 529, 98, 417, 72, 140, 194, 152, 580, 357, 300, 344, 492, 494, 48, 245, 221, 522, 316, 289, 286, 118, 336, 549, 366, 431, 173, 500, 52, 338, 213, 458, 17, 375, 234, 496, 38, 498, 215, 553, 282, 239, 515, 418, 426, 84, 568, 396, 356, 473, 372, 503, 464, 527, 290, 587, 560, 16, 117, 23, 4, 436, 424, 167, 76, 187, 126, 327, 359, 128, 539, 538, 164, 466, 64, 546, 570, 211, 544, 467, 210, 251, 425, 193, 521, 455, 297, 598, 331, 454, 543, 353, 20, 141, 545, 270, 574, 278, 475, 446, 478, 265, 450, 395, 394, 309, 56, 367, 548, 422, 271, 385, 77, 272, 100, 157, 541, 162, 558, 204, 429, 46, 12, 552, 329, 416, 137, 161, 230, 390, 2, 223, 33, 485, 73, 244, 202, 342, 66, 409, 483, 201, 281, 391, 445, 222, 294, 373, 348, 360, 37, 339, 322, 349, 13, 248, 14, 233, 227, 90, 504, 131, 406, 10, 24, 40, 512, 330, 216, 92, 190, 341, 556, 340, 200, 124, 11, 67, 555, 132, 501, 106, 324, 25, 166, 257, 531, 143, 97, 259, 113, 78, 472, 206, 101, 414, 163, 209, 514, 315, 421, 58, 42, 368, 192, 333, 83, 551, 537, 365, 112, 310, 576, 579, 266, 547, 594, 595, 45, 47, 91, 313, 302, 350, 241, 5, 185, 178, 275, 172, 526, 487, 229, 554, 3, 355, 337, 571, 550, 402, 119, 575, 325, 7, 231, 104, 347, 121, 170, 34, 207, 253, 197, 572, 439, 532, 592, 585, 86, 513, 256, 476, 55, 386]\n",
      "The total -overlap found by greedy search algorithm is -12011\n"
     ]
    }
   ],
   "source": [
    "class Greedy:\n",
    "    def __init__(self, problem, start):\n",
    "        self.problem = problem\n",
    "        self.initial = []\n",
    "        self.start = start\n",
    "        \n",
    "    def is_goal(self, state):\n",
    "        # if the len of state equals to the total strings number, then we know we have finished searching\n",
    "        # since we will do re-visit check in proceed function so there is guaranteed to be no duplication\n",
    "        # in the state list.\n",
    "        return len(state) == self.problem.vertice_number\n",
    "    \n",
    "    def proceed(self, state):\n",
    "        # if there is at least one string index in the state\n",
    "        # we choose the best successor of last_string, i.e. making overlap from last string to new string largest\n",
    "        if state:\n",
    "            last_string = state[-1]\n",
    "            \n",
    "            # min_weight is the lowest weight we have found\n",
    "            min_weight = 1\n",
    "            # min_index stores the string index with lowest weight\n",
    "            min_index = -1\n",
    "            \n",
    "            # j is the index of next string we want to use\n",
    "            for j in range(self.problem.vertice_number):\n",
    "                # if we haven't used string j before\n",
    "                if j not in state:\n",
    "                    if self.problem.graph[last_string][j] < min_weight:\n",
    "                        min_weight = self.problem.graph[last_string][j]\n",
    "                        min_index = j\n",
    "                        \n",
    "            state.append(min_index)\n",
    "            return state\n",
    "\n",
    "        else:\n",
    "            # if it is the initial state, we just simply choose Read start\n",
    "            return [self.start]\n",
    "    \n",
    "    # generate a goal state\n",
    "    def gen(self):\n",
    "        state = self.initial\n",
    "        while not self.is_goal(state):\n",
    "            state = self.proceed(state)\n",
    "        return state\n",
    "            \n",
    "    \n",
    "# set the start point as Read 596  \n",
    "greedy = Greedy(problem=tsp_problem, start=596)\n",
    "res = greedy.gen()\n",
    "print(res)\n",
    "print(f\"The total -overlap found by greedy search algorithm is {tsp_problem.value(res)}\")\n",
    "\n",
    "initial_state_for_SA = res"
   ]
  },
  {
   "cell_type": "markdown",
   "metadata": {},
   "source": [
    "### Implementation of Simulated Annealing\n",
    "\n",
    "In the implementation of Simulated annealing, just as implemented in TSP class, we first use 2-opt to generate neighbors.\n",
    "\n",
    "For initial state, we use our best goal state from Greedy search algorithm as the initial state for Simulated Annealing algorithm.\n",
    "\n",
    "For scheduling, we use constant times initial value as our initial temperature. We use exponential decay strategy. So that there are two hyperparameters in our SA which is constant for initial temperature and the cooling rate."
   ]
  },
  {
   "cell_type": "code",
   "execution_count": 16,
   "metadata": {
    "id": "B2-y3Nt9ccxj",
    "scrolled": true
   },
   "outputs": [
    {
     "name": "stdout",
     "output_type": "stream",
     "text": [
      "[596, 65, 380, 493, 583, 88, 581, 522, 221, 240, 252, 314, 260, 363, 220, 520, 150, 569, 129, 358, 523, 27, 457, 169, 176, 530, 449, 378, 142, 319, 184, 317, 247, 559, 474, 94, 116, 460, 488, 469, 398, 217, 61, 111, 491, 8, 590, 389, 536, 376, 509, 437, 533, 438, 70, 381, 591, 332, 397, 115, 205, 135, 51, 82, 597, 67, 555, 132, 501, 106, 324, 25, 166, 257, 531, 143, 97, 259, 113, 78, 472, 206, 101, 414, 163, 209, 514, 315, 421, 58, 42, 368, 192, 333, 83, 551, 537, 365, 112, 310, 576, 579, 266, 214, 293, 506, 174, 346, 181, 305, 477, 242, 238, 11, 124, 200, 340, 265, 478, 446, 439, 532, 592, 447, 130, 254, 126, 327, 359, 128, 539, 538, 164, 466, 64, 546, 570, 211, 544, 467, 210, 251, 425, 193, 521, 455, 204, 429, 178, 275, 172, 526, 487, 229, 554, 3, 355, 337, 571, 550, 402, 119, 575, 325, 7, 231, 545, 270, 558, 297, 598, 331, 454, 543, 353, 20, 141, 104, 347, 121, 170, 34, 207, 253, 197, 572, 475, 278, 574, 162, 541, 294, 373, 189, 308, 186, 99, 463, 62, 28, 177, 110, 262, 160, 408, 123, 420, 74, 15, 267, 280, 75, 371, 273, 26, 218, 370, 379, 430, 122, 489, 149, 535, 444, 232, 441, 120, 366, 549, 529, 98, 417, 72, 140, 194, 152, 580, 357, 300, 344, 492, 494, 48, 245, 154, 114, 168, 393, 434, 153, 136, 399, 573, 528, 578, 326, 35, 567, 351, 453, 304, 102, 139, 404, 518, 387, 291, 255, 175, 225, 246, 288, 145, 411, 565, 516, 301, 159, 519, 462, 6, 433, 269, 525, 448, 561, 292, 198, 542, 155, 60, 79, 303, 415, 507, 188, 490, 471, 403, 68, 183, 39, 108, 30, 369, 1, 228, 298, 586, 277, 195, 517, 589, 410, 413, 563, 432, 85, 89, 180, 258, 427, 224, 0, 566, 383, 71, 96, 481, 557, 388, 593, 158, 212, 318, 54, 502, 50, 36, 306, 32, 582, 274, 499, 93, 461, 21, 148, 284, 323, 456, 95, 486, 328, 334, 484, 199, 354, 524, 511, 401, 412, 362, 577, 249, 299, 335, 69, 442, 431, 173, 500, 52, 338, 213, 458, 17, 375, 234, 496, 38, 498, 215, 553, 282, 239, 515, 418, 426, 84, 568, 396, 356, 473, 372, 503, 464, 527, 290, 587, 560, 16, 117, 23, 4, 436, 424, 167, 76, 187, 103, 268, 451, 405, 470, 562, 182, 9, 43, 109, 151, 343, 505, 321, 392, 156, 165, 185, 5, 19, 250, 134, 296, 285, 468, 226, 31, 377, 435, 364, 279, 419, 144, 345, 482, 146, 407, 81, 361, 465, 87, 44, 336, 90, 46, 12, 552, 329, 416, 137, 161, 230, 390, 2, 223, 33, 485, 73, 244, 202, 342, 66, 409, 483, 201, 281, 391, 320, 59, 480, 125, 504, 131, 406, 10, 24, 40, 512, 330, 216, 92, 190, 341, 556, 450, 395, 394, 309, 56, 367, 548, 422, 271, 91, 47, 45, 595, 594, 382, 564, 171, 588, 510, 107, 147, 53, 63, 196, 219, 243, 18, 352, 191, 440, 584, 311, 264, 508, 29, 400, 540, 276, 495, 208, 41, 105, 443, 497, 287, 261, 312, 307, 295, 479, 203, 423, 534, 283, 452, 235, 179, 263, 547, 241, 350, 302, 313, 385, 77, 272, 100, 157, 222, 445, 138, 80, 22, 428, 133, 127, 236, 384, 459, 49, 374, 57, 237, 348, 360, 37, 339, 322, 349, 13, 248, 14, 233, 227, 118, 286, 289, 316, 585, 86, 513, 256, 476, 55, 386]\n",
      "The result found by Simulated annealing is -9206\n"
     ]
    }
   ],
   "source": [
    "from random import randint, uniform, shuffle\n",
    "from math import exp\n",
    "\n",
    "# tolerance used in float point number comparison \n",
    "TOLERANCE = 0.0000001\n",
    "\n",
    "# Simuated Annealing \n",
    "class SA:\n",
    "    def __init__(self, problem):        \n",
    "        # randomly generate initial\n",
    "        #self.initial = [i for i in range(self.vertice_number)]\n",
    "        #shuffle(self.initial)\n",
    "        self.problem = problem\n",
    "        self.problem.initial = initial_state_for_SA\n",
    "        \n",
    "        # cooling rate\n",
    "        self.cooling_rate = 0.1\n",
    "        # constant chosen as negative number since the value is negative number\n",
    "        self.constant = -1\n",
    "        self.initial_temperature = self.constant * self.problem.value(self.problem.initial)\n",
    "    \n",
    "    def set_hyperparameter(self, constant, cooling_rate):\n",
    "        self.constant = constant\n",
    "        self.cooling_rate = cooling_rate\n",
    "    \n",
    "    # schduling procedure\n",
    "    def schedule(self, t):\n",
    "        return self.initial_temperature * exp(- self.cooling_rate * t)\n",
    "    \n",
    "    def search(self):\n",
    "        current_state = self.problem.initial\n",
    "        # t is time\n",
    "        t = 1\n",
    "        while True:\n",
    "            # T is temperature \n",
    "            T = self.schedule(t)\n",
    "            if abs(T - 0) < TOLERANCE:\n",
    "                return current_state\n",
    "            \n",
    "            # randomly choose one neighbor randomly from neighbors\n",
    "            next_state = self.problem.expand(current_state)\n",
    "            \n",
    "            # Delta E\n",
    "            deltaE = self.problem.value(current_state) - self.problem.value(next_state)\n",
    "            \n",
    "            if deltaE > 0:\n",
    "                current_state = next_state\n",
    "            else:   \n",
    "                p = exp(deltaE / T)\n",
    "                r = uniform(0,1)\n",
    "                if r <= p:\n",
    "                    current_state = next_state\n",
    "            t += 1\n",
    "        \n",
    "sa = SA(problem=tsp_problem)\n",
    "res = sa.search()\n",
    "print(res)\n",
    "print(f\"The result found by Simulated annealing is {tsp_problem.value(res)}\")"
   ]
  },
  {
   "cell_type": "markdown",
   "metadata": {},
   "source": [
    "#### Trying different cooling rate and constant for initial temperature\n",
    "\n",
    "In the following session, we have tried different combination of cooling rates and initial temperature constants to observe which combination of hyperparameters provides the best result.\n",
    "\n",
    "One of the best results we have found using the previous algorithms is the value -9654 with cooling rate = 0.1 and constant = -5 (since the simulated annealing algorithm will randomly choose successor, rerunning the code are unable to reproduce the result again). \n",
    "\n",
    "A general trend we can conclude from the results executed from the code below is that the higher cooling rate, the better results. Also, the initial temperature constant's influence is much smaller when compared with the cooling rate. In other words, the less we search, the better result we get. However, this may be because we have already been in a local maxima since the initial state is the best goal state generated by our Greedy algorithm. With more steps to go, the SA may wander from the local maxima and go further up in a higher ground with little chance to be captured by another local/global maxima.\n",
    "\n",
    "However, there is an inflection point in the cooling rate $\\lambda = 0.0001$. When compared with the cooling rate $\\lambda = 0.001$, the result returned by cooling rate $\\lambda = 0.0001$ is obviously better than the result returned by cooling rate $\\lambda = 0.001$. It may indicate that when there are abundant search times, i.e. when the temperature goes down slowly enough, the simulated annealing will gradually perform better with the lower cooling rate, i.e. with more search times.\n",
    "\n",
    "But as you may notice, no combinations of constants and cooling rate we test out-perform the greedy search algorithm. However, with lower cooling rate (especially when the cooling rate $\\lambda = 0.0001$), it takes a longer time to compute the result when compared to the greedy search."
   ]
  },
  {
   "cell_type": "code",
   "execution_count": 17,
   "metadata": {},
   "outputs": [
    {
     "name": "stdout",
     "output_type": "stream",
     "text": [
      "The result found with constant -1 and cooling rate 0.1 is -7917\n",
      "The result found with constant -1 and cooling rate 0.01 is -2653\n",
      "The result found with constant -1 and cooling rate 0.001 is -458\n",
      "The result found with constant -1 and cooling rate 0.0001 is -1078\n",
      "The result found with constant -2 and cooling rate 0.1 is -8687\n",
      "The result found with constant -2 and cooling rate 0.01 is -2080\n",
      "The result found with constant -2 and cooling rate 0.001 is -436\n",
      "The result found with constant -2 and cooling rate 0.0001 is -844\n",
      "The result found with constant -5 and cooling rate 0.1 is -9654\n",
      "The result found with constant -5 and cooling rate 0.01 is -2153\n",
      "The result found with constant -5 and cooling rate 0.001 is -405\n",
      "The result found with constant -5 and cooling rate 0.0001 is -1009\n",
      "The result found with constant -10 and cooling rate 0.1 is -8906\n",
      "The result found with constant -10 and cooling rate 0.01 is -2409\n",
      "The result found with constant -10 and cooling rate 0.001 is -556\n",
      "The result found with constant -10 and cooling rate 0.0001 is -948\n",
      "The result found with constant -100 and cooling rate 0.1 is -8759\n",
      "The result found with constant -100 and cooling rate 0.01 is -2359\n",
      "The result found with constant -100 and cooling rate 0.001 is -456\n",
      "The result found with constant -100 and cooling rate 0.0001 is -1050\n"
     ]
    }
   ],
   "source": [
    "# in the result hashmap `res_hm`, the key is the tuple of constant and cooling rate we set, and the value is the tuple\n",
    "# of result state we found and the value of the result state.\n",
    "res_hm = {}\n",
    "\n",
    "for const in [-1, -2, -5, -10, -100]:\n",
    "    for cr in [0.1, 0.01, 0.001, 0.0001]:\n",
    "        sa.set_hyperparameter(constant=const, cooling_rate=cr)\n",
    "        res = sa.search()\n",
    "        res_hm[(const, cr)] = (res, tsp_problem.value(res)) \n",
    "        print(f\"The result found with constant {const} and cooling rate {cr} is {tsp_problem.value(res)}\")"
   ]
  },
  {
   "cell_type": "markdown",
   "metadata": {},
   "source": [
    "As the best result we found is with high cooling rate and low constant, several samples of the result read index list we found are listed as follows:"
   ]
  },
  {
   "cell_type": "code",
   "execution_count": 18,
   "metadata": {},
   "outputs": [
    {
     "name": "stdout",
     "output_type": "stream",
     "text": [
      "Sample 1:\n",
      "([596, 68, 403, 471, 490, 188, 335, 69, 289, 316, 522, 440, 584, 311, 264, 508, 29, 400, 540, 276, 495, 208, 41, 105, 443, 497, 287, 261, 312, 307, 295, 479, 203, 423, 534, 283, 452, 235, 130, 447, 581, 88, 23, 4, 436, 424, 167, 76, 187, 126, 327, 359, 128, 539, 538, 164, 466, 64, 546, 570, 592, 532, 439, 572, 197, 253, 207, 34, 170, 121, 583, 117, 16, 560, 587, 290, 527, 464, 503, 224, 427, 258, 180, 89, 85, 432, 563, 96, 481, 557, 107, 266, 547, 594, 595, 45, 47, 91, 313, 302, 350, 241, 5, 185, 178, 275, 172, 526, 487, 229, 554, 3, 355, 337, 24, 10, 406, 345, 144, 419, 265, 450, 395, 394, 309, 56, 388, 593, 158, 212, 318, 54, 502, 50, 36, 306, 32, 582, 274, 499, 93, 461, 382, 162, 541, 157, 100, 272, 77, 385, 271, 422, 548, 367, 510, 588, 171, 564, 558, 204, 429, 46, 12, 552, 329, 416, 137, 161, 230, 390, 2, 113, 78, 472, 206, 101, 414, 397, 115, 205, 486, 95, 456, 323, 284, 148, 21, 19, 250, 80, 22, 428, 133, 127, 236, 189, 308, 186, 99, 463, 62, 28, 177, 110, 262, 160, 408, 123, 420, 74, 15, 267, 280, 75, 371, 273, 26, 218, 370, 379, 291, 255, 149, 489, 122, 430, 387, 518, 404, 139, 102, 304, 453, 512, 330, 216, 92, 190, 341, 556, 340, 200, 124, 11, 67, 555, 132, 501, 106, 324, 25, 166, 257, 531, 143, 97, 259, 223, 33, 485, 73, 244, 202, 342, 66, 575, 119, 402, 550, 571, 40, 351, 573, 528, 578, 326, 35, 393, 434, 153, 136, 399, 567, 168, 114, 154, 240, 252, 231, 7, 325, 409, 483, 201, 281, 391, 445, 314, 104, 347, 493, 569, 150, 520, 220, 363, 260, 222, 294, 373, 348, 360, 37, 339, 322, 349, 13, 248, 14, 233, 227, 90, 504, 131, 482, 146, 411, 145, 288, 246, 225, 175, 535, 444, 232, 441, 120, 442, 286, 118, 519, 462, 6, 433, 269, 525, 448, 561, 292, 198, 542, 155, 60, 79, 303, 415, 319, 184, 317, 549, 366, 431, 173, 500, 52, 338, 213, 458, 17, 375, 234, 496, 38, 498, 215, 553, 282, 239, 515, 418, 426, 84, 568, 396, 356, 285, 468, 226, 31, 61, 217, 398, 469, 488, 460, 116, 94, 474, 559, 247, 336, 159, 301, 516, 565, 407, 81, 361, 465, 87, 44, 529, 98, 417, 72, 140, 194, 152, 580, 357, 300, 344, 492, 494, 48, 245, 533, 438, 70, 381, 435, 377, 111, 491, 8, 590, 389, 536, 376, 509, 437, 221, 191, 352, 18, 243, 219, 196, 63, 365, 112, 310, 576, 579, 147, 53, 537, 551, 83, 333, 192, 368, 42, 58, 193, 521, 455, 297, 598, 331, 454, 543, 353, 20, 141, 545, 270, 574, 278, 475, 209, 163, 332, 591, 364, 562, 182, 9, 43, 109, 151, 343, 505, 321, 392, 156, 165, 125, 480, 59, 320, 138, 134, 296, 473, 372, 0, 566, 383, 71, 413, 410, 142, 378, 449, 530, 176, 169, 457, 27, 523, 358, 129, 380, 65, 183, 39, 108, 30, 369, 1, 228, 298, 586, 277, 195, 517, 589, 507, 299, 249, 577, 362, 412, 401, 511, 524, 354, 199, 484, 334, 328, 135, 51, 82, 597, 238, 242, 477, 305, 181, 346, 174, 506, 293, 214, 57, 237, 384, 459, 49, 374, 263, 179, 254, 103, 268, 451, 405, 470, 279, 478, 446, 514, 315, 421, 425, 251, 210, 467, 544, 211, 585, 86, 513, 256, 476, 55, 386], -7917)\n",
      "\n",
      "Sample 2:\n",
      "([596, 68, 198, 542, 155, 60, 79, 219, 243, 18, 594, 595, 45, 47, 91, 313, 407, 81, 361, 465, 113, 78, 472, 529, 98, 417, 72, 140, 371, 75, 280, 267, 15, 74, 420, 123, 408, 160, 262, 110, 177, 28, 62, 463, 305, 477, 242, 238, 597, 82, 51, 135, 328, 334, 484, 199, 188, 490, 471, 403, 292, 561, 448, 525, 461, 382, 564, 171, 588, 510, 107, 147, 53, 63, 196, 303, 415, 319, 184, 317, 393, 434, 153, 136, 399, 567, 168, 114, 154, 240, 252, 96, 481, 557, 388, 593, 158, 142, 507, 354, 524, 511, 401, 412, 362, 577, 249, 299, 335, 69, 442, 120, 441, 232, 444, 535, 175, 225, 246, 288, 145, 411, 565, 516, 301, 159, 519, 462, 6, 433, 269, 93, 499, 274, 582, 32, 306, 36, 50, 502, 54, 318, 212, 378, 449, 530, 176, 169, 457, 27, 227, 90, 504, 131, 406, 10, 24, 40, 512, 330, 216, 92, 190, 341, 556, 340, 200, 124, 11, 67, 555, 132, 501, 106, 260, 363, 304, 531, 143, 97, 259, 87, 44, 206, 101, 414, 163, 209, 514, 315, 421, 58, 42, 368, 192, 333, 211, 544, 467, 210, 251, 425, 193, 521, 455, 297, 598, 331, 454, 543, 353, 20, 141, 545, 389, 590, 8, 491, 111, 61, 217, 398, 469, 488, 460, 116, 94, 474, 559, 247, 35, 326, 578, 528, 573, 351, 453, 220, 520, 150, 569, 493, 583, 88, 581, 447, 130, 254, 103, 268, 451, 405, 470, 279, 419, 144, 345, 482, 146, 302, 350, 241, 5, 185, 178, 275, 162, 558, 204, 429, 46, 12, 552, 329, 416, 137, 161, 230, 390, 2, 223, 33, 485, 73, 367, 56, 309, 394, 395, 450, 265, 478, 446, 475, 278, 574, 270, 536, 376, 509, 437, 533, 438, 70, 381, 591, 332, 397, 115, 205, 486, 95, 456, 323, 284, 148, 21, 19, 250, 134, 296, 285, 468, 226, 31, 377, 435, 364, 562, 494, 48, 245, 221, 522, 316, 289, 286, 118, 336, 549, 366, 431, 173, 500, 52, 338, 213, 458, 17, 375, 234, 496, 38, 498, 215, 553, 282, 239, 515, 418, 426, 84, 568, 396, 228, 298, 586, 281, 391, 445, 222, 294, 373, 348, 360, 37, 339, 322, 349, 13, 248, 14, 233, 523, 358, 129, 380, 65, 183, 257, 166, 25, 324, 314, 563, 432, 85, 89, 180, 258, 427, 277, 195, 517, 589, 410, 413, 71, 383, 566, 0, 224, 201, 369, 1, 356, 473, 372, 503, 464, 527, 290, 587, 560, 16, 117, 23, 4, 436, 424, 167, 76, 187, 126, 327, 359, 128, 539, 538, 164, 466, 64, 546, 570, 83, 273, 194, 152, 580, 357, 300, 344, 492, 182, 9, 43, 109, 151, 264, 508, 29, 400, 540, 276, 495, 208, 41, 105, 443, 497, 287, 261, 312, 307, 295, 479, 203, 423, 534, 283, 452, 235, 179, 263, 374, 49, 459, 384, 237, 57, 214, 293, 506, 174, 346, 181, 99, 156, 165, 125, 480, 59, 320, 138, 80, 22, 428, 133, 127, 236, 189, 308, 186, 392, 321, 505, 343, 311, 584, 579, 266, 547, 352, 191, 440, 576, 310, 112, 365, 537, 551, 26, 218, 370, 379, 430, 122, 489, 149, 255, 291, 387, 518, 404, 139, 102, 439, 77, 385, 271, 422, 548, 244, 202, 342, 66, 402, 119, 575, 325, 7, 231, 104, 347, 121, 170, 34, 207, 253, 197, 572, 39, 108, 30, 483, 409, 550, 571, 337, 355, 3, 554, 229, 487, 526, 172, 541, 157, 100, 272, 532, 592, 585, 86, 513, 256, 476, 55, 386], -8687)\n",
      "\n",
      "Sample 3:\n",
      "([596, 68, 403, 471, 490, 188, 472, 334, 484, 199, 354, 524, 511, 385, 77, 410, 413, 71, 383, 566, 0, 224, 427, 258, 180, 89, 85, 432, 563, 96, 481, 557, 388, 593, 158, 212, 318, 54, 502, 50, 36, 306, 32, 582, 274, 499, 93, 450, 265, 478, 446, 475, 278, 574, 270, 545, 141, 20, 353, 543, 454, 331, 598, 297, 455, 521, 193, 425, 381, 591, 332, 397, 115, 205, 486, 95, 456, 323, 284, 148, 21, 19, 250, 134, 296, 285, 468, 226, 31, 377, 435, 364, 562, 182, 9, 43, 109, 151, 343, 505, 321, 392, 156, 165, 125, 480, 59, 488, 460, 116, 94, 474, 559, 247, 422, 271, 401, 412, 362, 577, 249, 299, 335, 69, 442, 120, 441, 232, 444, 535, 175, 225, 246, 288, 101, 206, 328, 135, 51, 82, 597, 238, 242, 477, 305, 181, 346, 174, 506, 293, 214, 57, 137, 161, 230, 390, 2, 223, 33, 485, 73, 244, 202, 342, 66, 409, 483, 201, 281, 391, 445, 222, 294, 373, 348, 360, 37, 339, 322, 356, 320, 469, 398, 217, 61, 111, 421, 58, 42, 368, 192, 433, 6, 462, 519, 159, 301, 516, 565, 411, 145, 414, 163, 209, 514, 315, 491, 8, 590, 389, 536, 376, 509, 437, 533, 184, 317, 548, 367, 56, 309, 394, 330, 216, 92, 190, 341, 556, 340, 200, 124, 11, 67, 555, 132, 501, 106, 324, 99, 463, 62, 28, 177, 110, 262, 160, 408, 123, 420, 74, 15, 267, 280, 75, 371, 273, 26, 218, 370, 379, 430, 122, 489, 149, 255, 291, 387, 518, 404, 139, 102, 304, 453, 351, 573, 528, 578, 326, 35, 393, 434, 153, 136, 399, 567, 168, 114, 154, 240, 252, 314, 260, 363, 220, 520, 150, 569, 493, 583, 88, 581, 447, 130, 254, 103, 268, 451, 405, 470, 279, 419, 144, 345, 482, 146, 407, 81, 361, 465, 87, 44, 529, 98, 417, 72, 140, 194, 152, 580, 357, 300, 344, 492, 494, 48, 245, 221, 522, 316, 289, 286, 118, 336, 549, 366, 431, 173, 500, 52, 338, 213, 458, 17, 375, 234, 496, 38, 498, 215, 553, 282, 239, 515, 418, 426, 84, 568, 396, 349, 13, 248, 14, 233, 227, 90, 504, 131, 406, 10, 24, 40, 512, 395, 461, 382, 564, 171, 588, 510, 107, 147, 53, 63, 196, 219, 243, 18, 503, 372, 473, 138, 80, 22, 428, 133, 127, 236, 189, 308, 186, 25, 166, 257, 531, 143, 97, 259, 113, 78, 507, 142, 378, 449, 530, 176, 169, 457, 27, 523, 358, 129, 380, 65, 183, 39, 108, 30, 369, 1, 228, 298, 586, 277, 195, 517, 589, 272, 100, 157, 541, 162, 558, 204, 429, 46, 12, 552, 329, 416, 237, 384, 459, 49, 374, 263, 179, 290, 527, 464, 352, 191, 440, 584, 311, 264, 508, 29, 400, 540, 276, 495, 208, 41, 105, 443, 497, 287, 261, 312, 307, 295, 479, 203, 423, 534, 283, 452, 235, 587, 560, 16, 117, 23, 4, 436, 424, 167, 76, 187, 126, 327, 359, 128, 539, 538, 164, 466, 64, 546, 570, 211, 544, 467, 210, 251, 70, 438, 319, 415, 303, 79, 60, 155, 542, 198, 292, 561, 448, 525, 269, 333, 83, 551, 537, 365, 112, 310, 576, 579, 266, 547, 594, 595, 45, 47, 91, 313, 302, 350, 241, 5, 185, 178, 275, 172, 526, 487, 229, 554, 3, 355, 337, 571, 550, 402, 119, 575, 325, 7, 231, 104, 347, 121, 170, 34, 207, 253, 197, 572, 439, 532, 592, 585, 86, 513, 256, 476, 55, 386], -9654)\n",
      "\n",
      "Sample 4:\n",
      "([596, 361, 81, 180, 89, 85, 432, 563, 96, 481, 557, 388, 593, 158, 212, 318, 54, 502, 50, 36, 306, 32, 582, 274, 499, 93, 461, 382, 564, 171, 588, 510, 107, 147, 53, 63, 196, 219, 243, 18, 352, 191, 440, 584, 311, 264, 508, 29, 400, 540, 276, 495, 208, 41, 105, 403, 68, 465, 87, 44, 529, 98, 417, 72, 140, 194, 152, 580, 357, 300, 344, 492, 494, 48, 245, 221, 522, 449, 530, 176, 169, 457, 27, 523, 358, 129, 380, 65, 183, 39, 108, 30, 369, 1, 228, 298, 586, 277, 195, 517, 589, 410, 413, 71, 383, 566, 0, 224, 427, 262, 160, 408, 123, 420, 74, 15, 267, 280, 75, 371, 273, 26, 218, 370, 379, 13, 304, 453, 351, 573, 528, 578, 326, 35, 393, 434, 153, 136, 399, 567, 168, 114, 154, 240, 252, 314, 260, 363, 220, 520, 150, 569, 493, 583, 88, 581, 447, 257, 531, 143, 97, 259, 113, 78, 472, 177, 110, 258, 407, 146, 482, 345, 144, 419, 279, 470, 405, 451, 268, 430, 501, 106, 324, 25, 166, 130, 254, 103, 122, 489, 14, 248, 511, 401, 412, 362, 577, 249, 299, 335, 165, 156, 392, 321, 505, 201, 543, 353, 20, 141, 545, 270, 574, 278, 475, 446, 478, 265, 450, 395, 394, 309, 56, 367, 548, 422, 271, 387, 385, 291, 255, 149, 233, 227, 90, 504, 131, 406, 10, 24, 40, 512, 42, 368, 192, 333, 83, 551, 537, 365, 112, 310, 576, 579, 266, 547, 594, 595, 45, 491, 111, 61, 217, 398, 469, 488, 332, 397, 115, 205, 486, 95, 456, 323, 284, 148, 21, 19, 250, 134, 296, 285, 468, 226, 373, 348, 360, 37, 538, 164, 466, 64, 546, 570, 211, 544, 467, 210, 251, 425, 193, 521, 455, 297, 598, 331, 454, 281, 391, 445, 222, 294, 31, 377, 435, 364, 562, 182, 9, 43, 575, 119, 402, 550, 571, 436, 424, 167, 76, 187, 126, 327, 359, 128, 539, 339, 322, 349, 132, 555, 67, 11, 124, 200, 340, 556, 341, 190, 92, 442, 120, 441, 232, 444, 535, 175, 225, 246, 288, 145, 411, 565, 516, 301, 159, 519, 462, 6, 433, 269, 525, 448, 561, 292, 198, 127, 236, 189, 308, 186, 99, 463, 62, 28, 206, 101, 414, 163, 209, 514, 315, 421, 58, 330, 216, 69, 125, 480, 59, 320, 138, 80, 22, 203, 423, 534, 283, 452, 381, 591, 460, 116, 94, 474, 559, 79, 303, 415, 319, 184, 317, 247, 60, 155, 542, 133, 428, 479, 295, 307, 312, 261, 287, 497, 443, 471, 490, 188, 507, 142, 378, 316, 289, 286, 118, 336, 549, 366, 431, 173, 500, 52, 239, 282, 553, 215, 498, 38, 496, 234, 375, 17, 458, 213, 338, 515, 418, 426, 84, 568, 396, 356, 473, 372, 503, 464, 527, 290, 587, 560, 16, 117, 23, 4, 337, 355, 3, 554, 229, 487, 526, 172, 275, 178, 185, 5, 241, 350, 302, 313, 91, 47, 8, 590, 389, 536, 376, 509, 437, 533, 438, 70, 235, 179, 263, 374, 49, 459, 384, 237, 57, 214, 293, 506, 174, 346, 181, 305, 477, 242, 238, 597, 82, 51, 135, 328, 334, 484, 199, 354, 524, 102, 139, 404, 518, 77, 272, 100, 157, 541, 162, 558, 204, 429, 46, 12, 552, 329, 416, 137, 161, 230, 390, 2, 223, 33, 485, 73, 244, 202, 342, 66, 409, 483, 343, 151, 109, 325, 7, 231, 104, 347, 121, 170, 34, 207, 253, 197, 572, 439, 256, 513, 86, 585, 592, 532, 476, 55, 386], -8906)\n",
      "\n",
      "Sample 5:\n",
      "([596, 68, 403, 471, 490, 188, 507, 142, 378, 449, 530, 176, 169, 457, 27, 523, 358, 129, 380, 65, 183, 39, 108, 30, 369, 1, 228, 298, 586, 277, 195, 517, 589, 410, 413, 71, 383, 566, 0, 224, 427, 258, 180, 89, 85, 432, 563, 113, 259, 97, 143, 255, 291, 387, 518, 404, 139, 102, 304, 453, 351, 573, 528, 578, 326, 35, 393, 434, 153, 136, 399, 567, 168, 114, 154, 240, 252, 314, 260, 363, 220, 520, 150, 569, 493, 568, 84, 426, 418, 515, 239, 439, 112, 310, 576, 579, 266, 547, 561, 292, 198, 542, 155, 60, 135, 328, 334, 484, 199, 354, 423, 534, 283, 452, 235, 179, 263, 374, 401, 511, 524, 203, 479, 575, 119, 402, 501, 106, 324, 25, 166, 257, 531, 149, 483, 201, 281, 391, 445, 222, 294, 373, 348, 360, 319, 415, 303, 79, 51, 82, 4, 436, 424, 167, 76, 187, 126, 327, 359, 128, 539, 538, 164, 466, 64, 546, 570, 211, 365, 572, 197, 554, 3, 355, 337, 463, 99, 186, 308, 189, 236, 127, 133, 428, 22, 80, 138, 320, 109, 151, 343, 505, 321, 392, 156, 165, 125, 480, 59, 43, 9, 182, 562, 364, 31, 377, 435, 226, 231, 104, 347, 121, 170, 34, 207, 253, 175, 225, 246, 288, 145, 411, 565, 516, 301, 159, 519, 462, 6, 433, 269, 525, 448, 594, 595, 45, 47, 91, 313, 302, 350, 241, 5, 185, 178, 577, 249, 299, 335, 69, 442, 120, 441, 232, 444, 535, 229, 487, 526, 172, 275, 362, 412, 49, 459, 384, 237, 57, 214, 293, 506, 174, 346, 181, 305, 477, 242, 238, 597, 23, 117, 16, 560, 587, 254, 130, 447, 581, 88, 583, 396, 356, 473, 372, 503, 464, 527, 290, 103, 268, 451, 405, 470, 279, 419, 144, 345, 482, 146, 407, 81, 361, 465, 87, 44, 529, 98, 417, 72, 140, 194, 152, 580, 357, 300, 344, 492, 494, 48, 245, 221, 522, 316, 289, 286, 118, 32, 306, 36, 50, 502, 54, 318, 212, 158, 593, 388, 557, 481, 96, 78, 472, 206, 101, 414, 163, 209, 514, 315, 421, 58, 42, 368, 192, 333, 83, 551, 537, 544, 467, 210, 251, 425, 193, 521, 455, 297, 282, 499, 274, 582, 336, 549, 366, 431, 173, 500, 52, 338, 213, 458, 17, 375, 234, 496, 38, 498, 215, 553, 93, 461, 382, 564, 171, 588, 510, 107, 147, 53, 545, 157, 100, 272, 77, 385, 271, 422, 548, 367, 56, 598, 331, 454, 543, 353, 20, 141, 541, 162, 558, 204, 429, 46, 12, 552, 329, 416, 137, 161, 230, 390, 2, 223, 33, 485, 73, 244, 202, 438, 70, 474, 94, 116, 460, 488, 469, 398, 217, 61, 111, 491, 8, 590, 389, 536, 376, 509, 437, 533, 342, 66, 409, 489, 262, 160, 408, 123, 420, 74, 15, 267, 280, 75, 371, 273, 26, 218, 370, 379, 430, 287, 29, 400, 540, 276, 322, 339, 37, 184, 317, 247, 559, 381, 591, 332, 397, 115, 205, 486, 95, 456, 323, 284, 148, 21, 19, 250, 134, 296, 285, 468, 7, 325, 295, 307, 312, 261, 122, 110, 177, 28, 62, 571, 550, 132, 555, 67, 395, 450, 265, 478, 446, 475, 278, 574, 270, 63, 196, 219, 243, 18, 352, 191, 440, 584, 311, 264, 508, 497, 443, 105, 41, 208, 495, 349, 13, 248, 14, 233, 227, 90, 504, 131, 406, 10, 24, 40, 512, 330, 216, 92, 190, 341, 556, 340, 200, 124, 11, 394, 309, 532, 592, 585, 86, 513, 256, 476, 55, 386], -8759)\n",
      "\n"
     ]
    }
   ],
   "source": [
    "print(\"Sample 1:\")\n",
    "print(res_hm[(-1, 0.1)])\n",
    "print()\n",
    "\n",
    "print(\"Sample 2:\")\n",
    "print(res_hm[(-2, 0.1)])\n",
    "print()\n",
    "\n",
    "print(\"Sample 3:\")\n",
    "print(res_hm[(-5, 0.1)])\n",
    "print()\n",
    "\n",
    "print(\"Sample 4:\")\n",
    "print(res_hm[(-10, 0.1)])\n",
    "print()\n",
    "\n",
    "print(\"Sample 5:\")\n",
    "print(res_hm[(-100, 0.1)])\n",
    "print()"
   ]
  },
  {
   "cell_type": "markdown",
   "metadata": {},
   "source": [
    "#### Another way of generating neighbors\n",
    "\n",
    "In this part, we try another way of generating neighbors, which is \"exchange two\" method as described in the previous TSP class section. We want to know how different ways of generating neighbors will affect the results of Simulated Annealing algorithms with the same scheduling procedure. \n",
    "\n",
    "We run the same search code with different cooling rates and constants for initial temperature in order to compare the differences bewteen two different neighbor generation ways."
   ]
  },
  {
   "cell_type": "code",
   "execution_count": 21,
   "metadata": {},
   "outputs": [
    {
     "name": "stdout",
     "output_type": "stream",
     "text": [
      "The result found with constant -1 and cooling rate 0.1 is -8958\n",
      "The result found with constant -1 and cooling rate 0.01 is -709\n",
      "The result found with constant -1 and cooling rate 0.001 is -2310\n",
      "The result found with constant -1 and cooling rate 0.0001 is -6584\n",
      "The result found with constant -2 and cooling rate 0.1 is -8911\n",
      "The result found with constant -2 and cooling rate 0.01 is -634\n",
      "The result found with constant -2 and cooling rate 0.001 is -2297\n",
      "The result found with constant -2 and cooling rate 0.0001 is -6507\n",
      "The result found with constant -5 and cooling rate 0.1 is -8975\n",
      "The result found with constant -5 and cooling rate 0.01 is -545\n",
      "The result found with constant -5 and cooling rate 0.001 is -2399\n",
      "The result found with constant -5 and cooling rate 0.0001 is -6773\n",
      "The result found with constant -10 and cooling rate 0.1 is -8768\n",
      "The result found with constant -10 and cooling rate 0.01 is -708\n",
      "The result found with constant -10 and cooling rate 0.001 is -2397\n",
      "The result found with constant -10 and cooling rate 0.0001 is -6662\n",
      "The result found with constant -100 and cooling rate 0.1 is -8818\n",
      "The result found with constant -100 and cooling rate 0.01 is -538\n",
      "The result found with constant -100 and cooling rate 0.001 is -2287\n",
      "The result found with constant -100 and cooling rate 0.0001 is -6408\n"
     ]
    }
   ],
   "source": [
    "sa = SA(problem=tsp_problem_exchange_two)\n",
    "# in the result hashmap `res_hm`, the key is the tuple of constant and cooling rate we set, and the value is the tuple\n",
    "# of result state we found and the value of the result state.\n",
    "res_hm = {}\n",
    "\n",
    "for const in [-1, -2, -5, -10, -100]:\n",
    "    for cr in [0.1, 0.01, 0.001, 0.0001]:\n",
    "        sa.set_hyperparameter(constant=const, cooling_rate=cr)\n",
    "        res = sa.search()\n",
    "        res_hm[(const, cr)] = (res, tsp_problem_exchange_two.value(res)) \n",
    "        print(f\"The result found with constant {const} and cooling rate {cr} is {tsp_problem_exchange_two.value(res)}\")"
   ]
  },
  {
   "cell_type": "markdown",
   "metadata": {},
   "source": [
    "From the above result, we could see that although the best results also come with the largest cooling rate, the inflection point comes **earlier** with \"exchange two\" method. The constant for initial temperature still has relatively little influence on the final results.\n",
    "\n",
    "From $\\lambda = 0.01$ onwards, the results produced by Simulated Annealing with \"exchange two\" neighbor generating method increase significantly. Moreover, the results come from $\\lambda = 0.0001$ with \"exchange two\" method are much better than the ones with the same cooling rate but using 2-opt neighbor generating method.\n",
    "\n",
    "Although the results from cooling rate $\\lambda = 0.0001$ are still worse than the results from $\\lambda = 0.1$ (in this case we only search few steps around the suspected local maxima returned by greedy search algorithm), it is very close to the latter one.\n",
    "\n",
    "Since from $\\lambda = 0.01$ onwards the lower cooling rate we set the better results we get, we have reasons to believe that if we set the cooling rate smaller than 0.0001, maybe we could get a even better result. And below is one of the best result we found with small cooling rate which is comparable to the result found with cooling rate $\\lambda = 0.1$."
   ]
  },
  {
   "cell_type": "code",
   "execution_count": 27,
   "metadata": {},
   "outputs": [
    {
     "name": "stdout",
     "output_type": "stream",
     "text": [
      "The result found with constant -10 and cooling rate 1e-05 is -8202\n",
      "The result index list is: [596, 68, 520, 451, 405, 123, 489, 149, 71, 383, 522, 316, 289, 273, 26, 218, 370, 487, 229, 356, 473, 372, 459, 384, 593, 158, 212, 318, 542, 155, 532, 302, 350, 92, 190, 540, 276, 495, 282, 239, 511, 401, 412, 362, 577, 129, 380, 65, 127, 236, 374, 49, 490, 188, 507, 319, 184, 404, 139, 98, 417, 72, 255, 291, 107, 147, 53, 63, 28, 177, 197, 572, 439, 379, 430, 122, 470, 279, 246, 288, 481, 557, 388, 586, 277, 174, 346, 530, 176, 381, 591, 332, 365, 112, 310, 203, 423, 373, 503, 494, 48, 233, 227, 90, 504, 172, 526, 180, 89, 85, 484, 199, 563, 96, 314, 260, 531, 143, 432, 2, 223, 33, 101, 414, 163, 209, 514, 464, 527, 290, 587, 150, 569, 584, 311, 264, 508, 562, 387, 518, 237, 57, 589, 102, 304, 431, 173, 578, 326, 35, 560, 16, 117, 354, 524, 581, 447, 130, 307, 295, 479, 521, 455, 297, 187, 126, 327, 359, 128, 142, 378, 449, 111, 491, 110, 262, 160, 435, 364, 375, 234, 245, 221, 334, 145, 411, 565, 516, 301, 137, 161, 230, 390, 469, 398, 196, 219, 243, 18, 513, 256, 476, 55, 415, 339, 322, 363, 220, 179, 263, 286, 523, 358, 552, 329, 416, 403, 471, 67, 555, 132, 315, 421, 58, 42, 166, 257, 97, 259, 113, 78, 140, 194, 152, 547, 594, 443, 497, 287, 382, 564, 171, 588, 510, 249, 265, 450, 549, 366, 333, 83, 551, 537, 118, 336, 391, 445, 222, 294, 496, 38, 498, 348, 360, 37, 402, 119, 575, 325, 7, 231, 104, 559, 474, 94, 93, 461, 317, 208, 41, 59, 320, 138, 21, 19, 270, 574, 189, 308, 186, 106, 324, 25, 534, 283, 452, 235, 261, 312, 31, 377, 207, 253, 87, 44, 341, 556, 340, 200, 195, 517, 330, 216, 66, 409, 483, 159, 519, 462, 6, 168, 114, 554, 3, 355, 337, 410, 413, 529, 580, 357, 300, 344, 492, 29, 400, 164, 466, 64, 202, 342, 433, 269, 298, 458, 17, 444, 535, 175, 225, 376, 509, 99, 463, 62, 80, 22, 428, 133, 183, 39, 108, 30, 254, 103, 268, 592, 571, 550, 247, 485, 73, 244, 61, 368, 192, 598, 331, 280, 75, 371, 468, 226, 77, 272, 395, 394, 309, 56, 367, 548, 422, 472, 206, 419, 144, 349, 13, 248, 14, 210, 251, 436, 424, 167, 76, 305, 477, 242, 347, 121, 170, 34, 408, 407, 81, 361, 465, 427, 258, 100, 157, 541, 278, 475, 446, 478, 217, 241, 5, 185, 23, 4, 576, 579, 266, 299, 335, 69, 442, 154, 240, 169, 457, 27, 250, 134, 8, 590, 32, 582, 274, 515, 418, 420, 74, 15, 267, 328, 214, 293, 506, 393, 434, 493, 583, 88, 482, 146, 182, 9, 43, 82, 51, 135, 321, 392, 156, 369, 1, 228, 437, 533, 438, 454, 543, 353, 20, 252, 499, 60, 79, 303, 399, 567, 191, 440, 539, 538, 109, 50, 36, 306, 345, 271, 385, 131, 406, 10, 24, 40, 512, 178, 275, 544, 467, 352, 426, 84, 568, 396, 546, 570, 211, 165, 125, 480, 201, 281, 105, 95, 456, 323, 120, 441, 232, 566, 0, 224, 389, 536, 215, 553, 284, 148, 585, 86, 501, 47, 91, 313, 292, 198, 124, 11, 153, 136, 151, 343, 505, 500, 52, 338, 213, 238, 597, 115, 205, 486, 397, 525, 448, 561, 141, 545, 425, 193, 162, 558, 204, 429, 46, 12, 54, 502, 453, 351, 573, 528, 296, 285, 116, 460, 488, 595, 45, 181, 70, 386]\n"
     ]
    }
   ],
   "source": [
    "sa.set_hyperparameter(constant=-10, cooling_rate=0.00001)\n",
    "res = sa.search()\n",
    "print(f\"The result found with constant {-10} and cooling rate {0.00001} is {tsp_problem_exchange_two.value(res)}\")\n",
    "print(f\"The result index list is: {res}\")"
   ]
  }
 ],
 "metadata": {
  "colab": {
   "collapsed_sections": [],
   "provenance": []
  },
  "kernelspec": {
   "display_name": "Python 3 (ipykernel)",
   "language": "python",
   "name": "python3"
  },
  "language_info": {
   "codemirror_mode": {
    "name": "ipython",
    "version": 3
   },
   "file_extension": ".py",
   "mimetype": "text/x-python",
   "name": "python",
   "nbconvert_exporter": "python",
   "pygments_lexer": "ipython3",
   "version": "3.7.8"
  },
  "vscode": {
   "interpreter": {
    "hash": "8c15513000e9b1aafc2c9d9aa59a4469dae56d5c667cde04f926e98d41bd6c86"
   }
  }
 },
 "nbformat": 4,
 "nbformat_minor": 1
}
